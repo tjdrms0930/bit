{
  "nbformat": 4,
  "nbformat_minor": 0,
  "metadata": {
    "colab": {
      "provenance": [],
      "toc_visible": true,
      "authorship_tag": "ABX9TyPtLAfHFtvmF6kwi/kwsv/H",
      "include_colab_link": true
    },
    "kernelspec": {
      "name": "python3",
      "display_name": "Python 3"
    },
    "language_info": {
      "name": "python"
    }
  },
  "cells": [
    {
      "cell_type": "markdown",
      "metadata": {
        "id": "view-in-github",
        "colab_type": "text"
      },
      "source": [
        "<a href=\"https://colab.research.google.com/github/tjdrms0930/bit/blob/main/20221013_TEST.ipynb\" target=\"_parent\"><img src=\"https://colab.research.google.com/assets/colab-badge.svg\" alt=\"Open In Colab\"/></a>"
      ]
    },
    {
      "cell_type": "code",
      "execution_count": null,
      "metadata": {
        "id": "IHgO7hJroJUd"
      },
      "outputs": [],
      "source": [
        "path = '/content/train.csv'"
      ]
    },
    {
      "cell_type": "code",
      "source": [
        "import pandas as pd\n",
        "data=pd.read_csv(path)\n",
        "data"
      ],
      "metadata": {
        "colab": {
          "base_uri": "https://localhost:8080/",
          "height": 424
        },
        "id": "Enjzj1leqdej",
        "outputId": "3ec0d832-145a-48ab-b2bf-ea9d8d712cc3"
      },
      "execution_count": null,
      "outputs": [
        {
          "output_type": "execute_result",
          "data": {
            "text/plain": [
              "     PassengerId  Survived  Pclass  \\\n",
              "0              1         0       3   \n",
              "1              2         1       1   \n",
              "2              3         1       3   \n",
              "3              4         1       1   \n",
              "4              5         0       3   \n",
              "..           ...       ...     ...   \n",
              "886          887         0       2   \n",
              "887          888         1       1   \n",
              "888          889         0       3   \n",
              "889          890         1       1   \n",
              "890          891         0       3   \n",
              "\n",
              "                                                  Name     Sex   Age  SibSp  \\\n",
              "0                              Braund, Mr. Owen Harris    male  22.0      1   \n",
              "1    Cumings, Mrs. John Bradley (Florence Briggs Th...  female  38.0      1   \n",
              "2                               Heikkinen, Miss. Laina  female  26.0      0   \n",
              "3         Futrelle, Mrs. Jacques Heath (Lily May Peel)  female  35.0      1   \n",
              "4                             Allen, Mr. William Henry    male  35.0      0   \n",
              "..                                                 ...     ...   ...    ...   \n",
              "886                              Montvila, Rev. Juozas    male  27.0      0   \n",
              "887                       Graham, Miss. Margaret Edith  female  19.0      0   \n",
              "888           Johnston, Miss. Catherine Helen \"Carrie\"  female   NaN      1   \n",
              "889                              Behr, Mr. Karl Howell    male  26.0      0   \n",
              "890                                Dooley, Mr. Patrick    male  32.0      0   \n",
              "\n",
              "     Parch            Ticket     Fare Cabin Embarked  \n",
              "0        0         A/5 21171   7.2500   NaN        S  \n",
              "1        0          PC 17599  71.2833   C85        C  \n",
              "2        0  STON/O2. 3101282   7.9250   NaN        S  \n",
              "3        0            113803  53.1000  C123        S  \n",
              "4        0            373450   8.0500   NaN        S  \n",
              "..     ...               ...      ...   ...      ...  \n",
              "886      0            211536  13.0000   NaN        S  \n",
              "887      0            112053  30.0000   B42        S  \n",
              "888      2        W./C. 6607  23.4500   NaN        S  \n",
              "889      0            111369  30.0000  C148        C  \n",
              "890      0            370376   7.7500   NaN        Q  \n",
              "\n",
              "[891 rows x 12 columns]"
            ],
            "text/html": [
              "\n",
              "  <div id=\"df-0271dfe1-c5d7-4ceb-8f9f-39bad5d32b07\">\n",
              "    <div class=\"colab-df-container\">\n",
              "      <div>\n",
              "<style scoped>\n",
              "    .dataframe tbody tr th:only-of-type {\n",
              "        vertical-align: middle;\n",
              "    }\n",
              "\n",
              "    .dataframe tbody tr th {\n",
              "        vertical-align: top;\n",
              "    }\n",
              "\n",
              "    .dataframe thead th {\n",
              "        text-align: right;\n",
              "    }\n",
              "</style>\n",
              "<table border=\"1\" class=\"dataframe\">\n",
              "  <thead>\n",
              "    <tr style=\"text-align: right;\">\n",
              "      <th></th>\n",
              "      <th>PassengerId</th>\n",
              "      <th>Survived</th>\n",
              "      <th>Pclass</th>\n",
              "      <th>Name</th>\n",
              "      <th>Sex</th>\n",
              "      <th>Age</th>\n",
              "      <th>SibSp</th>\n",
              "      <th>Parch</th>\n",
              "      <th>Ticket</th>\n",
              "      <th>Fare</th>\n",
              "      <th>Cabin</th>\n",
              "      <th>Embarked</th>\n",
              "    </tr>\n",
              "  </thead>\n",
              "  <tbody>\n",
              "    <tr>\n",
              "      <th>0</th>\n",
              "      <td>1</td>\n",
              "      <td>0</td>\n",
              "      <td>3</td>\n",
              "      <td>Braund, Mr. Owen Harris</td>\n",
              "      <td>male</td>\n",
              "      <td>22.0</td>\n",
              "      <td>1</td>\n",
              "      <td>0</td>\n",
              "      <td>A/5 21171</td>\n",
              "      <td>7.2500</td>\n",
              "      <td>NaN</td>\n",
              "      <td>S</td>\n",
              "    </tr>\n",
              "    <tr>\n",
              "      <th>1</th>\n",
              "      <td>2</td>\n",
              "      <td>1</td>\n",
              "      <td>1</td>\n",
              "      <td>Cumings, Mrs. John Bradley (Florence Briggs Th...</td>\n",
              "      <td>female</td>\n",
              "      <td>38.0</td>\n",
              "      <td>1</td>\n",
              "      <td>0</td>\n",
              "      <td>PC 17599</td>\n",
              "      <td>71.2833</td>\n",
              "      <td>C85</td>\n",
              "      <td>C</td>\n",
              "    </tr>\n",
              "    <tr>\n",
              "      <th>2</th>\n",
              "      <td>3</td>\n",
              "      <td>1</td>\n",
              "      <td>3</td>\n",
              "      <td>Heikkinen, Miss. Laina</td>\n",
              "      <td>female</td>\n",
              "      <td>26.0</td>\n",
              "      <td>0</td>\n",
              "      <td>0</td>\n",
              "      <td>STON/O2. 3101282</td>\n",
              "      <td>7.9250</td>\n",
              "      <td>NaN</td>\n",
              "      <td>S</td>\n",
              "    </tr>\n",
              "    <tr>\n",
              "      <th>3</th>\n",
              "      <td>4</td>\n",
              "      <td>1</td>\n",
              "      <td>1</td>\n",
              "      <td>Futrelle, Mrs. Jacques Heath (Lily May Peel)</td>\n",
              "      <td>female</td>\n",
              "      <td>35.0</td>\n",
              "      <td>1</td>\n",
              "      <td>0</td>\n",
              "      <td>113803</td>\n",
              "      <td>53.1000</td>\n",
              "      <td>C123</td>\n",
              "      <td>S</td>\n",
              "    </tr>\n",
              "    <tr>\n",
              "      <th>4</th>\n",
              "      <td>5</td>\n",
              "      <td>0</td>\n",
              "      <td>3</td>\n",
              "      <td>Allen, Mr. William Henry</td>\n",
              "      <td>male</td>\n",
              "      <td>35.0</td>\n",
              "      <td>0</td>\n",
              "      <td>0</td>\n",
              "      <td>373450</td>\n",
              "      <td>8.0500</td>\n",
              "      <td>NaN</td>\n",
              "      <td>S</td>\n",
              "    </tr>\n",
              "    <tr>\n",
              "      <th>...</th>\n",
              "      <td>...</td>\n",
              "      <td>...</td>\n",
              "      <td>...</td>\n",
              "      <td>...</td>\n",
              "      <td>...</td>\n",
              "      <td>...</td>\n",
              "      <td>...</td>\n",
              "      <td>...</td>\n",
              "      <td>...</td>\n",
              "      <td>...</td>\n",
              "      <td>...</td>\n",
              "      <td>...</td>\n",
              "    </tr>\n",
              "    <tr>\n",
              "      <th>886</th>\n",
              "      <td>887</td>\n",
              "      <td>0</td>\n",
              "      <td>2</td>\n",
              "      <td>Montvila, Rev. Juozas</td>\n",
              "      <td>male</td>\n",
              "      <td>27.0</td>\n",
              "      <td>0</td>\n",
              "      <td>0</td>\n",
              "      <td>211536</td>\n",
              "      <td>13.0000</td>\n",
              "      <td>NaN</td>\n",
              "      <td>S</td>\n",
              "    </tr>\n",
              "    <tr>\n",
              "      <th>887</th>\n",
              "      <td>888</td>\n",
              "      <td>1</td>\n",
              "      <td>1</td>\n",
              "      <td>Graham, Miss. Margaret Edith</td>\n",
              "      <td>female</td>\n",
              "      <td>19.0</td>\n",
              "      <td>0</td>\n",
              "      <td>0</td>\n",
              "      <td>112053</td>\n",
              "      <td>30.0000</td>\n",
              "      <td>B42</td>\n",
              "      <td>S</td>\n",
              "    </tr>\n",
              "    <tr>\n",
              "      <th>888</th>\n",
              "      <td>889</td>\n",
              "      <td>0</td>\n",
              "      <td>3</td>\n",
              "      <td>Johnston, Miss. Catherine Helen \"Carrie\"</td>\n",
              "      <td>female</td>\n",
              "      <td>NaN</td>\n",
              "      <td>1</td>\n",
              "      <td>2</td>\n",
              "      <td>W./C. 6607</td>\n",
              "      <td>23.4500</td>\n",
              "      <td>NaN</td>\n",
              "      <td>S</td>\n",
              "    </tr>\n",
              "    <tr>\n",
              "      <th>889</th>\n",
              "      <td>890</td>\n",
              "      <td>1</td>\n",
              "      <td>1</td>\n",
              "      <td>Behr, Mr. Karl Howell</td>\n",
              "      <td>male</td>\n",
              "      <td>26.0</td>\n",
              "      <td>0</td>\n",
              "      <td>0</td>\n",
              "      <td>111369</td>\n",
              "      <td>30.0000</td>\n",
              "      <td>C148</td>\n",
              "      <td>C</td>\n",
              "    </tr>\n",
              "    <tr>\n",
              "      <th>890</th>\n",
              "      <td>891</td>\n",
              "      <td>0</td>\n",
              "      <td>3</td>\n",
              "      <td>Dooley, Mr. Patrick</td>\n",
              "      <td>male</td>\n",
              "      <td>32.0</td>\n",
              "      <td>0</td>\n",
              "      <td>0</td>\n",
              "      <td>370376</td>\n",
              "      <td>7.7500</td>\n",
              "      <td>NaN</td>\n",
              "      <td>Q</td>\n",
              "    </tr>\n",
              "  </tbody>\n",
              "</table>\n",
              "<p>891 rows × 12 columns</p>\n",
              "</div>\n",
              "      <button class=\"colab-df-convert\" onclick=\"convertToInteractive('df-0271dfe1-c5d7-4ceb-8f9f-39bad5d32b07')\"\n",
              "              title=\"Convert this dataframe to an interactive table.\"\n",
              "              style=\"display:none;\">\n",
              "        \n",
              "  <svg xmlns=\"http://www.w3.org/2000/svg\" height=\"24px\"viewBox=\"0 0 24 24\"\n",
              "       width=\"24px\">\n",
              "    <path d=\"M0 0h24v24H0V0z\" fill=\"none\"/>\n",
              "    <path d=\"M18.56 5.44l.94 2.06.94-2.06 2.06-.94-2.06-.94-.94-2.06-.94 2.06-2.06.94zm-11 1L8.5 8.5l.94-2.06 2.06-.94-2.06-.94L8.5 2.5l-.94 2.06-2.06.94zm10 10l.94 2.06.94-2.06 2.06-.94-2.06-.94-.94-2.06-.94 2.06-2.06.94z\"/><path d=\"M17.41 7.96l-1.37-1.37c-.4-.4-.92-.59-1.43-.59-.52 0-1.04.2-1.43.59L10.3 9.45l-7.72 7.72c-.78.78-.78 2.05 0 2.83L4 21.41c.39.39.9.59 1.41.59.51 0 1.02-.2 1.41-.59l7.78-7.78 2.81-2.81c.8-.78.8-2.07 0-2.86zM5.41 20L4 18.59l7.72-7.72 1.47 1.35L5.41 20z\"/>\n",
              "  </svg>\n",
              "      </button>\n",
              "      \n",
              "  <style>\n",
              "    .colab-df-container {\n",
              "      display:flex;\n",
              "      flex-wrap:wrap;\n",
              "      gap: 12px;\n",
              "    }\n",
              "\n",
              "    .colab-df-convert {\n",
              "      background-color: #E8F0FE;\n",
              "      border: none;\n",
              "      border-radius: 50%;\n",
              "      cursor: pointer;\n",
              "      display: none;\n",
              "      fill: #1967D2;\n",
              "      height: 32px;\n",
              "      padding: 0 0 0 0;\n",
              "      width: 32px;\n",
              "    }\n",
              "\n",
              "    .colab-df-convert:hover {\n",
              "      background-color: #E2EBFA;\n",
              "      box-shadow: 0px 1px 2px rgba(60, 64, 67, 0.3), 0px 1px 3px 1px rgba(60, 64, 67, 0.15);\n",
              "      fill: #174EA6;\n",
              "    }\n",
              "\n",
              "    [theme=dark] .colab-df-convert {\n",
              "      background-color: #3B4455;\n",
              "      fill: #D2E3FC;\n",
              "    }\n",
              "\n",
              "    [theme=dark] .colab-df-convert:hover {\n",
              "      background-color: #434B5C;\n",
              "      box-shadow: 0px 1px 3px 1px rgba(0, 0, 0, 0.15);\n",
              "      filter: drop-shadow(0px 1px 2px rgba(0, 0, 0, 0.3));\n",
              "      fill: #FFFFFF;\n",
              "    }\n",
              "  </style>\n",
              "\n",
              "      <script>\n",
              "        const buttonEl =\n",
              "          document.querySelector('#df-0271dfe1-c5d7-4ceb-8f9f-39bad5d32b07 button.colab-df-convert');\n",
              "        buttonEl.style.display =\n",
              "          google.colab.kernel.accessAllowed ? 'block' : 'none';\n",
              "\n",
              "        async function convertToInteractive(key) {\n",
              "          const element = document.querySelector('#df-0271dfe1-c5d7-4ceb-8f9f-39bad5d32b07');\n",
              "          const dataTable =\n",
              "            await google.colab.kernel.invokeFunction('convertToInteractive',\n",
              "                                                     [key], {});\n",
              "          if (!dataTable) return;\n",
              "\n",
              "          const docLinkHtml = 'Like what you see? Visit the ' +\n",
              "            '<a target=\"_blank\" href=https://colab.research.google.com/notebooks/data_table.ipynb>data table notebook</a>'\n",
              "            + ' to learn more about interactive tables.';\n",
              "          element.innerHTML = '';\n",
              "          dataTable['output_type'] = 'display_data';\n",
              "          await google.colab.output.renderOutput(dataTable, element);\n",
              "          const docLink = document.createElement('div');\n",
              "          docLink.innerHTML = docLinkHtml;\n",
              "          element.appendChild(docLink);\n",
              "        }\n",
              "      </script>\n",
              "    </div>\n",
              "  </div>\n",
              "  "
            ]
          },
          "metadata": {},
          "execution_count": 2
        }
      ]
    },
    {
      "cell_type": "markdown",
      "source": [
        "* 1번"
      ],
      "metadata": {
        "id": "CG78gHpQqpKV"
      }
    },
    {
      "cell_type": "code",
      "source": [
        "s_data = data[\"Survived\"]\n",
        "vc = s_data.value_counts()\n",
        "print(f\"전체인원 : {vc[0]} + {vc[1]} 사망자 수:{vc[0]} 생존자 수 : {vc[1]}\")"
      ],
      "metadata": {
        "colab": {
          "base_uri": "https://localhost:8080/"
        },
        "id": "rdzTeXyyqrMf",
        "outputId": "4932ffb3-091b-4a9e-940a-6ced562a0972"
      },
      "execution_count": null,
      "outputs": [
        {
          "output_type": "stream",
          "name": "stdout",
          "text": [
            "전체인원 : 549 + 342 사망자 수:549 생존자 수 : 342\n"
          ]
        }
      ]
    },
    {
      "cell_type": "markdown",
      "source": [
        "* 2번"
      ],
      "metadata": {
        "id": "KVREznFuq36C"
      }
    },
    {
      "cell_type": "code",
      "source": [
        "# !sudo apt-get install -y fonts-nanum \n",
        "# !sudo fc-cache -fv\n",
        "# !rm ~/.cache/matplotlib -rf"
      ],
      "metadata": {
        "colab": {
          "base_uri": "https://localhost:8080/"
        },
        "id": "onjuuKZorZKi",
        "outputId": "3a88a516-948a-4dd6-dd24-ebedc2575dd6"
      },
      "execution_count": null,
      "outputs": [
        {
          "output_type": "stream",
          "name": "stdout",
          "text": [
            "Reading package lists... Done\n",
            "Building dependency tree       \n",
            "Reading state information... Done\n",
            "fonts-nanum is already the newest version (20170925-1).\n",
            "The following package was automatically installed and is no longer required:\n",
            "  libnvidia-common-460\n",
            "Use 'sudo apt autoremove' to remove it.\n",
            "0 upgraded, 0 newly installed, 0 to remove and 12 not upgraded.\n",
            "/usr/share/fonts: caching, new cache contents: 0 fonts, 1 dirs\n",
            "/usr/share/fonts/truetype: caching, new cache contents: 0 fonts, 3 dirs\n",
            "/usr/share/fonts/truetype/humor-sans: caching, new cache contents: 1 fonts, 0 dirs\n",
            "/usr/share/fonts/truetype/liberation: caching, new cache contents: 16 fonts, 0 dirs\n",
            "/usr/share/fonts/truetype/nanum: caching, new cache contents: 10 fonts, 0 dirs\n",
            "/usr/local/share/fonts: caching, new cache contents: 0 fonts, 0 dirs\n",
            "/root/.local/share/fonts: skipping, no such directory\n",
            "/root/.fonts: skipping, no such directory\n",
            "/var/cache/fontconfig: cleaning cache directory\n",
            "/root/.cache/fontconfig: not cleaning non-existent cache directory\n",
            "/root/.fontconfig: not cleaning non-existent cache directory\n",
            "fc-cache: succeeded\n"
          ]
        }
      ]
    },
    {
      "cell_type": "code",
      "source": [
        "import matplotlib.pyplot as plt\n",
        "plt.rc('font', family='NanumBarunGothic')\n",
        "plt.title(\"테스트\")\n",
        "plt.show()"
      ],
      "metadata": {
        "colab": {
          "base_uri": "https://localhost:8080/",
          "height": 285
        },
        "id": "OxqMkLlkra1U",
        "outputId": "469cb77d-4e19-4c7b-e914-85d275df8f63"
      },
      "execution_count": null,
      "outputs": [
        {
          "output_type": "display_data",
          "data": {
            "text/plain": [
              "<Figure size 432x288 with 1 Axes>"
            ],
            "image/png": "[encoded data removed]"
          },
          "metadata": {}
        }
      ]
    },
    {
      "cell_type": "code",
      "source": [
        "import matplotlib.pyplot as plt\n",
        "plt.pie(vc,labels=[f\"사망자 수:{vc[0]}\",f\" 생존자 수 : {vc[1]}\"],autopct=\"%.2f%%\")\n",
        "plt.title('생존자 수와 사망자 수 분포')\n",
        "plt.savefig('2번.png')\n",
        "plt.show()"
      ],
      "metadata": {
        "colab": {
          "base_uri": "https://localhost:8080/",
          "height": 263
        },
        "id": "gvBOIMKcq4-1",
        "outputId": "89439caa-2b88-4628-ac43-884105e5bcc4"
      },
      "execution_count": null,
      "outputs": [
        {
          "output_type": "display_data",
          "data": {
            "text/plain": [
              "<Figure size 432x288 with 1 Axes>"
            ],
            "image/png": "[encoded data removed]"
          },
          "metadata": {}
        }
      ]
    },
    {
      "cell_type": "markdown",
      "source": [
        "* 3번"
      ],
      "metadata": {
        "id": "BXw8W8nJtpcB"
      }
    },
    {
      "cell_type": "code",
      "source": [
        "for col in data.columns:\n",
        "  print(\"===\",col)\n",
        "  cins = data[col].isnull()\n",
        "  print(cins.value_counts())"
      ],
      "metadata": {
        "colab": {
          "base_uri": "https://localhost:8080/"
        },
        "id": "nFSJsTMVtqYZ",
        "outputId": "98869170-123e-4ed6-cffe-d368617db634"
      },
      "execution_count": null,
      "outputs": [
        {
          "output_type": "stream",
          "name": "stdout",
          "text": [
            "=== PassengerId\n",
            "False    891\n",
            "Name: PassengerId, dtype: int64\n",
            "=== Survived\n",
            "False    891\n",
            "Name: Survived, dtype: int64\n",
            "=== Pclass\n",
            "False    891\n",
            "Name: Pclass, dtype: int64\n",
            "=== Name\n",
            "False    891\n",
            "Name: Name, dtype: int64\n",
            "=== Sex\n",
            "False    891\n",
            "Name: Sex, dtype: int64\n",
            "=== Age\n",
            "False    714\n",
            "True     177\n",
            "Name: Age, dtype: int64\n",
            "=== SibSp\n",
            "False    891\n",
            "Name: SibSp, dtype: int64\n",
            "=== Parch\n",
            "False    891\n",
            "Name: Parch, dtype: int64\n",
            "=== Ticket\n",
            "False    891\n",
            "Name: Ticket, dtype: int64\n",
            "=== Fare\n",
            "False    891\n",
            "Name: Fare, dtype: int64\n",
            "=== Cabin\n",
            "True     687\n",
            "False    204\n",
            "Name: Cabin, dtype: int64\n",
            "=== Embarked\n",
            "False    889\n",
            "True       2\n",
            "Name: Embarked, dtype: int64\n"
          ]
        }
      ]
    },
    {
      "cell_type": "code",
      "source": [
        "data.info()"
      ],
      "metadata": {
        "colab": {
          "base_uri": "https://localhost:8080/"
        },
        "id": "21b69GXAtrhI",
        "outputId": "c2785ba3-9527-464a-ed4c-30a9b0168c5d"
      },
      "execution_count": null,
      "outputs": [
        {
          "output_type": "stream",
          "name": "stdout",
          "text": [
            "<class 'pandas.core.frame.DataFrame'>\n",
            "RangeIndex: 891 entries, 0 to 890\n",
            "Data columns (total 12 columns):\n",
            " #   Column       Non-Null Count  Dtype  \n",
            "---  ------       --------------  -----  \n",
            " 0   PassengerId  891 non-null    int64  \n",
            " 1   Survived     891 non-null    int64  \n",
            " 2   Pclass       891 non-null    int64  \n",
            " 3   Name         891 non-null    object \n",
            " 4   Sex          891 non-null    object \n",
            " 5   Age          714 non-null    float64\n",
            " 6   SibSp        891 non-null    int64  \n",
            " 7   Parch        891 non-null    int64  \n",
            " 8   Ticket       891 non-null    object \n",
            " 9   Fare         891 non-null    float64\n",
            " 10  Cabin        204 non-null    object \n",
            " 11  Embarked     889 non-null    object \n",
            "dtypes: float64(2), int64(5), object(5)\n",
            "memory usage: 83.7+ KB\n"
          ]
        }
      ]
    },
    {
      "cell_type": "markdown",
      "source": [
        "* 4번"
      ],
      "metadata": {
        "id": "qjzHjPlZvBj5"
      }
    },
    {
      "cell_type": "code",
      "source": [
        "s_data = data[\"Pclass\"]\n",
        "vc1 = s_data.value_counts()\n",
        "print(f\"1등급 : {vc1[1]} 2등급 : {vc1[2]} 3등급 : {vc1[3]}\")"
      ],
      "metadata": {
        "colab": {
          "base_uri": "https://localhost:8080/"
        },
        "id": "xAVbVhEyvKZR",
        "outputId": "e02ab59c-3b0a-485e-b0f1-aa27e45fc38e"
      },
      "execution_count": null,
      "outputs": [
        {
          "output_type": "stream",
          "name": "stdout",
          "text": [
            "1등급 : 216 2등급 : 184 3등급 : 491\n"
          ]
        }
      ]
    },
    {
      "cell_type": "code",
      "source": [
        "plt.pie(vc1,labels=[f\"1등급 : {vc1[1]}\",f\" 2등급 : {vc1[2]}\", f\"3등급 : {vc1[3]}\"],autopct=\"%.2f%%\")\n",
        "plt.title('등급 별 승객 수')\n",
        "plt.savefig('4번.png')\n",
        "plt.show()"
      ],
      "metadata": {
        "colab": {
          "base_uri": "https://localhost:8080/",
          "height": 411
        },
        "id": "2FtBrT8Ou-gx",
        "outputId": "f8c5575e-0351-4465-9af7-80cfb77b1cc0"
      },
      "execution_count": null,
      "outputs": [
        {
          "output_type": "stream",
          "name": "stderr",
          "text": [
            "/usr/local/lib/python3.7/dist-packages/matplotlib/backends/backend_agg.py:214: RuntimeWarning: Glyph 46321 missing from current font.\n",
            "  font.set_text(s, 0.0, flags=flags)\n",
            "/usr/local/lib/python3.7/dist-packages/matplotlib/backends/backend_agg.py:214: RuntimeWarning: Glyph 44553 missing from current font.\n",
            "  font.set_text(s, 0.0, flags=flags)\n",
            "/usr/local/lib/python3.7/dist-packages/matplotlib/backends/backend_agg.py:183: RuntimeWarning: Glyph 46321 missing from current font.\n",
            "  font.set_text(s, 0, flags=flags)\n",
            "/usr/local/lib/python3.7/dist-packages/matplotlib/backends/backend_agg.py:183: RuntimeWarning: Glyph 44553 missing from current font.\n",
            "  font.set_text(s, 0, flags=flags)\n"
          ]
        },
        {
          "output_type": "display_data",
          "data": {
            "text/plain": [
              "<Figure size 432x288 with 1 Axes>"
            ],
            "image/png": "[encoded data removed]"
          },
          "metadata": {}
        }
      ]
    },
    {
      "cell_type": "markdown",
      "source": [
        "* 6번"
      ],
      "metadata": {
        "id": "8o6Qj8doxMN4"
      }
    },
    {
      "cell_type": "code",
      "source": [
        "data['Name']"
      ],
      "metadata": {
        "colab": {
          "base_uri": "https://localhost:8080/"
        },
        "id": "OCJlwb5LxlXn",
        "outputId": "bf805466-a883-40a2-e792-8e7abc5bc750"
      },
      "execution_count": null,
      "outputs": [
        {
          "output_type": "execute_result",
          "data": {
            "text/plain": [
              "0                                Braund, Mr. Owen Harris\n",
              "1      Cumings, Mrs. John Bradley (Florence Briggs Th...\n",
              "2                                 Heikkinen, Miss. Laina\n",
              "3           Futrelle, Mrs. Jacques Heath (Lily May Peel)\n",
              "4                               Allen, Mr. William Henry\n",
              "                             ...                        \n",
              "886                                Montvila, Rev. Juozas\n",
              "887                         Graham, Miss. Margaret Edith\n",
              "888             Johnston, Miss. Catherine Helen \"Carrie\"\n",
              "889                                Behr, Mr. Karl Howell\n",
              "890                                  Dooley, Mr. Patrick\n",
              "Name: Name, Length: 891, dtype: object"
            ]
          },
          "metadata": {},
          "execution_count": 17
        }
      ]
    },
    {
      "cell_type": "code",
      "source": [
        "data['Name_fix'] = data['Name'].str.extract('( [A-Z]+\\w*)', expand=False).str.strip()"
      ],
      "metadata": {
        "id": "SyW7Sl9hxqMZ"
      },
      "execution_count": null,
      "outputs": []
    },
    {
      "cell_type": "code",
      "source": [
        "data['Name_fix'].value_counts()"
      ],
      "metadata": {
        "colab": {
          "base_uri": "https://localhost:8080/"
        },
        "id": "AwfHH6Dbxv-f",
        "outputId": "d4b0a80a-aa2c-49cb-b4a4-5e95a61b26fd"
      },
      "execution_count": null,
      "outputs": [
        {
          "output_type": "execute_result",
          "data": {
            "text/plain": [
              "Mr             503\n",
              "Miss           179\n",
              "Mrs            121\n",
              "Master          40\n",
              "Dr               7\n",
              "Rev              6\n",
              "Impe             3\n",
              "Planke           3\n",
              "Mlle             2\n",
              "Castellana       2\n",
              "Major            2\n",
              "Col              2\n",
              "Gordon           2\n",
              "Billiard         1\n",
              "Melkebeke        1\n",
              "More             1\n",
              "Jonkheer         1\n",
              "Shawah           1\n",
              "Countess         1\n",
              "Velde            1\n",
              "Capt             1\n",
              "Manent           1\n",
              "Messemaeker      1\n",
              "Walle            1\n",
              "Ms               1\n",
              "Mme              1\n",
              "Carlo            1\n",
              "Steen            1\n",
              "Mulder           1\n",
              "Pelsmaeker       1\n",
              "Don              1\n",
              "Cruyssen         1\n",
              "Name: Name_fix, dtype: int64"
            ]
          },
          "metadata": {},
          "execution_count": 19
        }
      ]
    },
    {
      "cell_type": "code",
      "source": [
        "import numpy as np\n",
        "data['Name_fix'] = np.where(data['Name_fix'].isin(['Mr','Miss','Mrs','Master','Dr']), data['Name_fix'], 'ETC')\n",
        "data['Name_fix'].value_counts()"
      ],
      "metadata": {
        "colab": {
          "base_uri": "https://localhost:8080/"
        },
        "id": "dHUPeD6_x1D-",
        "outputId": "18c9b850-d1ec-4d58-e86e-cc740e0ae144"
      },
      "execution_count": null,
      "outputs": [
        {
          "output_type": "execute_result",
          "data": {
            "text/plain": [
              "Mr        503\n",
              "Miss      179\n",
              "Mrs       121\n",
              "ETC        41\n",
              "Master     40\n",
              "Dr          7\n",
              "Name: Name_fix, dtype: int64"
            ]
          },
          "metadata": {},
          "execution_count": 20
        }
      ]
    },
    {
      "cell_type": "code",
      "source": [
        "def bar_df(df,colname):\n",
        "    surv = df[df['Survived']==1][colname].value_counts()\n",
        "    dead = df[df['Survived']==0][colname].value_counts()\n",
        "    tt = pd.DataFrame([surv,dead], index=['Survived','dead'])\n",
        "    return tt\n",
        "\n",
        "plt.figure(figsize=(7,6))\n",
        "bar_df(data,'Name_fix').plot(kind='bar')\n",
        "plt.show()"
      ],
      "metadata": {
        "colab": {
          "base_uri": "https://localhost:8080/",
          "height": 313
        },
        "id": "THlJbHU2yhpA",
        "outputId": "fa221cbf-e037-4f1d-ce84-0422b82c1ad4"
      },
      "execution_count": null,
      "outputs": [
        {
          "output_type": "display_data",
          "data": {
            "text/plain": [
              "<Figure size 504x432 with 0 Axes>"
            ]
          },
          "metadata": {}
        },
        {
          "output_type": "display_data",
          "data": {
            "text/plain": [
              "<Figure size 432x288 with 1 Axes>"
            ],
            "image/png": "[encoded data removed]"
          },
          "metadata": {
            "needs_background": "light"
          }
        }
      ]
    },
    {
      "cell_type": "code",
      "source": [
        "locales = ['Mr','Mrs','Miss','Master','Dr','ETC']\n",
        "incomes = [],1200,800,2300,1500]\n",
        "es = [0.05,0.05,0.05,0.05,0.05]\n",
        "plt.pie(incomes,labels=locales, explode=es)\n",
        "plt.title(\"지역별 매출\")\n",
        "plt.show()"
      ],
      "metadata": {
        "id": "rbaBzdu_yqbW"
      },
      "execution_count": null,
      "outputs": []
    },
    {
      "cell_type": "code",
      "source": [
        "p_data = data['Sex']\n",
        "pvc = p_data.value_counts().sort_index()\n",
        "for index, value in zip(pvc.index, pvc.values ):\n",
        "  print(index,':',value)"
      ],
      "metadata": {
        "colab": {
          "base_uri": "https://localhost:8080/"
        },
        "id": "EVz3K1Nx1zRG",
        "outputId": "cbdeee65-2956-4e0e-b7dd-9cb36ac0a047"
      },
      "execution_count": null,
      "outputs": [
        {
          "output_type": "stream",
          "name": "stdout",
          "text": [
            "female : 314\n",
            "male : 577\n"
          ]
        }
      ]
    },
    {
      "cell_type": "code",
      "source": [
        "plt.pie(pvc.values,labels = pvc.index,autopct=\"%.2f%%\")\n",
        "plt.title('성별에 따른 승객 수 분포')\n",
        "plt.savefig('8번.png')\n",
        "plt.show()"
      ],
      "metadata": {
        "colab": {
          "base_uri": "https://localhost:8080/",
          "height": 998
        },
        "id": "bTWY7emy15sl",
        "outputId": "c4bee3ae-1d67-4728-ea6c-8136cd3d256d"
      },
      "execution_count": 81,
      "outputs": [
        {
          "output_type": "stream",
          "name": "stderr",
          "text": [
            "/usr/local/lib/python3.7/dist-packages/matplotlib/backends/backend_agg.py:214: RuntimeWarning: Glyph 49457 missing from current font.\n",
            "  font.set_text(s, 0.0, flags=flags)\n",
            "/usr/local/lib/python3.7/dist-packages/matplotlib/backends/backend_agg.py:214: RuntimeWarning: Glyph 48324 missing from current font.\n",
            "  font.set_text(s, 0.0, flags=flags)\n",
            "/usr/local/lib/python3.7/dist-packages/matplotlib/backends/backend_agg.py:214: RuntimeWarning: Glyph 50640 missing from current font.\n",
            "  font.set_text(s, 0.0, flags=flags)\n",
            "/usr/local/lib/python3.7/dist-packages/matplotlib/backends/backend_agg.py:214: RuntimeWarning: Glyph 46384 missing from current font.\n",
            "  font.set_text(s, 0.0, flags=flags)\n",
            "/usr/local/lib/python3.7/dist-packages/matplotlib/backends/backend_agg.py:214: RuntimeWarning: Glyph 47480 missing from current font.\n",
            "  font.set_text(s, 0.0, flags=flags)\n",
            "/usr/local/lib/python3.7/dist-packages/matplotlib/backends/backend_agg.py:214: RuntimeWarning: Glyph 49849 missing from current font.\n",
            "  font.set_text(s, 0.0, flags=flags)\n",
            "/usr/local/lib/python3.7/dist-packages/matplotlib/backends/backend_agg.py:214: RuntimeWarning: Glyph 44061 missing from current font.\n",
            "  font.set_text(s, 0.0, flags=flags)\n",
            "/usr/local/lib/python3.7/dist-packages/matplotlib/backends/backend_agg.py:214: RuntimeWarning: Glyph 49688 missing from current font.\n",
            "  font.set_text(s, 0.0, flags=flags)\n",
            "/usr/local/lib/python3.7/dist-packages/matplotlib/backends/backend_agg.py:214: RuntimeWarning: Glyph 48516 missing from current font.\n",
            "  font.set_text(s, 0.0, flags=flags)\n",
            "/usr/local/lib/python3.7/dist-packages/matplotlib/backends/backend_agg.py:214: RuntimeWarning: Glyph 54252 missing from current font.\n",
            "  font.set_text(s, 0.0, flags=flags)\n",
            "/usr/local/lib/python3.7/dist-packages/matplotlib/backends/backend_agg.py:183: RuntimeWarning: Glyph 49457 missing from current font.\n",
            "  font.set_text(s, 0, flags=flags)\n",
            "/usr/local/lib/python3.7/dist-packages/matplotlib/backends/backend_agg.py:183: RuntimeWarning: Glyph 48324 missing from current font.\n",
            "  font.set_text(s, 0, flags=flags)\n",
            "/usr/local/lib/python3.7/dist-packages/matplotlib/backends/backend_agg.py:183: RuntimeWarning: Glyph 50640 missing from current font.\n",
            "  font.set_text(s, 0, flags=flags)\n",
            "/usr/local/lib/python3.7/dist-packages/matplotlib/backends/backend_agg.py:183: RuntimeWarning: Glyph 46384 missing from current font.\n",
            "  font.set_text(s, 0, flags=flags)\n",
            "/usr/local/lib/python3.7/dist-packages/matplotlib/backends/backend_agg.py:183: RuntimeWarning: Glyph 47480 missing from current font.\n",
            "  font.set_text(s, 0, flags=flags)\n",
            "/usr/local/lib/python3.7/dist-packages/matplotlib/backends/backend_agg.py:183: RuntimeWarning: Glyph 49849 missing from current font.\n",
            "  font.set_text(s, 0, flags=flags)\n",
            "/usr/local/lib/python3.7/dist-packages/matplotlib/backends/backend_agg.py:183: RuntimeWarning: Glyph 44061 missing from current font.\n",
            "  font.set_text(s, 0, flags=flags)\n",
            "/usr/local/lib/python3.7/dist-packages/matplotlib/backends/backend_agg.py:183: RuntimeWarning: Glyph 49688 missing from current font.\n",
            "  font.set_text(s, 0, flags=flags)\n",
            "/usr/local/lib/python3.7/dist-packages/matplotlib/backends/backend_agg.py:183: RuntimeWarning: Glyph 48516 missing from current font.\n",
            "  font.set_text(s, 0, flags=flags)\n",
            "/usr/local/lib/python3.7/dist-packages/matplotlib/backends/backend_agg.py:183: RuntimeWarning: Glyph 54252 missing from current font.\n",
            "  font.set_text(s, 0, flags=flags)\n"
          ]
        },
        {
          "output_type": "display_data",
          "data": {
            "text/plain": [
              "<Figure size 432x288 with 1 Axes>"
            ],
            "image/png": "[encoded data removed]"
          },
          "metadata": {}
        }
      ]
    },
    {
      "cell_type": "code",
      "source": [
        "p_data = data['Sex']\n",
        "pvc = p_data.value_counts().sort_index()\n",
        "for index, value in zip(pvc.index, pvc.values ):\n",
        "  print(index,':',value)"
      ],
      "metadata": {
        "colab": {
          "base_uri": "https://localhost:8080/"
        },
        "id": "3-U-ytiQ5hT2",
        "outputId": "86198b07-6d6e-4905-e649-b07632e67803"
      },
      "execution_count": null,
      "outputs": [
        {
          "output_type": "stream",
          "name": "stdout",
          "text": [
            "female : 314\n",
            "male : 577\n"
          ]
        }
      ]
    },
    {
      "cell_type": "code",
      "source": [
        "plt.pie(pvc.values,labels = pvc.index,autopct=\"%.2f%%\")\n",
        "plt.title('성별 승객 수 분포')\n",
        "plt.show()"
      ],
      "metadata": {
        "colab": {
          "base_uri": "https://localhost:8080/",
          "height": 263
        },
        "id": "-KXgS9B-5q3T",
        "outputId": "46257f84-b76c-40fb-f8b6-c62722176bcf"
      },
      "execution_count": null,
      "outputs": [
        {
          "output_type": "display_data",
          "data": {
            "text/plain": [
              "<Figure size 432x288 with 1 Axes>"
            ],
            "image/png": "[encoded data removed]"
          },
          "metadata": {}
        }
      ]
    },
    {
      "cell_type": "code",
      "source": [
        "p_data = data['Parch']\n",
        "pvc = p_data.value_counts().sort_index()\n",
        "for index, value in zip(pvc.index, pvc.values ):\n",
        "  print(index,':',value)"
      ],
      "metadata": {
        "colab": {
          "base_uri": "https://localhost:8080/"
        },
        "id": "ruzhuWrc-M7a",
        "outputId": "c0d91e49-cc26-4761-e65d-74512e2a702f"
      },
      "execution_count": null,
      "outputs": [
        {
          "output_type": "stream",
          "name": "stdout",
          "text": [
            "0 : 678\n",
            "1 : 118\n",
            "2 : 80\n",
            "3 : 5\n",
            "4 : 4\n",
            "5 : 5\n",
            "6 : 1\n"
          ]
        }
      ]
    },
    {
      "cell_type": "code",
      "source": [
        "plt.pie(pvc.values,labels = pvc.index,autopct=\"%.f%%\")\n",
        "plt.title('Parch 승객 수 분포')\n",
        "plt.savefig('14.png')\n",
        "plt.show()"
      ],
      "metadata": {
        "colab": {
          "base_uri": "https://localhost:8080/",
          "height": 263
        },
        "id": "IYgWesos-ZYB",
        "outputId": "86afdb2f-13be-470d-9c95-cf51c29552b6"
      },
      "execution_count": null,
      "outputs": [
        {
          "output_type": "display_data",
          "data": {
            "text/plain": [
              "<Figure size 432x288 with 1 Axes>"
            ],
            "image/png": "[encoded data removed]"
          },
          "metadata": {}
        }
      ]
    },
    {
      "cell_type": "code",
      "source": [
        "p_alive_arr=np.zeros(len(pvc))\n",
        "p_dead_arr = np.zeros(len(pvc))\n",
        "for i in range(len(data)):\n",
        "  ci = p_data[i]-1\n",
        "  if s_data[i]==0:\n",
        "    p_dead_arr[ci]+=1\n",
        "  else:\n",
        "    p_alive_arr[ci]+=1\n",
        "print(p_alive_arr,p_dead_arr)"
      ],
      "metadata": {
        "colab": {
          "base_uri": "https://localhost:8080/"
        },
        "id": "BYCPZi98B8HI",
        "outputId": "b8b2026c-efba-4ed5-e314-32af9145b8a1"
      },
      "execution_count": null,
      "outputs": [
        {
          "output_type": "stream",
          "name": "stdout",
          "text": [
            "[118.  80.   5.   4.   5.   1.   0.] [  0.   0.   0.   0.   0.   0. 678.]\n"
          ]
        }
      ]
    },
    {
      "cell_type": "code",
      "source": [
        "# Survived 보기 쉽게 변환\n",
        "data['Survived'] = data['Survived'].apply(lambda x: '생존자' if x==1 else '사망자')\n",
        "\n",
        "# Cabin 알파벳만 추출하기\n",
        "data['Cabin'].fillna(0, inplace=True)\n",
        "data['Cabin'] = data['Cabin'].apply(lambda x: x[:1] if type(x)==str else str(x))\n",
        "\n",
        "# plotting\n",
        "f, ax = plt.subplots(1,2,figsize=(15, 5))\n",
        "sns.set_theme(style=\"ticks\")\n",
        "sns.histplot(data, x=\"Pclass\", hue=\"Survived\", multiple=\"stack\", palette=\"light:m_r\", edgecolor=\".3\",linewidth=.8, ax=ax[0])\n",
        "sns.histplot(data.query(\"Cabin != '0'\"), x=\"Cabin\", hue=\"Pclass\", multiple=\"stack\", palette=\"light:b_r\", edgecolor=\".3\",linewidth=.8,shrink=0.5, ax=ax[1])\n",
        "ax[0].set_xticks([1,2,3])\n",
        "\n",
        "ax[0].set_title('Pclass per Survivied', fontsize=20)\n",
        "ax[1].set_title('Cabin per Pclass', fontsize=20)"
      ],
      "metadata": {
        "colab": {
          "base_uri": "https://localhost:8080/",
          "height": 580
        },
        "id": "JzyiqNarClCH",
        "outputId": "6e61c64c-8633-43e2-9284-a914934265fe"
      },
      "execution_count": null,
      "outputs": [
        {
          "output_type": "execute_result",
          "data": {
            "text/plain": [
              "Text(0.5, 1.0, 'Cabin per Pclass')"
            ]
          },
          "metadata": {},
          "execution_count": 71
        },
        {
          "output_type": "stream",
          "name": "stderr",
          "text": [
            "/usr/local/lib/python3.7/dist-packages/matplotlib/backends/backend_agg.py:214: RuntimeWarning: Glyph 49324 missing from current font.\n",
            "  font.set_text(s, 0.0, flags=flags)\n",
            "/usr/local/lib/python3.7/dist-packages/matplotlib/backends/backend_agg.py:214: RuntimeWarning: Glyph 47581 missing from current font.\n",
            "  font.set_text(s, 0.0, flags=flags)\n",
            "/usr/local/lib/python3.7/dist-packages/matplotlib/backends/backend_agg.py:214: RuntimeWarning: Glyph 51088 missing from current font.\n",
            "  font.set_text(s, 0.0, flags=flags)\n",
            "/usr/local/lib/python3.7/dist-packages/matplotlib/backends/backend_agg.py:183: RuntimeWarning: Glyph 49324 missing from current font.\n",
            "  font.set_text(s, 0, flags=flags)\n",
            "/usr/local/lib/python3.7/dist-packages/matplotlib/backends/backend_agg.py:183: RuntimeWarning: Glyph 47581 missing from current font.\n",
            "  font.set_text(s, 0, flags=flags)\n",
            "/usr/local/lib/python3.7/dist-packages/matplotlib/backends/backend_agg.py:183: RuntimeWarning: Glyph 51088 missing from current font.\n",
            "  font.set_text(s, 0, flags=flags)\n"
          ]
        },
        {
          "output_type": "display_data",
          "data": {
            "text/plain": [
              "<Figure size 1080x360 with 2 Axes>"
            ],
            "image/png": "[encoded data removed]"
          },
          "metadata": {}
        }
      ]
    },
    {
      "cell_type": "code",
      "source": [
        "data['Initial']=0\n",
        "for i in data:\n",
        "    data['Initial']=data.Name.str.extract('([A-Za-z]+)\\.')\n",
        "data['Initial'].replace(['Mlle','Mme','Ms','Dr','Major','Lady','Countess','Jonkheer','Col','Rev','Capt','Sir','Don'],['Miss','Miss','Miss','Dr','Mr','Mrs','Mrs','Etc','Etc','Etc','Mr','Mr','Mr'],inplace=True)\n",
        "\n",
        "# plotting\n",
        "f, ax = plt.subplots(1,2,figsize=(15, 5))\n",
        "sns.set_theme(style=\"ticks\")\n",
        "sns.histplot(data, x=\"Initial\", hue=\"Survived\", multiple=\"stack\", palette=\"light:m_r\", edgecolor=\".3\",linewidth=.8, shrink=0.5, ax=ax[0])\n",
        "sns.boxplot(data=data, x=\"Initial\", y=\"Age\",ax=ax[1])\n",
        "\n",
        "ax[0].set_title('호칭에 따른 생존자', fontsize=20)\n",
        "ax[1].set_title('Initial per Age', fontsize=20)"
      ],
      "metadata": {
        "colab": {
          "base_uri": "https://localhost:8080/",
          "height": 729
        },
        "id": "DXZLxnmdIEr1",
        "outputId": "a93dede0-abdf-4802-e057-05131dd69689"
      },
      "execution_count": null,
      "outputs": [
        {
          "output_type": "execute_result",
          "data": {
            "text/plain": [
              "Text(0.5, 1.0, 'Initial per Age')"
            ]
          },
          "metadata": {},
          "execution_count": 70
        },
        {
          "output_type": "stream",
          "name": "stderr",
          "text": [
            "/usr/local/lib/python3.7/dist-packages/matplotlib/backends/backend_agg.py:214: RuntimeWarning: Glyph 49324 missing from current font.\n",
            "  font.set_text(s, 0.0, flags=flags)\n",
            "/usr/local/lib/python3.7/dist-packages/matplotlib/backends/backend_agg.py:214: RuntimeWarning: Glyph 47581 missing from current font.\n",
            "  font.set_text(s, 0.0, flags=flags)\n",
            "/usr/local/lib/python3.7/dist-packages/matplotlib/backends/backend_agg.py:214: RuntimeWarning: Glyph 51088 missing from current font.\n",
            "  font.set_text(s, 0.0, flags=flags)\n",
            "/usr/local/lib/python3.7/dist-packages/matplotlib/backends/backend_agg.py:214: RuntimeWarning: Glyph 49373 missing from current font.\n",
            "  font.set_text(s, 0.0, flags=flags)\n",
            "/usr/local/lib/python3.7/dist-packages/matplotlib/backends/backend_agg.py:214: RuntimeWarning: Glyph 51316 missing from current font.\n",
            "  font.set_text(s, 0.0, flags=flags)\n",
            "/usr/local/lib/python3.7/dist-packages/matplotlib/backends/backend_agg.py:183: RuntimeWarning: Glyph 49324 missing from current font.\n",
            "  font.set_text(s, 0, flags=flags)\n",
            "/usr/local/lib/python3.7/dist-packages/matplotlib/backends/backend_agg.py:183: RuntimeWarning: Glyph 47581 missing from current font.\n",
            "  font.set_text(s, 0, flags=flags)\n",
            "/usr/local/lib/python3.7/dist-packages/matplotlib/backends/backend_agg.py:183: RuntimeWarning: Glyph 51088 missing from current font.\n",
            "  font.set_text(s, 0, flags=flags)\n",
            "/usr/local/lib/python3.7/dist-packages/matplotlib/backends/backend_agg.py:183: RuntimeWarning: Glyph 49373 missing from current font.\n",
            "  font.set_text(s, 0, flags=flags)\n",
            "/usr/local/lib/python3.7/dist-packages/matplotlib/backends/backend_agg.py:183: RuntimeWarning: Glyph 51316 missing from current font.\n",
            "  font.set_text(s, 0, flags=flags)\n"
          ]
        },
        {
          "output_type": "display_data",
          "data": {
            "text/plain": [
              "<Figure size 1080x360 with 2 Axes>"
            ],
            "image/png": "[encoded data removed]"
          },
          "metadata": {}
        }
      ]
    },
    {
      "cell_type": "code",
      "source": [
        "locales = ['0~5','5~10','10~15','15~20','20~25','25~30','30~35','35~40','40~45','45~50','50~55','55~60','60~65','65~70','70~75','75~80','80~85','85~90','90~95']\n",
        "sales = [40,22,16,86,114,283,95,72,48,41,32,16,15,4,6,0,1,0,0]\n",
        "plt.pie(sales,labels=locales, startangle=260, counterclock=False, autopct='%.1f%%')\n",
        "plt.title(\"Passenger Distribution by Age\")\n",
        "plt.savefig('10.png')\n",
        "plt.show()"
      ],
      "metadata": {
        "colab": {
          "base_uri": "https://localhost:8080/",
          "height": 264
        },
        "id": "ctmIEjiDM22b",
        "outputId": "4e96b9e0-c2d1-4d14-da64-0b7e3886b3a3"
      },
      "execution_count": 73,
      "outputs": [
        {
          "output_type": "display_data",
          "data": {
            "text/plain": [
              "<Figure size 432x288 with 1 Axes>"
            ],
            "image/png": "[encoded data removed]"
          },
          "metadata": {}
        }
      ]
    },
    {
      "cell_type": "code",
      "source": [
        "from sklearn.preprocessing import StandardScaler\n",
        "\n",
        "# 결측치 제거\n",
        "age = data[\"Age\"].fillna(data[\"Age\"].mean())\n",
        "\n",
        "\n",
        "array = age.values.reshape(-1,1)\n",
        "\n",
        "\n",
        "scaler = StandardScaler()   \n",
        "\n",
        "\n",
        "scaler.fit(array)\n",
        "\n",
        "scaler_scaled = scaler.transform(array)\n",
        "scaler_scaled"
      ],
      "metadata": {
        "colab": {
          "base_uri": "https://localhost:8080/"
        },
        "id": "xeGlYkYiiIWx",
        "outputId": "949b08d4-b6e8-4b1f-a5b0-02cecba0b150"
      },
      "execution_count": 74,
      "outputs": [
        {
          "output_type": "execute_result",
          "data": {
            "text/plain": [
              "array([[-0.5924806 ],\n",
              "       [ 0.63878901],\n",
              "       [-0.2846632 ],\n",
              "       [ 0.40792596],\n",
              "       [ 0.40792596],\n",
              "       [ 0.        ],\n",
              "       [ 1.87005862],\n",
              "       [-2.13156761],\n",
              "       [-0.20770885],\n",
              "       [-1.20811541],\n",
              "       [-1.97765891],\n",
              "       [ 2.17787603],\n",
              "       [-0.7463893 ],\n",
              "       [ 0.71574336],\n",
              "       [-1.20811541],\n",
              "       [ 1.94701297],\n",
              "       [-2.13156761],\n",
              "       [ 0.        ],\n",
              "       [ 0.10010856],\n",
              "       [ 0.        ],\n",
              "       [ 0.40792596],\n",
              "       [ 0.33097161],\n",
              "       [-1.13116105],\n",
              "       [-0.1307545 ],\n",
              "       [-1.66984151],\n",
              "       [ 0.63878901],\n",
              "       [ 0.        ],\n",
              "       [-0.82334365],\n",
              "       [ 0.        ],\n",
              "       [ 0.        ],\n",
              "       [ 0.79269771],\n",
              "       [ 0.        ],\n",
              "       [ 0.        ],\n",
              "       [ 2.79351083],\n",
              "       [-0.1307545 ],\n",
              "       [ 0.94660642],\n",
              "       [ 0.        ],\n",
              "       [-0.66943495],\n",
              "       [-0.900298  ],\n",
              "       [-1.20811541],\n",
              "       [ 0.79269771],\n",
              "       [-0.20770885],\n",
              "       [ 0.        ],\n",
              "       [-2.05461326],\n",
              "       [-0.82334365],\n",
              "       [ 0.        ],\n",
              "       [ 0.        ],\n",
              "       [ 0.        ],\n",
              "       [ 0.        ],\n",
              "       [-0.900298  ],\n",
              "       [-1.74679586],\n",
              "       [-0.66943495],\n",
              "       [ 1.48528687],\n",
              "       [-0.05380014],\n",
              "       [ 2.71655648],\n",
              "       [ 0.        ],\n",
              "       [-0.66943495],\n",
              "       [-0.09227732],\n",
              "       [-1.90070456],\n",
              "       [-1.43897846],\n",
              "       [-0.5924806 ],\n",
              "       [ 0.63878901],\n",
              "       [ 1.17746947],\n",
              "       [-1.97765891],\n",
              "       [ 0.        ],\n",
              "       [ 0.        ],\n",
              "       [-0.05380014],\n",
              "       [-0.82334365],\n",
              "       [-0.97725235],\n",
              "       [-0.2846632 ],\n",
              "       [ 0.17706291],\n",
              "       [-1.0542067 ],\n",
              "       [-0.66943495],\n",
              "       [-0.2846632 ],\n",
              "       [ 0.17706291],\n",
              "       [-0.36161755],\n",
              "       [ 0.        ],\n",
              "       [ 0.        ],\n",
              "       [-2.2216042 ],\n",
              "       [ 0.02315421],\n",
              "       [-0.5924806 ],\n",
              "       [-0.05380014],\n",
              "       [ 0.        ],\n",
              "       [-0.1307545 ],\n",
              "       [-0.97725235],\n",
              "       [ 0.25401726],\n",
              "       [-1.0542067 ],\n",
              "       [ 0.        ],\n",
              "       [-0.51552625],\n",
              "       [-0.4385719 ],\n",
              "       [-0.05380014],\n",
              "       [-0.7463893 ],\n",
              "       [ 1.25442382],\n",
              "       [-0.2846632 ],\n",
              "       [ 2.25483038],\n",
              "       [ 0.        ],\n",
              "       [ 3.17828259],\n",
              "       [-0.51552625],\n",
              "       [ 0.33097161],\n",
              "       [ 0.33097161],\n",
              "       [-0.1307545 ],\n",
              "       [ 0.        ],\n",
              "       [-0.66943495],\n",
              "       [ 0.25401726],\n",
              "       [ 0.56183466],\n",
              "       [-0.1307545 ],\n",
              "       [-0.66943495],\n",
              "       [ 0.        ],\n",
              "       [ 0.63878901],\n",
              "       [ 0.        ],\n",
              "       [ 1.33137817],\n",
              "       [-1.16963823],\n",
              "       [-0.5924806 ],\n",
              "       [-0.7463893 ],\n",
              "       [-0.97725235],\n",
              "       [-0.66943495],\n",
              "       [ 3.13980541],\n",
              "       [-0.05380014],\n",
              "       [-0.4385719 ],\n",
              "       [-2.13156761],\n",
              "       [-0.66943495],\n",
              "       [ 0.        ],\n",
              "       [ 0.21554008],\n",
              "       [ 0.21554008],\n",
              "       [ 1.87005862],\n",
              "       [-1.36202411],\n",
              "       [ 0.        ],\n",
              "       [-0.4385719 ],\n",
              "       [ 0.        ],\n",
              "       [ 1.17746947],\n",
              "       [ 0.25401726],\n",
              "       [-0.7463893 ],\n",
              "       [ 1.33137817],\n",
              "       [-0.05380014],\n",
              "       [-0.36161755],\n",
              "       [-0.51552625],\n",
              "       [-0.82334365],\n",
              "       [ 0.56183466],\n",
              "       [-1.0542067 ],\n",
              "       [-0.4385719 ],\n",
              "       [ 0.        ],\n",
              "       [-0.5924806 ],\n",
              "       [-0.4385719 ],\n",
              "       [-0.82334365],\n",
              "       [-0.900298  ],\n",
              "       [-0.82334365],\n",
              "       [-0.20770885],\n",
              "       [-1.59288716],\n",
              "       [ 0.52335749],\n",
              "       [ 0.94660642],\n",
              "       [ 1.63919557],\n",
              "       [-0.5924806 ],\n",
              "       [ 1.98549015],\n",
              "       [ 0.83117489],\n",
              "       [ 0.        ],\n",
              "       [ 1.63919557],\n",
              "       [-1.0542067 ],\n",
              "       [ 0.02315421],\n",
              "       [ 0.        ],\n",
              "       [ 0.        ],\n",
              "       [ 1.10051512],\n",
              "       [ 0.79269771],\n",
              "       [-0.2846632 ],\n",
              "       [-0.97725235],\n",
              "       [-2.20852197],\n",
              "       [-1.59288716],\n",
              "       [ 0.        ],\n",
              "       [ 1.17746947],\n",
              "       [ 0.        ],\n",
              "       [-0.1307545 ],\n",
              "       [ 2.40873908],\n",
              "       [-1.97765891],\n",
              "       [-2.20852197],\n",
              "       [-0.66943495],\n",
              "       [ 2.02396733],\n",
              "       [-0.900298  ],\n",
              "       [ 0.        ],\n",
              "       [ 1.56224122],\n",
              "       [ 0.02315421],\n",
              "       [ 0.48488031],\n",
              "       [ 0.        ],\n",
              "       [ 0.        ],\n",
              "       [-1.59288716],\n",
              "       [-2.20852197],\n",
              "       [-1.97765891],\n",
              "       [ 0.        ],\n",
              "       [ 0.        ],\n",
              "       [ 1.17746947],\n",
              "       [ 0.79269771],\n",
              "       [ 0.48488031],\n",
              "       [ 0.17706291],\n",
              "       [-0.82334365],\n",
              "       [-0.82334365],\n",
              "       [-2.05461326],\n",
              "       [ 1.10051512],\n",
              "       [ 2.17787603],\n",
              "       [ 0.        ],\n",
              "       [ 0.94660642],\n",
              "       [ 0.        ],\n",
              "       [-0.4385719 ],\n",
              "       [-0.1307545 ],\n",
              "       [ 0.        ],\n",
              "       [ 0.33097161],\n",
              "       [ 1.21594664],\n",
              "       [-0.900298  ],\n",
              "       [-2.13156761],\n",
              "       [ 0.17706291],\n",
              "       [-0.2846632 ],\n",
              "       [-1.0542067 ],\n",
              "       [ 0.79269771],\n",
              "       [-0.4385719 ],\n",
              "       [ 0.40792596],\n",
              "       [-0.5924806 ],\n",
              "       [ 0.02315421],\n",
              "       [ 0.        ],\n",
              "       [ 0.10010856],\n",
              "       [-0.20770885],\n",
              "       [ 0.94660642],\n",
              "       [ 0.17706291],\n",
              "       [ 0.02315421],\n",
              "       [-1.0542067 ],\n",
              "       [-0.20770885],\n",
              "       [ 1.63919557],\n",
              "       [ 0.        ],\n",
              "       [ 0.63878901],\n",
              "       [-0.5924806 ],\n",
              "       [-0.82334365],\n",
              "       [-0.70791213],\n",
              "       [-0.900298  ],\n",
              "       [ 0.        ],\n",
              "       [ 0.40792596],\n",
              "       [-0.05380014],\n",
              "       [ 2.25483038],\n",
              "       [-1.90070456],\n",
              "       [-0.4385719 ],\n",
              "       [ 0.        ],\n",
              "       [ 1.10051512],\n",
              "       [-1.66984151],\n",
              "       [-0.82334365],\n",
              "       [ 0.25401726],\n",
              "       [ 0.        ],\n",
              "       [ 0.        ],\n",
              "       [-0.05380014],\n",
              "       [-0.5924806 ],\n",
              "       [ 0.02315421],\n",
              "       [ 1.10051512],\n",
              "       [-0.36161755],\n",
              "       [-0.4385719 ],\n",
              "       [ 0.56183466],\n",
              "       [ 1.87005862],\n",
              "       [ 0.        ],\n",
              "       [-0.05380014],\n",
              "       [ 2.48569343],\n",
              "       [ 0.02315421],\n",
              "       [ 0.86965206],\n",
              "       [-0.05380014],\n",
              "       [ 0.        ],\n",
              "       [ 0.02315421],\n",
              "       [ 0.40792596],\n",
              "       [ 1.56224122],\n",
              "       [ 0.        ],\n",
              "       [-2.05461326],\n",
              "       [ 1.71614992],\n",
              "       [ 0.79269771],\n",
              "       [ 0.        ],\n",
              "       [ 0.48488031],\n",
              "       [-1.0542067 ],\n",
              "       [-0.36161755],\n",
              "       [ 2.17787603],\n",
              "       [ 0.40792596],\n",
              "       [ 0.        ],\n",
              "       [-0.36161755],\n",
              "       [ 0.86965206],\n",
              "       [ 0.56183466],\n",
              "       [ 0.        ],\n",
              "       [ 2.56264778],\n",
              "       [ 1.17746947],\n",
              "       [ 0.        ],\n",
              "       [-1.74679586],\n",
              "       [ 0.40792596],\n",
              "       [ 2.71655648],\n",
              "       [-0.1307545 ],\n",
              "       [-1.0542067 ],\n",
              "       [-0.82334365],\n",
              "       [ 0.        ],\n",
              "       [ 0.25401726],\n",
              "       [ 0.02315421],\n",
              "       [-0.5924806 ],\n",
              "       [ 0.94660642],\n",
              "       [-0.5924806 ],\n",
              "       [-0.2846632 ],\n",
              "       [-0.82334365],\n",
              "       [ 0.48488031],\n",
              "       [-0.4385719 ],\n",
              "       [-0.4385719 ],\n",
              "       [ 0.        ],\n",
              "       [-0.47704907],\n",
              "       [-2.13156761],\n",
              "       [ 0.        ],\n",
              "       [ 1.56224122],\n",
              "       [ 0.        ],\n",
              "       [ 0.        ],\n",
              "       [-0.82334365],\n",
              "       [ 0.        ],\n",
              "       [ 0.        ],\n",
              "       [-2.21467831],\n",
              "       [ 0.        ],\n",
              "       [-0.97725235],\n",
              "       [ 0.02315421],\n",
              "       [ 0.02315421],\n",
              "       [-0.4385719 ],\n",
              "       [-0.900298  ],\n",
              "       [-0.2846632 ],\n",
              "       [-0.1307545 ],\n",
              "       [ 1.02356077],\n",
              "       [-0.2846632 ],\n",
              "       [-0.4385719 ],\n",
              "       [ 1.87005862],\n",
              "       [ 0.10010856],\n",
              "       [ 0.79269771],\n",
              "       [-0.5924806 ],\n",
              "       [-0.20770885],\n",
              "       [ 0.02315421],\n",
              "       [-0.5924806 ],\n",
              "       [ 0.        ],\n",
              "       [ 0.48488031],\n",
              "       [ 2.40873908],\n",
              "       [ 0.48488031],\n",
              "       [ 0.10010856],\n",
              "       [-1.0542067 ],\n",
              "       [ 0.        ],\n",
              "       [ 1.21594664],\n",
              "       [ 0.63878901],\n",
              "       [-1.0542067 ],\n",
              "       [ 0.        ],\n",
              "       [ 0.        ],\n",
              "       [-0.05380014],\n",
              "       [ 0.86965206],\n",
              "       [ 1.17746947],\n",
              "       [ 1.17746947],\n",
              "       [-2.13156761],\n",
              "       [-0.4385719 ],\n",
              "       [-0.1307545 ],\n",
              "       [-0.36161755],\n",
              "       [ 0.48488031],\n",
              "       [-0.4385719 ],\n",
              "       [ 0.79269771],\n",
              "       [ 0.        ],\n",
              "       [-2.05461326],\n",
              "       [ 0.94660642],\n",
              "       [-0.51552625],\n",
              "       [ 0.        ],\n",
              "       [-1.13116105],\n",
              "       [-0.36161755],\n",
              "       [ 0.        ],\n",
              "       [-0.1307545 ],\n",
              "       [-0.5924806 ],\n",
              "       [ 0.63878901],\n",
              "       [ 0.        ],\n",
              "       [ 0.        ],\n",
              "       [ 0.79269771],\n",
              "       [-0.05380014],\n",
              "       [ 1.17746947],\n",
              "       [ 0.40792596],\n",
              "       [ 0.        ],\n",
              "       [ 0.02315421],\n",
              "       [ 2.33178473],\n",
              "       [ 0.        ],\n",
              "       [ 0.        ],\n",
              "       [-0.4385719 ],\n",
              "       [-0.36161755],\n",
              "       [-0.900298  ],\n",
              "       [-0.82334365],\n",
              "       [-0.5924806 ],\n",
              "       [-2.05461326],\n",
              "       [ 0.        ],\n",
              "       [-0.5924806 ],\n",
              "       [-0.20770885],\n",
              "       [-0.7463893 ],\n",
              "       [-0.82334365],\n",
              "       [ 0.94660642],\n",
              "       [-2.20852197],\n",
              "       [ 0.17706291],\n",
              "       [ 0.40792596],\n",
              "       [ 0.        ],\n",
              "       [-0.900298  ],\n",
              "       [-2.20852197],\n",
              "       [ 0.48488031],\n",
              "       [ 0.        ],\n",
              "       [-0.97725235],\n",
              "       [ 0.48488031],\n",
              "       [-0.66943495],\n",
              "       [-0.1307545 ],\n",
              "       [-0.51552625],\n",
              "       [-0.4385719 ],\n",
              "       [-0.5924806 ],\n",
              "       [ 0.10010856],\n",
              "       [ 1.25442382],\n",
              "       [-0.51552625],\n",
              "       [-0.1307545 ],\n",
              "       [ 0.71574336],\n",
              "       [-0.2846632 ],\n",
              "       [-0.66943495],\n",
              "       [-0.1307545 ],\n",
              "       [-0.7463893 ],\n",
              "       [ 0.33097161],\n",
              "       [ 1.63919557],\n",
              "       [-2.05461326],\n",
              "       [-0.66943495],\n",
              "       [ 0.        ],\n",
              "       [ 0.        ],\n",
              "       [ 0.        ],\n",
              "       [ 0.25401726],\n",
              "       [ 0.        ],\n",
              "       [ 1.10051512],\n",
              "       [ 0.        ],\n",
              "       [ 0.33097161],\n",
              "       [-0.900298  ],\n",
              "       [ 0.02315421],\n",
              "       [-1.51593281],\n",
              "       [ 0.        ],\n",
              "       [-0.66943495],\n",
              "       [-0.05380014],\n",
              "       [-0.1307545 ],\n",
              "       [-0.900298  ],\n",
              "       [ 0.        ],\n",
              "       [-0.1307545 ],\n",
              "       [-0.82334365],\n",
              "       [ 0.        ],\n",
              "       [ 0.17706291],\n",
              "       [-0.1307545 ],\n",
              "       [ 0.        ],\n",
              "       [ 0.94660642],\n",
              "       [-0.97725235],\n",
              "       [ 1.56224122],\n",
              "       [-1.20811541],\n",
              "       [-0.66943495],\n",
              "       [-0.4385719 ],\n",
              "       [ 2.63960213],\n",
              "       [ 0.10010856],\n",
              "       [ 1.17746947],\n",
              "       [-0.7463893 ],\n",
              "       [-0.36161755],\n",
              "       [-0.1307545 ],\n",
              "       [ 0.        ],\n",
              "       [-1.97765891],\n",
              "       [-1.28506976],\n",
              "       [ 0.33097161],\n",
              "       [-1.90070456],\n",
              "       [ 1.71614992],\n",
              "       [ 0.48488031],\n",
              "       [ 0.        ],\n",
              "       [ 0.02315421],\n",
              "       [ 1.48528687],\n",
              "       [ 0.        ],\n",
              "       [-0.05380014],\n",
              "       [ 2.71655648],\n",
              "       [ 0.        ],\n",
              "       [ 1.56224122],\n",
              "       [ 0.        ],\n",
              "       [ 1.40833252],\n",
              "       [ 0.33097161],\n",
              "       [ 1.33137817],\n",
              "       [ 1.40833252],\n",
              "       [ 0.        ],\n",
              "       [ 0.63878901],\n",
              "       [ 0.        ],\n",
              "       [ 2.02396733],\n",
              "       [ 0.        ],\n",
              "       [-2.22776055],\n",
              "       [ 0.        ],\n",
              "       [ 0.63878901],\n",
              "       [ 0.25401726],\n",
              "       [-0.51552625],\n",
              "       [-0.5924806 ],\n",
              "       [ 0.        ],\n",
              "       [ 0.33097161],\n",
              "       [-0.05380014],\n",
              "       [-0.5924806 ],\n",
              "       [-2.13156761],\n",
              "       [-1.59288716],\n",
              "       [ 0.        ],\n",
              "       [ 1.56224122],\n",
              "       [ 2.56264778],\n",
              "       [-0.36161755],\n",
              "       [ 0.        ],\n",
              "       [ 0.40792596],\n",
              "       [ 2.17787603],\n",
              "       [ 0.02315421],\n",
              "       [-1.59288716],\n",
              "       [ 0.        ],\n",
              "       [-0.66943495],\n",
              "       [ 1.94701297],\n",
              "       [ 3.17828259],\n",
              "       [-0.66943495],\n",
              "       [ 0.        ],\n",
              "       [ 1.87005862],\n",
              "       [ 0.        ],\n",
              "       [-0.36161755],\n",
              "       [-0.4385719 ],\n",
              "       [-0.97725235],\n",
              "       [-0.66943495],\n",
              "       [ 0.        ],\n",
              "       [ 0.56183466],\n",
              "       [-1.0542067 ],\n",
              "       [-0.900298  ],\n",
              "       [ 0.25401726],\n",
              "       [ 0.        ],\n",
              "       [-0.1307545 ],\n",
              "       [-0.2846632 ],\n",
              "       [-0.05380014],\n",
              "       [ 0.        ],\n",
              "       [ 0.48488031],\n",
              "       [ 1.87005862],\n",
              "       [-0.4385719 ],\n",
              "       [ 1.33137817],\n",
              "       [ 0.33097161],\n",
              "       [ 0.        ],\n",
              "       [ 0.48488031],\n",
              "       [ 0.17706291],\n",
              "       [ 0.02315421],\n",
              "       [-0.5924806 ],\n",
              "       [ 0.        ],\n",
              "       [ 1.10051512],\n",
              "       [ 0.        ],\n",
              "       [ 0.83117489],\n",
              "       [ 1.56224122],\n",
              "       [ 0.        ],\n",
              "       [ 0.71574336],\n",
              "       [-0.51552625],\n",
              "       [-2.13156761],\n",
              "       [ 0.        ],\n",
              "       [-0.97725235],\n",
              "       [ 0.        ],\n",
              "       [ 0.02315421],\n",
              "       [-1.74679586],\n",
              "       [ 1.17746947],\n",
              "       [ 0.02315421],\n",
              "       [ 0.        ],\n",
              "       [-0.5924806 ],\n",
              "       [ 0.48488031],\n",
              "       [-1.59288716],\n",
              "       [-1.43897846],\n",
              "       [ 0.17706291],\n",
              "       [ 1.56224122],\n",
              "       [ 2.63960213],\n",
              "       [-0.82334365],\n",
              "       [ 0.        ],\n",
              "       [ 0.25401726],\n",
              "       [-1.66984151],\n",
              "       [-0.97725235],\n",
              "       [-0.20770885],\n",
              "       [ 0.        ],\n",
              "       [-0.5924806 ],\n",
              "       [-0.5924806 ],\n",
              "       [ 2.48569343],\n",
              "       [ 1.40833252],\n",
              "       [ 0.        ],\n",
              "       [ 0.71574336],\n",
              "       [ 0.48488031],\n",
              "       [ 0.        ],\n",
              "       [ 0.79269771],\n",
              "       [-0.1307545 ],\n",
              "       [ 0.        ],\n",
              "       [ 0.        ],\n",
              "       [-0.4385719 ],\n",
              "       [-0.82334365],\n",
              "       [-0.05380014],\n",
              "       [ 0.        ],\n",
              "       [ 0.17706291],\n",
              "       [ 2.48569343],\n",
              "       [ 1.79310427],\n",
              "       [ 0.48488031],\n",
              "       [ 0.        ],\n",
              "       [-1.0542067 ],\n",
              "       [-0.82334365],\n",
              "       [ 0.33097161],\n",
              "       [ 0.71574336],\n",
              "       [ 0.        ],\n",
              "       [ 0.17706291],\n",
              "       [-0.36161755],\n",
              "       [ 0.71574336],\n",
              "       [ 1.87005862],\n",
              "       [ 0.48488031],\n",
              "       [ 0.        ],\n",
              "       [-0.900298  ],\n",
              "       [ 1.33137817],\n",
              "       [ 2.33178473],\n",
              "       [-0.5924806 ],\n",
              "       [ 0.        ],\n",
              "       [ 0.40792596],\n",
              "       [ 1.71614992],\n",
              "       [ 1.33137817],\n",
              "       [ 0.        ],\n",
              "       [ 0.56183466],\n",
              "       [ 0.48488031],\n",
              "       [ 0.        ],\n",
              "       [ 1.48528687],\n",
              "       [ 0.        ],\n",
              "       [ 1.48528687],\n",
              "       [-0.4385719 ],\n",
              "       [ 0.        ],\n",
              "       [ 0.        ],\n",
              "       [ 1.10051512],\n",
              "       [ 0.40792596],\n",
              "       [ 0.48488031],\n",
              "       [ 0.02315421],\n",
              "       [-0.20770885],\n",
              "       [-0.5924806 ],\n",
              "       [ 0.79269771],\n",
              "       [ 0.71574336],\n",
              "       [ 0.        ],\n",
              "       [ 0.        ],\n",
              "       [ 0.        ],\n",
              "       [ 0.40792596],\n",
              "       [-0.4385719 ],\n",
              "       [ 0.33097161],\n",
              "       [-0.2846632 ],\n",
              "       [-1.97765891],\n",
              "       [-0.2846632 ],\n",
              "       [-0.20770885],\n",
              "       [ 0.94660642],\n",
              "       [-0.7463893 ],\n",
              "       [-0.66943495],\n",
              "       [-0.66943495],\n",
              "       [ 2.40873908],\n",
              "       [ 2.10092168],\n",
              "       [-0.66943495],\n",
              "       [-0.2846632 ],\n",
              "       [ 0.        ],\n",
              "       [ 3.87087174],\n",
              "       [ 1.63919557],\n",
              "       [ 0.17706291],\n",
              "       [ 0.        ],\n",
              "       [-1.59288716],\n",
              "       [-0.1307545 ],\n",
              "       [ 0.17706291],\n",
              "       [ 0.10010856],\n",
              "       [ 0.86965206],\n",
              "       [ 0.        ],\n",
              "       [-0.7463893 ],\n",
              "       [-0.4385719 ],\n",
              "       [-2.13156761],\n",
              "       [ 0.        ],\n",
              "       [-2.22776055],\n",
              "       [ 1.40833252],\n",
              "       [-0.82334365],\n",
              "       [ 2.02396733],\n",
              "       [ 0.        ],\n",
              "       [-0.51552625],\n",
              "       [ 0.        ],\n",
              "       [-0.900298  ],\n",
              "       [-0.66943495],\n",
              "       [ 0.        ],\n",
              "       [-0.900298  ],\n",
              "       [-0.4385719 ],\n",
              "       [ 0.        ],\n",
              "       [ 0.17706291],\n",
              "       [-0.51552625],\n",
              "       [ 2.17787603],\n",
              "       [ 1.56224122],\n",
              "       [ 0.79269771],\n",
              "       [ 1.33137817],\n",
              "       [ 0.48488031],\n",
              "       [-0.7463893 ],\n",
              "       [ 0.17706291],\n",
              "       [-0.36161755],\n",
              "       [ 0.        ],\n",
              "       [ 1.02356077],\n",
              "       [ 0.        ],\n",
              "       [ 0.79269771],\n",
              "       [ 0.10010856],\n",
              "       [ 3.10132824],\n",
              "       [ 0.10010856],\n",
              "       [ 0.        ],\n",
              "       [-0.900298  ],\n",
              "       [-0.40009472],\n",
              "       [-0.900298  ],\n",
              "       [ 1.02356077],\n",
              "       [ 0.48488031],\n",
              "       [ 0.        ],\n",
              "       [-0.20770885],\n",
              "       [-0.7463893 ],\n",
              "       [-1.20811541],\n",
              "       [ 2.33178473],\n",
              "       [-0.36161755],\n",
              "       [-1.20811541],\n",
              "       [-0.82334365],\n",
              "       [-0.900298  ],\n",
              "       [-1.13116105],\n",
              "       [ 0.10010856],\n",
              "       [-1.97765891],\n",
              "       [ 0.        ],\n",
              "       [-0.36161755],\n",
              "       [ 2.33178473],\n",
              "       [ 1.71614992],\n",
              "       [ 1.10051512],\n",
              "       [ 0.        ],\n",
              "       [ 1.48528687],\n",
              "       [ 0.94660642],\n",
              "       [-0.900298  ],\n",
              "       [ 0.40792596],\n",
              "       [-0.900298  ],\n",
              "       [-0.36161755],\n",
              "       [-0.2846632 ],\n",
              "       [ 0.71574336],\n",
              "       [ 1.17746947],\n",
              "       [ 0.94660642],\n",
              "       [-0.5924806 ],\n",
              "       [ 0.        ],\n",
              "       [-0.4385719 ],\n",
              "       [ 0.        ],\n",
              "       [ 1.40833252],\n",
              "       [-0.05380014],\n",
              "       [ 1.71614992],\n",
              "       [-0.82334365],\n",
              "       [ 0.63878901],\n",
              "       [-0.20770885],\n",
              "       [ 0.        ],\n",
              "       [ 0.25401726],\n",
              "       [-1.82375021],\n",
              "       [-0.97725235],\n",
              "       [ 0.33097161],\n",
              "       [ 1.56224122],\n",
              "       [-0.20770885],\n",
              "       [-0.7463893 ],\n",
              "       [ 0.02315421],\n",
              "       [ 0.        ],\n",
              "       [-0.36161755],\n",
              "       [-0.36161755],\n",
              "       [-0.05380014],\n",
              "       [-1.43897846],\n",
              "       [ 0.        ],\n",
              "       [-0.51552625],\n",
              "       [-0.51552625],\n",
              "       [-0.09227732],\n",
              "       [ 1.40833252],\n",
              "       [ 0.40792596],\n",
              "       [ 0.        ],\n",
              "       [ 0.        ],\n",
              "       [ 0.        ],\n",
              "       [ 0.48488031],\n",
              "       [-0.66943495],\n",
              "       [-0.4385719 ],\n",
              "       [ 0.10010856],\n",
              "       [ 3.10132824],\n",
              "       [-1.0542067 ],\n",
              "       [ 0.02315421],\n",
              "       [-0.82334365],\n",
              "       [ 0.10010856],\n",
              "       [-1.97765891],\n",
              "       [-1.82375021],\n",
              "       [ 0.25401726],\n",
              "       [-0.51552625],\n",
              "       [ 1.40833252],\n",
              "       [-2.2339169 ],\n",
              "       [-0.1307545 ],\n",
              "       [-0.900298  ],\n",
              "       [ 0.33097161],\n",
              "       [ 0.25401726],\n",
              "       [ 0.        ],\n",
              "       [ 0.86965206],\n",
              "       [-0.7463893 ],\n",
              "       [ 0.48488031],\n",
              "       [-1.0542067 ],\n",
              "       [ 1.63919557],\n",
              "       [ 0.        ],\n",
              "       [ 0.06163138],\n",
              "       [ 0.        ],\n",
              "       [ 0.17706291],\n",
              "       [-0.4385719 ],\n",
              "       [ 1.40833252],\n",
              "       [ 2.10092168],\n",
              "       [ 0.        ],\n",
              "       [ 1.87005862],\n",
              "       [-0.900298  ],\n",
              "       [ 0.        ],\n",
              "       [-1.90070456],\n",
              "       [ 0.        ],\n",
              "       [ 1.02356077],\n",
              "       [-1.28506976],\n",
              "       [-0.97725235],\n",
              "       [-0.05380014],\n",
              "       [ 0.        ],\n",
              "       [-0.36161755],\n",
              "       [-0.36161755],\n",
              "       [-0.900298  ],\n",
              "       [-1.66984151],\n",
              "       [-2.20852197],\n",
              "       [ 1.25442382],\n",
              "       [ 0.        ],\n",
              "       [-1.0542067 ],\n",
              "       [ 0.        ],\n",
              "       [ 0.        ],\n",
              "       [-0.36161755],\n",
              "       [ 0.71574336],\n",
              "       [ 1.48528687],\n",
              "       [ 0.10010856],\n",
              "       [ 0.02315421],\n",
              "       [ 0.02315421],\n",
              "       [ 0.33097161],\n",
              "       [ 0.10010856],\n",
              "       [-1.43897846],\n",
              "       [-2.25315549],\n",
              "       [-0.20770885],\n",
              "       [ 0.10010856],\n",
              "       [ 0.71574336],\n",
              "       [-0.900298  ],\n",
              "       [ 0.71574336],\n",
              "       [ 0.25401726],\n",
              "       [-0.2846632 ],\n",
              "       [ 0.71574336],\n",
              "       [ 0.40792596],\n",
              "       [-1.82375021],\n",
              "       [ 0.06163138],\n",
              "       [ 0.        ],\n",
              "       [-0.51552625],\n",
              "       [ 0.10010856],\n",
              "       [ 1.02356077],\n",
              "       [-1.51593281],\n",
              "       [ 1.71614992],\n",
              "       [-0.20770885],\n",
              "       [ 0.63878901],\n",
              "       [-0.20770885],\n",
              "       [-2.13156761],\n",
              "       [ 0.        ],\n",
              "       [ 0.        ],\n",
              "       [-2.20852197],\n",
              "       [ 0.        ],\n",
              "       [ 2.48569343],\n",
              "       [-1.13116105],\n",
              "       [-2.2216042 ],\n",
              "       [ 0.        ],\n",
              "       [-0.51552625],\n",
              "       [-0.900298  ],\n",
              "       [ 0.71574336],\n",
              "       [-0.66943495],\n",
              "       [ 0.        ],\n",
              "       [ 0.17706291],\n",
              "       [ 0.        ],\n",
              "       [-0.7463893 ],\n",
              "       [-1.0542067 ],\n",
              "       [ 0.02315421],\n",
              "       [ 0.36944878],\n",
              "       [-0.97725235],\n",
              "       [ 0.94660642],\n",
              "       [ 0.        ],\n",
              "       [ 0.40792596],\n",
              "       [-0.1307545 ],\n",
              "       [ 0.        ],\n",
              "       [-1.97765891],\n",
              "       [ 3.40914564],\n",
              "       [-1.59288716],\n",
              "       [-1.0542067 ],\n",
              "       [ 1.10051512],\n",
              "       [-0.900298  ],\n",
              "       [ 1.17746947],\n",
              "       [ 1.63919557],\n",
              "       [-0.4385719 ],\n",
              "       [ 0.        ],\n",
              "       [ 0.86965206],\n",
              "       [-0.66943495],\n",
              "       [ 1.40833252],\n",
              "       [ 0.        ],\n",
              "       [-0.4385719 ],\n",
              "       [ 0.94660642],\n",
              "       [-0.20770885],\n",
              "       [ 0.10010856],\n",
              "       [ 0.        ],\n",
              "       [-1.97765891],\n",
              "       [-0.2846632 ],\n",
              "       [ 1.33137817],\n",
              "       [ 0.25401726],\n",
              "       [ 1.33137817],\n",
              "       [-0.1307545 ],\n",
              "       [-1.13116105],\n",
              "       [-0.7463893 ],\n",
              "       [-0.82334365],\n",
              "       [ 0.        ],\n",
              "       [ 2.02396733],\n",
              "       [-0.36161755],\n",
              "       [ 0.25401726],\n",
              "       [-0.5924806 ],\n",
              "       [-0.1307545 ],\n",
              "       [-0.36161755],\n",
              "       [ 0.71574336],\n",
              "       [-0.20770885],\n",
              "       [-0.82334365],\n",
              "       [ 0.        ],\n",
              "       [-0.2846632 ],\n",
              "       [ 0.17706291]])"
            ]
          },
          "metadata": {},
          "execution_count": 74
        }
      ]
    },
    {
      "cell_type": "code",
      "source": [
        "#성별에 따른 생존자\n",
        "data.groupby(['Sex','Survived'])['Survived'].count()\n",
        "\n",
        "sns.barplot(x='Sex',y='Survived',data=data)"
      ],
      "metadata": {
        "colab": {
          "base_uri": "https://localhost:8080/",
          "height": 363
        },
        "id": "Y3jy0Xd9oIkv",
        "outputId": "93988a7f-e9fe-4cf4-96d2-edd178374579"
      },
      "execution_count": 80,
      "outputs": [
        {
          "output_type": "error",
          "ename": "TypeError",
          "evalue": "ignored",
          "traceback": [
            "\u001b[0;31m---------------------------------------------------------------------------\u001b[0m",
            "\u001b[0;31mTypeError\u001b[0m                                 Traceback (most recent call last)",
            "\u001b[0;32m<ipython-input-80-98735244ecef>\u001b[0m in \u001b[0;36m<module>\u001b[0;34m\u001b[0m\n\u001b[1;32m      2\u001b[0m \u001b[0mdata\u001b[0m\u001b[0;34m.\u001b[0m\u001b[0mgroupby\u001b[0m\u001b[0;34m(\u001b[0m\u001b[0;34m[\u001b[0m\u001b[0;34m'Sex'\u001b[0m\u001b[0;34m,\u001b[0m\u001b[0;34m'Survived'\u001b[0m\u001b[0;34m]\u001b[0m\u001b[0;34m)\u001b[0m\u001b[0;34m[\u001b[0m\u001b[0;34m'Survived'\u001b[0m\u001b[0;34m]\u001b[0m\u001b[0;34m.\u001b[0m\u001b[0mcount\u001b[0m\u001b[0;34m(\u001b[0m\u001b[0;34m)\u001b[0m\u001b[0;34m\u001b[0m\u001b[0;34m\u001b[0m\u001b[0m\n\u001b[1;32m      3\u001b[0m \u001b[0;34m\u001b[0m\u001b[0m\n\u001b[0;32m----> 4\u001b[0;31m \u001b[0msns\u001b[0m\u001b[0;34m.\u001b[0m\u001b[0mbarplot\u001b[0m\u001b[0;34m(\u001b[0m\u001b[0mx\u001b[0m\u001b[0;34m=\u001b[0m\u001b[0;34m'Sex'\u001b[0m\u001b[0;34m,\u001b[0m\u001b[0my\u001b[0m\u001b[0;34m=\u001b[0m\u001b[0;34m'Survived'\u001b[0m\u001b[0;34m,\u001b[0m\u001b[0mdata\u001b[0m\u001b[0;34m=\u001b[0m\u001b[0mdata\u001b[0m\u001b[0;34m)\u001b[0m\u001b[0;34m\u001b[0m\u001b[0;34m\u001b[0m\u001b[0m\n\u001b[0m",
            "\u001b[0;32m/usr/local/lib/python3.7/dist-packages/seaborn/_decorators.py\u001b[0m in \u001b[0;36minner_f\u001b[0;34m(*args, **kwargs)\u001b[0m\n\u001b[1;32m     44\u001b[0m             )\n\u001b[1;32m     45\u001b[0m         \u001b[0mkwargs\u001b[0m\u001b[0;34m.\u001b[0m\u001b[0mupdate\u001b[0m\u001b[0;34m(\u001b[0m\u001b[0;34m{\u001b[0m\u001b[0mk\u001b[0m\u001b[0;34m:\u001b[0m \u001b[0marg\u001b[0m \u001b[0;32mfor\u001b[0m \u001b[0mk\u001b[0m\u001b[0;34m,\u001b[0m \u001b[0marg\u001b[0m \u001b[0;32min\u001b[0m \u001b[0mzip\u001b[0m\u001b[0;34m(\u001b[0m\u001b[0msig\u001b[0m\u001b[0;34m.\u001b[0m\u001b[0mparameters\u001b[0m\u001b[0;34m,\u001b[0m \u001b[0margs\u001b[0m\u001b[0;34m)\u001b[0m\u001b[0;34m}\u001b[0m\u001b[0;34m)\u001b[0m\u001b[0;34m\u001b[0m\u001b[0;34m\u001b[0m\u001b[0m\n\u001b[0;32m---> 46\u001b[0;31m         \u001b[0;32mreturn\u001b[0m \u001b[0mf\u001b[0m\u001b[0;34m(\u001b[0m\u001b[0;34m**\u001b[0m\u001b[0mkwargs\u001b[0m\u001b[0;34m)\u001b[0m\u001b[0;34m\u001b[0m\u001b[0;34m\u001b[0m\u001b[0m\n\u001b[0m\u001b[1;32m     47\u001b[0m     \u001b[0;32mreturn\u001b[0m \u001b[0minner_f\u001b[0m\u001b[0;34m\u001b[0m\u001b[0;34m\u001b[0m\u001b[0m\n\u001b[1;32m     48\u001b[0m \u001b[0;34m\u001b[0m\u001b[0m\n",
            "\u001b[0;32m/usr/local/lib/python3.7/dist-packages/seaborn/categorical.py\u001b[0m in \u001b[0;36mbarplot\u001b[0;34m(x, y, hue, data, order, hue_order, estimator, ci, n_boot, units, seed, orient, color, palette, saturation, errcolor, errwidth, capsize, dodge, ax, **kwargs)\u001b[0m\n\u001b[1;32m   3183\u001b[0m                           \u001b[0mestimator\u001b[0m\u001b[0;34m,\u001b[0m \u001b[0mci\u001b[0m\u001b[0;34m,\u001b[0m \u001b[0mn_boot\u001b[0m\u001b[0;34m,\u001b[0m \u001b[0munits\u001b[0m\u001b[0;34m,\u001b[0m \u001b[0mseed\u001b[0m\u001b[0;34m,\u001b[0m\u001b[0;34m\u001b[0m\u001b[0;34m\u001b[0m\u001b[0m\n\u001b[1;32m   3184\u001b[0m                           \u001b[0morient\u001b[0m\u001b[0;34m,\u001b[0m \u001b[0mcolor\u001b[0m\u001b[0;34m,\u001b[0m \u001b[0mpalette\u001b[0m\u001b[0;34m,\u001b[0m \u001b[0msaturation\u001b[0m\u001b[0;34m,\u001b[0m\u001b[0;34m\u001b[0m\u001b[0;34m\u001b[0m\u001b[0m\n\u001b[0;32m-> 3185\u001b[0;31m                           errcolor, errwidth, capsize, dodge)\n\u001b[0m\u001b[1;32m   3186\u001b[0m \u001b[0;34m\u001b[0m\u001b[0m\n\u001b[1;32m   3187\u001b[0m     \u001b[0;32mif\u001b[0m \u001b[0max\u001b[0m \u001b[0;32mis\u001b[0m \u001b[0;32mNone\u001b[0m\u001b[0;34m:\u001b[0m\u001b[0;34m\u001b[0m\u001b[0;34m\u001b[0m\u001b[0m\n",
            "\u001b[0;32m/usr/local/lib/python3.7/dist-packages/seaborn/categorical.py\u001b[0m in \u001b[0;36m__init__\u001b[0;34m(self, x, y, hue, data, order, hue_order, estimator, ci, n_boot, units, seed, orient, color, palette, saturation, errcolor, errwidth, capsize, dodge)\u001b[0m\n\u001b[1;32m   1583\u001b[0m         \u001b[0;34m\"\"\"Initialize the plotter.\"\"\"\u001b[0m\u001b[0;34m\u001b[0m\u001b[0;34m\u001b[0m\u001b[0m\n\u001b[1;32m   1584\u001b[0m         self.establish_variables(x, y, hue, data, orient,\n\u001b[0;32m-> 1585\u001b[0;31m                                  order, hue_order, units)\n\u001b[0m\u001b[1;32m   1586\u001b[0m         \u001b[0mself\u001b[0m\u001b[0;34m.\u001b[0m\u001b[0mestablish_colors\u001b[0m\u001b[0;34m(\u001b[0m\u001b[0mcolor\u001b[0m\u001b[0;34m,\u001b[0m \u001b[0mpalette\u001b[0m\u001b[0;34m,\u001b[0m \u001b[0msaturation\u001b[0m\u001b[0;34m)\u001b[0m\u001b[0;34m\u001b[0m\u001b[0;34m\u001b[0m\u001b[0m\n\u001b[1;32m   1587\u001b[0m         \u001b[0mself\u001b[0m\u001b[0;34m.\u001b[0m\u001b[0mestimate_statistic\u001b[0m\u001b[0;34m(\u001b[0m\u001b[0mestimator\u001b[0m\u001b[0;34m,\u001b[0m \u001b[0mci\u001b[0m\u001b[0;34m,\u001b[0m \u001b[0mn_boot\u001b[0m\u001b[0;34m,\u001b[0m \u001b[0mseed\u001b[0m\u001b[0;34m)\u001b[0m\u001b[0;34m\u001b[0m\u001b[0;34m\u001b[0m\u001b[0m\n",
            "\u001b[0;32m/usr/local/lib/python3.7/dist-packages/seaborn/categorical.py\u001b[0m in \u001b[0;36mestablish_variables\u001b[0;34m(self, x, y, hue, data, orient, order, hue_order, units)\u001b[0m\n\u001b[1;32m    155\u001b[0m             \u001b[0;31m# Figure out the plotting orientation\u001b[0m\u001b[0;34m\u001b[0m\u001b[0;34m\u001b[0m\u001b[0;34m\u001b[0m\u001b[0m\n\u001b[1;32m    156\u001b[0m             orient = infer_orient(\n\u001b[0;32m--> 157\u001b[0;31m                 \u001b[0mx\u001b[0m\u001b[0;34m,\u001b[0m \u001b[0my\u001b[0m\u001b[0;34m,\u001b[0m \u001b[0morient\u001b[0m\u001b[0;34m,\u001b[0m \u001b[0mrequire_numeric\u001b[0m\u001b[0;34m=\u001b[0m\u001b[0mself\u001b[0m\u001b[0;34m.\u001b[0m\u001b[0mrequire_numeric\u001b[0m\u001b[0;34m\u001b[0m\u001b[0;34m\u001b[0m\u001b[0m\n\u001b[0m\u001b[1;32m    158\u001b[0m             )\n\u001b[1;32m    159\u001b[0m \u001b[0;34m\u001b[0m\u001b[0m\n",
            "\u001b[0;32m/usr/local/lib/python3.7/dist-packages/seaborn/_core.py\u001b[0m in \u001b[0;36minfer_orient\u001b[0;34m(x, y, orient, require_numeric)\u001b[0m\n\u001b[1;32m   1350\u001b[0m     \u001b[0;32melif\u001b[0m \u001b[0mrequire_numeric\u001b[0m \u001b[0;32mand\u001b[0m \u001b[0;34m\"numeric\"\u001b[0m \u001b[0;32mnot\u001b[0m \u001b[0;32min\u001b[0m \u001b[0;34m(\u001b[0m\u001b[0mx_type\u001b[0m\u001b[0;34m,\u001b[0m \u001b[0my_type\u001b[0m\u001b[0;34m)\u001b[0m\u001b[0;34m:\u001b[0m\u001b[0;34m\u001b[0m\u001b[0;34m\u001b[0m\u001b[0m\n\u001b[1;32m   1351\u001b[0m         \u001b[0merr\u001b[0m \u001b[0;34m=\u001b[0m \u001b[0;34m\"Neither the `x` nor `y` variable appears to be numeric.\"\u001b[0m\u001b[0;34m\u001b[0m\u001b[0;34m\u001b[0m\u001b[0m\n\u001b[0;32m-> 1352\u001b[0;31m         \u001b[0;32mraise\u001b[0m \u001b[0mTypeError\u001b[0m\u001b[0;34m(\u001b[0m\u001b[0merr\u001b[0m\u001b[0;34m)\u001b[0m\u001b[0;34m\u001b[0m\u001b[0;34m\u001b[0m\u001b[0m\n\u001b[0m\u001b[1;32m   1353\u001b[0m \u001b[0;34m\u001b[0m\u001b[0m\n\u001b[1;32m   1354\u001b[0m     \u001b[0;32melse\u001b[0m\u001b[0;34m:\u001b[0m\u001b[0;34m\u001b[0m\u001b[0;34m\u001b[0m\u001b[0m\n",
            "\u001b[0;31mTypeError\u001b[0m: Neither the `x` nor `y` variable appears to be numeric."
          ]
        }
      ]
    },
    {
      "cell_type": "code",
      "source": [
        "sns.barplot(x='Pclass',y='Survived',hue='Sex',data=titanic_df)"
      ],
      "metadata": {
        "colab": {
          "base_uri": "https://localhost:8080/",
          "height": 174
        },
        "id": "K8tM3YG9oFGX",
        "outputId": "b2aae4d4-b996-4cf6-ceef-86c9509698d9"
      },
      "execution_count": 77,
      "outputs": [
        {
          "output_type": "error",
          "ename": "NameError",
          "evalue": "ignored",
          "traceback": [
            "\u001b[0;31m---------------------------------------------------------------------------\u001b[0m",
            "\u001b[0;31mNameError\u001b[0m                                 Traceback (most recent call last)",
            "\u001b[0;32m<ipython-input-77-03da0b17141b>\u001b[0m in \u001b[0;36m<module>\u001b[0;34m\u001b[0m\n\u001b[0;32m----> 1\u001b[0;31m \u001b[0msns\u001b[0m\u001b[0;34m.\u001b[0m\u001b[0mbarplot\u001b[0m\u001b[0;34m(\u001b[0m\u001b[0mx\u001b[0m\u001b[0;34m=\u001b[0m\u001b[0;34m'Pclass'\u001b[0m\u001b[0;34m,\u001b[0m\u001b[0my\u001b[0m\u001b[0;34m=\u001b[0m\u001b[0;34m'Survived'\u001b[0m\u001b[0;34m,\u001b[0m\u001b[0mhue\u001b[0m\u001b[0;34m=\u001b[0m\u001b[0;34m'Sex'\u001b[0m\u001b[0;34m,\u001b[0m\u001b[0mdata\u001b[0m\u001b[0;34m=\u001b[0m\u001b[0mtitanic_df\u001b[0m\u001b[0;34m)\u001b[0m\u001b[0;34m\u001b[0m\u001b[0;34m\u001b[0m\u001b[0m\n\u001b[0m",
            "\u001b[0;31mNameError\u001b[0m: name 'titanic_df' is not defined"
          ]
        }
      ]
    },
    {
      "cell_type": "code",
      "source": [
        "#나이 카테고리 값으로 변경해서 그래프 그리기\n",
        "# 입력 age에 따라 구분값을 반환하는 함수 설정. DataFrame의 apply lambda식에 사용. \n",
        "def get_category(age):\n",
        "    cat = ''\n",
        "    if age <= -1: cat = 'Unknown'\n",
        "    elif age <= 5: cat = 'Baby'\n",
        "    elif age <= 12: cat = 'Child'\n",
        "    elif age <= 18: cat = 'Teenager'\n",
        "    elif age <= 25: cat = 'Student'\n",
        "    elif age <= 35: cat = 'Young Adult'\n",
        "    elif age <= 60: cat = 'Adult'\n",
        "    else : cat = 'Elderly'\n",
        "    \n",
        "    return cat\n",
        "\n",
        "# 막대그래프의 크기 figure를 더 크게 설정 \n",
        "plt.figure(figsize=(10,6))\n",
        "\n",
        "#X축의 값을 순차적으로 표시하기 위한 설정 \n",
        "group_names = ['Unknown', 'Baby', 'Child', 'Teenager', 'Student', 'Young Adult', 'Adult', 'Elderly']\n",
        "\n",
        "#위의 함수를 반환값으로(cat 반환)\n",
        "titanic_df['Age_cat']=titanic_df['Age'].apply(lambda x : get_category(x))\n",
        "#lambda식에 위에 생성한 get_category() 함수를 반환값으로 지정\n",
        "sns.barplot(x='Age_cat',y='Survived',hue='Sex',data=titanic_df,order=group_names)\n",
        "titanic_df.drop('Age_cat',axis=1,inplace=True)"
      ],
      "metadata": {
        "colab": {
          "base_uri": "https://localhost:8080/",
          "height": 266
        },
        "id": "2lzeMiYpnm5i",
        "outputId": "ddd5db66-82cc-4291-b66e-1589741bd2af"
      },
      "execution_count": 76,
      "outputs": [
        {
          "output_type": "error",
          "ename": "NameError",
          "evalue": "ignored",
          "traceback": [
            "\u001b[0;31m---------------------------------------------------------------------------\u001b[0m",
            "\u001b[0;31mNameError\u001b[0m                                 Traceback (most recent call last)",
            "\u001b[0;32m<ipython-input-76-90287944ee62>\u001b[0m in \u001b[0;36m<module>\u001b[0;34m\u001b[0m\n\u001b[1;32m     21\u001b[0m \u001b[0;34m\u001b[0m\u001b[0m\n\u001b[1;32m     22\u001b[0m \u001b[0;31m#위의 함수를 반환값으로(cat 반환)\u001b[0m\u001b[0;34m\u001b[0m\u001b[0;34m\u001b[0m\u001b[0;34m\u001b[0m\u001b[0m\n\u001b[0;32m---> 23\u001b[0;31m \u001b[0mtitanic_df\u001b[0m\u001b[0;34m[\u001b[0m\u001b[0;34m'Age_cat'\u001b[0m\u001b[0;34m]\u001b[0m\u001b[0;34m=\u001b[0m\u001b[0mtitanic_df\u001b[0m\u001b[0;34m[\u001b[0m\u001b[0;34m'Age'\u001b[0m\u001b[0;34m]\u001b[0m\u001b[0;34m.\u001b[0m\u001b[0mapply\u001b[0m\u001b[0;34m(\u001b[0m\u001b[0;32mlambda\u001b[0m \u001b[0mx\u001b[0m \u001b[0;34m:\u001b[0m \u001b[0mget_category\u001b[0m\u001b[0;34m(\u001b[0m\u001b[0mx\u001b[0m\u001b[0;34m)\u001b[0m\u001b[0;34m)\u001b[0m\u001b[0;34m\u001b[0m\u001b[0;34m\u001b[0m\u001b[0m\n\u001b[0m\u001b[1;32m     24\u001b[0m \u001b[0;31m#lambda식에 위에 생성한 get_category() 함수를 반환값으로 지정\u001b[0m\u001b[0;34m\u001b[0m\u001b[0;34m\u001b[0m\u001b[0;34m\u001b[0m\u001b[0m\n\u001b[1;32m     25\u001b[0m \u001b[0msns\u001b[0m\u001b[0;34m.\u001b[0m\u001b[0mbarplot\u001b[0m\u001b[0;34m(\u001b[0m\u001b[0mx\u001b[0m\u001b[0;34m=\u001b[0m\u001b[0;34m'Age_cat'\u001b[0m\u001b[0;34m,\u001b[0m\u001b[0my\u001b[0m\u001b[0;34m=\u001b[0m\u001b[0;34m'Survived'\u001b[0m\u001b[0;34m,\u001b[0m\u001b[0mhue\u001b[0m\u001b[0;34m=\u001b[0m\u001b[0;34m'Sex'\u001b[0m\u001b[0;34m,\u001b[0m\u001b[0mdata\u001b[0m\u001b[0;34m=\u001b[0m\u001b[0mtitanic_df\u001b[0m\u001b[0;34m,\u001b[0m\u001b[0morder\u001b[0m\u001b[0;34m=\u001b[0m\u001b[0mgroup_names\u001b[0m\u001b[0;34m)\u001b[0m\u001b[0;34m\u001b[0m\u001b[0;34m\u001b[0m\u001b[0m\n",
            "\u001b[0;31mNameError\u001b[0m: name 'titanic_df' is not defined"
          ]
        },
        {
          "output_type": "display_data",
          "data": {
            "text/plain": [
              "<Figure size 720x432 with 0 Axes>"
            ]
          },
          "metadata": {}
        }
      ]
    }
  ]
}