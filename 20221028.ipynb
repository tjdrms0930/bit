{
  "nbformat": 4,
  "nbformat_minor": 0,
  "metadata": {
    "colab": {
      "provenance": [],
      "authorship_tag": "ABX9TyPB2nxNOchbYKoN0vx+pvSu",
      "include_colab_link": true
    },
    "kernelspec": {
      "name": "python3",
      "display_name": "Python 3"
    },
    "language_info": {
      "name": "python"
    }
  },
  "cells": [
    {
      "cell_type": "markdown",
      "metadata": {
        "id": "view-in-github",
        "colab_type": "text"
      },
      "source": [
        "<a href=\"https://colab.research.google.com/github/tjdrms0930/bit/blob/main/20221028.ipynb\" target=\"_parent\"><img src=\"https://colab.research.google.com/assets/colab-badge.svg\" alt=\"Open In Colab\"/></a>"
      ]
    },
    {
      "cell_type": "markdown",
      "source": [
        "# Chapter15"
      ],
      "metadata": {
        "id": "KpyQuPJK_UNz"
      }
    },
    {
      "cell_type": "code",
      "execution_count": null,
      "metadata": {
        "id": "CcX8abQF-_nF"
      },
      "outputs": [],
      "source": [
        "from tensorflow.keras import models, layers\n",
        "from sklearn.model_selection import train_test_split\n",
        "import pandas as pd\n",
        "from tensorflow.keras.callbacks import ModelCheckpoint, EarlyStopping\n",
        "import matplotlib.pyplot as plt\n",
        "import seaborn as sns\n",
        "import numpy as np\n",
        "import tensorflow as tf"
      ]
    },
    {
      "cell_type": "code",
      "source": [
        "df = pd.read_csv('data/house_train.csv')\n",
        "df.head()"
      ],
      "metadata": {
        "id": "6fXTL_Jc_IDK"
      },
      "execution_count": null,
      "outputs": []
    },
    {
      "cell_type": "code",
      "source": [
        "df.info()"
      ],
      "metadata": {
        "id": "1DzcrVHc_JE9"
      },
      "execution_count": null,
      "outputs": []
    },
    {
      "cell_type": "code",
      "source": [
        "df.isnull().sum().sort_values(ascending=False).head(20)"
      ],
      "metadata": {
        "id": "VO9nVda1_Ki2"
      },
      "execution_count": null,
      "outputs": []
    },
    {
      "cell_type": "code",
      "source": [
        "df.isnull()"
      ],
      "metadata": {
        "id": "fZPL_KQw_MfT"
      },
      "execution_count": null,
      "outputs": []
    },
    {
      "cell_type": "code",
      "source": [
        "df = pd.get_dummies(df)\n",
        "df.head()"
      ],
      "metadata": {
        "id": "pPH_5OoL_OEh"
      },
      "execution_count": null,
      "outputs": []
    },
    {
      "cell_type": "code",
      "source": [
        "df = df.fillna(df.mean())"
      ],
      "metadata": {
        "id": "aeWfhO_4_PJg"
      },
      "execution_count": null,
      "outputs": []
    },
    {
      "cell_type": "code",
      "source": [
        "# 속성별 관련도 추출하기\n",
        "df_corr = df.corr()\n",
        "df_corr_sort = df_corr.sort_values('SalePrice', ascending=False)\n",
        "df_corr_sort['SalePrice'].head(10)"
      ],
      "metadata": {
        "id": "F1G_3Ne2_QNd"
      },
      "execution_count": null,
      "outputs": []
    },
    {
      "cell_type": "code",
      "source": [
        "# 시각화 : 상관도 그래프\n",
        "cols = ['SalePrice', 'OverallQual', 'GrLivArea', 'GarageCars', 'GarageArea', 'TotalBsmtSF']\n",
        "sns.pairplot(df[cols])\n",
        "plt.show()"
      ],
      "metadata": {
        "id": "fW749Qie_Ru8"
      },
      "execution_count": null,
      "outputs": []
    },
    {
      "cell_type": "code",
      "source": [
        "cols_train = ['OverallQual', 'GrLivArea', 'GarageCars', 'GarageArea', 'TotalBsmtSF']\n",
        "X_train_pre = df[cols_train]\n",
        "\n",
        "y = df['SalePrice'].values"
      ],
      "metadata": {
        "id": "Pw6i8S8B_TWE"
      },
      "execution_count": null,
      "outputs": []
    },
    {
      "cell_type": "code",
      "source": [
        "X_train, X_test, y_train, y_test = train_test_split(X_train_pre, y, test_size=0.2)"
      ],
      "metadata": {
        "id": "4iSdgjQa_9m4"
      },
      "execution_count": null,
      "outputs": []
    },
    {
      "cell_type": "code",
      "source": [
        "model = models.Sequential()\n",
        "model.add(layers.Dense(10, input_dim=X_train.shape[1], activation='relu'))\n",
        "model.add(layers.Dense(30, activation='relu'))\n",
        "model.add(layers.Dense(40, activation='relu'))\n",
        "model.add(layers.Dense(1))\n",
        "model.summary()"
      ],
      "metadata": {
        "id": "23bLLx_kAQNT"
      },
      "execution_count": null,
      "outputs": []
    },
    {
      "cell_type": "code",
      "source": [
        "model.compile(loss='mean_squared_error', optimizer='adam')\n",
        "early_stopping = EarlyStopping(monitor='val_loss', patience=20)\n",
        "modelpath = 'data/mode/house.hdf5'\n",
        "checkpointer = ModelCheckpoint(filepath=modelpath, monitor='val_loss', verbose=0,\n",
        "                              save_best_only=True)"
      ],
      "metadata": {
        "id": "e9metdI2Askk"
      },
      "execution_count": null,
      "outputs": []
    },
    {
      "cell_type": "code",
      "source": [
        "history = model.fit(X_train, y_train, validation_split=0.25, epochs=2000, batch_size=32,\n",
        "                   callbacks=[early_stopping, checkpointer])"
      ],
      "metadata": {
        "id": "bUI-qlTXCPqj"
      },
      "execution_count": null,
      "outputs": []
    },
    {
      "cell_type": "code",
      "source": [
        "# 학습결과 시각화\n",
        "real_prices = [] # 실제값 넣을 리스트\n",
        "pred_prices = [] # 예측값 넣을 리스트\n",
        "X_num = []\n",
        "\n",
        "n_iter = 0\n",
        "y_prediction = model.predict(X_test).flatten()\n",
        "for i in range(30):\n",
        "    real = y_test[i]\n",
        "    prediction = y_prediction[i]\n",
        "    print(\"실제가격: {:.2f}, 예상가격: {:.2f}\".format(real, prediction))\n",
        "    real_prices.append(real)\n",
        "    pred_prices.append(prediction)\n",
        "    n_iter += 1\n",
        "    X_num.append(n_iter)"
      ],
      "metadata": {
        "id": "OsTX9sfFCfUn"
      },
      "execution_count": null,
      "outputs": []
    },
    {
      "cell_type": "code",
      "source": [
        "plt.plot(X_num, pred_prices, label='predicted price')\n",
        "plt.plot(X_num, real_prices, label='real price')\n",
        "plt.legend()\n",
        "plt.show()"
      ],
      "metadata": {
        "id": "p2e7tYYWKw-f"
      },
      "execution_count": null,
      "outputs": []
    },
    {
      "cell_type": "markdown",
      "source": [
        "# Chapter16"
      ],
      "metadata": {
        "id": "cn-ZpZJUMpyV"
      }
    },
    {
      "cell_type": "code",
      "source": [
        "from tensorflow.keras.datasets import mnist\n",
        "from tensorflow.keras.utils import to_categorical\n",
        "import matplotlib.pyplot as plt\n",
        "import sys"
      ],
      "metadata": {
        "id": "7Pcnop_LMrPM"
      },
      "execution_count": null,
      "outputs": []
    },
    {
      "cell_type": "code",
      "source": [
        "(X_train, y_train),(X_test, y_test) = mnist.load_data()\n",
        "print('train image: %d' % (X_train.shape[0]))\n",
        "print('test image: %d' % (X_test.shape[0]))"
      ],
      "metadata": {
        "id": "jsB_yg4aMt-R"
      },
      "execution_count": null,
      "outputs": []
    },
    {
      "cell_type": "code",
      "source": [
        "print(X_train.shape)"
      ],
      "metadata": {
        "id": "XqCHllaAMvQa"
      },
      "execution_count": null,
      "outputs": []
    },
    {
      "cell_type": "code",
      "source": [
        "plt.imshow(X_train[0], cmap='Greys')\n",
        "plt.show()"
      ],
      "metadata": {
        "id": "gyrK7lQ3Ng2e"
      },
      "execution_count": null,
      "outputs": []
    },
    {
      "cell_type": "code",
      "source": [
        "for x in X_train[0]:\n",
        "    for i in x:\n",
        "        sys.stdout.write('%-4s' % i)\n",
        "    sys.stdout.write('\\n')"
      ],
      "metadata": {
        "id": "CnnfiX6ZNh0s"
      },
      "execution_count": null,
      "outputs": []
    },
    {
      "cell_type": "code",
      "source": [
        "X_train = X_train.reshape(X_train.shape[0], 28*28)\n",
        "X_train = X_train.astype(float) / 255\n",
        "\n",
        "X_test = X_test.reshape(X_test.shape[0], 28*28).astype(float) / 255\n",
        "\n",
        "print(y_train[0])"
      ],
      "metadata": {
        "id": "_ECkLPWqNkCY"
      },
      "execution_count": null,
      "outputs": []
    },
    {
      "cell_type": "code",
      "source": [
        "print(X_train[0])"
      ],
      "metadata": {
        "id": "R4IUpdWnOkTK"
      },
      "execution_count": null,
      "outputs": []
    },
    {
      "cell_type": "code",
      "source": [
        "y_train = to_categorical(y_train) # import to_categorical 사용\n",
        "y_test = to_categorical(y_test) # 원-핫 인코딩 문자열을 0과 1로만 이루어진 숫자 형태로 만들어주는 과정\n",
        "\n",
        "print(y_train[0])"
      ],
      "metadata": {
        "id": "VuI_YhnQOlP5"
      },
      "execution_count": null,
      "outputs": []
    },
    {
      "cell_type": "code",
      "source": [
        "from tensorflow.keras import models, layers\n",
        "from tensorflow.keras.callbacks import EarlyStopping, ModelCheckpoint\n",
        "import numpy as np\n",
        "import os"
      ],
      "metadata": {
        "id": "udM_e2mLQ_RJ"
      },
      "execution_count": null,
      "outputs": []
    },
    {
      "cell_type": "code",
      "source": [
        "model = models.Sequential()\n",
        "model.add(layers.Dense(512, input_dim=28*28, activation='relu'))\n",
        "model.add(layers.Dense(10, activation='softmax'))\n",
        "model.summary()"
      ],
      "metadata": {
        "id": "Cd274M90RbfH"
      },
      "execution_count": null,
      "outputs": []
    },
    {
      "cell_type": "code",
      "source": [
        "model.compile(loss='categorical_crossentropy', optimizer='adam',\n",
        "             metrics=['accuracy'])\n",
        "\n",
        "model_dir = 'data/model'\n",
        "if not os.path.exists(model_dir):\n",
        "    os.mkdir(model_path)\n",
        "    \n",
        "modelpath = 'data/model/mnist.hdf5'\n",
        "checkpointer = ModelCheckpoint(filepath=modelpath, monitor='val_loss', verbose=1,\n",
        "                              save_best_only=True)\n",
        "early_stopping = EarlyStopping(monitor='val_loss', patience=10)"
      ],
      "metadata": {
        "id": "73fnBFxxYZxf"
      },
      "execution_count": null,
      "outputs": []
    },
    {
      "cell_type": "code",
      "source": [
        "history = model.fit(X_train, y_train, validation_split=0.25, epochs=30, batch_size=200,\n",
        "                   verbose=0, callbacks=[checkpointer, early_stopping])"
      ],
      "metadata": {
        "id": "1lzwNEsfYa2h"
      },
      "execution_count": null,
      "outputs": []
    },
    {
      "cell_type": "code",
      "source": [
        "print('Test Accuracy: %.4f' % (model.evaluate(X_test, y_test)[1]))"
      ],
      "metadata": {
        "id": "0kV3FLQ1YcGM"
      },
      "execution_count": null,
      "outputs": []
    },
    {
      "cell_type": "code",
      "source": [
        "# 검증셋과 학습셋의 오차를 저장합니다. \n",
        "y_vloss = history.history['val_loss']\n",
        "y_loss = history.history['loss']\n",
        "\n",
        "# 그래프로 표현해 봅니다.\n",
        "x_len = np.arange(len(y_loss))\n",
        "plt.plot(x_len, y_vloss, marker='.', c=\"red\", label='Testset_loss')\n",
        "plt.plot(x_len, y_loss, marker='.', c=\"blue\", label='Trainset_loss')\n",
        "\n",
        "# 그래프에 그리드를 주고 레이블을 표시해 보겠습니다.\n",
        "plt.legend(loc='upper right')\n",
        "plt.grid()\n",
        "plt.xlabel('epoch')\n",
        "plt.ylabel('loss')\n",
        "plt.show()"
      ],
      "metadata": {
        "id": "Djm3eDbWYdHY"
      },
      "execution_count": null,
      "outputs": []
    },
    {
      "cell_type": "markdown",
      "source": [
        "# Chapter 16-2"
      ],
      "metadata": {
        "id": "W4EvU3POeDrw"
      }
    },
    {
      "cell_type": "code",
      "source": [
        "from tensorflow.keras import models, layers\n",
        "from sklearn.model_selection import train_test_split\n",
        "import pandas as pd\n",
        "from tensorflow.keras.callbacks import ModelCheckpoint, EarlyStopping\n",
        "from tensorflow.keras.datasets import mnist\n",
        "from tensorflow.keras.utils import to_categorical\n",
        "import matplotlib.pyplot as plt\n",
        "import seaborn as sns\n",
        "import numpy as np\n",
        "import tensorflow as tf"
      ],
      "metadata": {
        "id": "2Ht3z24GYeNE"
      },
      "execution_count": null,
      "outputs": []
    },
    {
      "cell_type": "code",
      "source": [
        "(X_train, y_train),(X_test, y_test) = mnist.load_data()\n",
        "X_train = X_train.reshape(X_train.shape[0], 28, 28, 1).astype(float) / 255\n",
        "X_test = X_test.reshape(X_test.shape[0], 28, 28, 1).astype(float) / 255\n",
        "y_train = to_categorical(y_train) \n",
        "y_test = to_categorical(y_test) "
      ],
      "metadata": {
        "id": "A9ZYAJ4zeHo9"
      },
      "execution_count": null,
      "outputs": []
    },
    {
      "cell_type": "code",
      "source": [
        "model = models.Sequential()\n",
        "model.add(layers.Conv2D(32, kernel_size=(3,3), input_shape=(28, 28, 1),\n",
        "                       activation='relu'))\n",
        "model.add(layers.Conv2D(64, kernel_size=(3,3), activation='relu'))"
      ],
      "metadata": {
        "id": "0s12qXgleIkl"
      },
      "execution_count": null,
      "outputs": []
    },
    {
      "cell_type": "code",
      "source": [],
      "metadata": {
        "id": "YrWVgHT4eJlv"
      },
      "execution_count": null,
      "outputs": []
    }
  ]
}