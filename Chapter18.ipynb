{
  "nbformat": 4,
  "nbformat_minor": 0,
  "metadata": {
    "colab": {
      "provenance": [],
      "authorship_tag": "ABX9TyO+WnGfFgXR7wTl2LnZsA9o",
      "include_colab_link": true
    },
    "kernelspec": {
      "name": "python3",
      "display_name": "Python 3"
    },
    "language_info": {
      "name": "python"
    }
  },
  "cells": [
    {
      "cell_type": "markdown",
      "metadata": {
        "id": "view-in-github",
        "colab_type": "text"
      },
      "source": [
        "<a href=\"https://colab.research.google.com/github/tjdrms0930/bit/blob/main/Chapter18.ipynb\" target=\"_parent\"><img src=\"https://colab.research.google.com/assets/colab-badge.svg\" alt=\"Open In Colab\"/></a>"
      ]
    },
    {
      "cell_type": "code",
      "execution_count": null,
      "metadata": {
        "id": "j0VGGEQ5Y6u1"
      },
      "outputs": [],
      "source": [
        "from tensorflow.keras import models, layers\n",
        "from tensorflow.keras.utils import to_categorical\n",
        "from tensorflow.keras.preprocessing import sequence\n",
        "from tensorflow.keras.datasets import reuters\n",
        "from tensorflow.keras.callbacks import EarlyStopping\n",
        "import numpy as np\n",
        "import matplotlib.pyplot as plt\n",
        "import os\n",
        "os.environ[\"KMP_DUPLICATE_LIB_OK\"]=\"TRUE\""
      ]
    },
    {
      "cell_type": "code",
      "source": [
        "(X_train, y_train), (X_test, y_test) = reuters.load_data(num_words=1000, test_split=0.2)"
      ],
      "metadata": {
        "id": "t2MiOhIBaCyw"
      },
      "execution_count": null,
      "outputs": []
    },
    {
      "cell_type": "code",
      "source": [
        "category = np.max(y_train) + 1\n",
        "print('종류 :', category)\n",
        "print('Train data', len(X_train))\n",
        "print('Test data', len(X_test))"
      ],
      "metadata": {
        "id": "eEe5Td-UaEjh"
      },
      "execution_count": null,
      "outputs": []
    },
    {
      "cell_type": "code",
      "source": [
        "print(len(X_train[0]))"
      ],
      "metadata": {
        "id": "rRjQ8Va8aXQm"
      },
      "execution_count": null,
      "outputs": []
    },
    {
      "cell_type": "code",
      "source": [
        "X_train = sequence.pad_sequences(X_train, maxlen=100)\n",
        "X_test = sequence.pad_sequences(X_test, maxlen=100)"
      ],
      "metadata": {
        "id": "PPe0cY-OapdN"
      },
      "execution_count": null,
      "outputs": []
    },
    {
      "cell_type": "code",
      "source": [
        "y_train = to_categorical(y_train)\n",
        "y_test = to_categorical(y_test)"
      ],
      "metadata": {
        "id": "q57zTCHqayEd"
      },
      "execution_count": null,
      "outputs": []
    },
    {
      "cell_type": "code",
      "source": [
        "model = models.Sequential()\n",
        "model.add(layers.Embedding(1000, 100))\n",
        "model.add(layers.LSTM(100, activation='tanh'))\n",
        "model.add(layers.Dense(46, activation='softmax'))\n",
        "model.summary()\n",
        "# 4*((100+100) * 100 + 100) = 80400 = LSTM  Param 값"
      ],
      "metadata": {
        "id": "Q6RdhbMNa8pD"
      },
      "execution_count": null,
      "outputs": []
    },
    {
      "cell_type": "code",
      "source": [
        "model.compile(loss='categorical_crossentropy', optimizer='adam', metrics=['accuracy'])\n",
        "early_stopping = EarlyStopping(monitor='val_loss', patience=5)"
      ],
      "metadata": {
        "id": "1dXDXWm2bhgy"
      },
      "execution_count": null,
      "outputs": []
    },
    {
      "cell_type": "code",
      "source": [
        "history = model.fit(X_train, y_train, batch_size=20, epochs=200,\n",
        "                   validation_data=(X_test, y_test),\n",
        "                   callbacks=[early_stopping])"
      ],
      "metadata": {
        "id": "0JSt7lfJmA32"
      },
      "execution_count": null,
      "outputs": []
    },
    {
      "cell_type": "code",
      "source": [
        "print('Test Accuracy: %.4f' % (model.evaluate(X_test, y_test)[1]))"
      ],
      "metadata": {
        "id": "6_1EYNUFoSFX"
      },
      "execution_count": null,
      "outputs": []
    },
    {
      "cell_type": "code",
      "source": [
        "# 학습셋과 테스트셋의 오차를 저장합니다. \n",
        "y_vloss = history.history['val_loss']\n",
        "y_loss = history.history['loss']\n",
        "\n",
        "# 그래프로 표현해 보겠습니다.\n",
        "x_len = np.arange(len(y_loss))\n",
        "plt.plot(x_len, y_vloss, marker='.', c=\"red\", label='Testset_loss')\n",
        "plt.plot(x_len, y_loss, marker='.', c=\"blue\", label='Trainset_loss')\n",
        "\n",
        "# 그래프에 그리드를 주고 레이블을 표시하겠습니다. \n",
        "plt.legend(loc='upper right')\n",
        "plt.grid()\n",
        "plt.xlabel('epoch')\n",
        "plt.ylabel('loss')\n",
        "plt.show()"
      ],
      "metadata": {
        "id": "iuBdX0S9oVfp"
      },
      "execution_count": null,
      "outputs": []
    },
    {
      "cell_type": "markdown",
      "source": [
        "# Chapter 18-1"
      ],
      "metadata": {
        "id": "iB2H864ro1Kh"
      }
    },
    {
      "cell_type": "code",
      "source": [
        "from tensorflow.keras import models, layers\n",
        "from tensorflow.keras.utils import to_categorical\n",
        "from tensorflow.keras.preprocessing import sequence\n",
        "from tensorflow.keras.datasets import imdb\n",
        "from tensorflow.keras.callbacks import EarlyStopping\n",
        "import numpy as np\n",
        "import matplotlib.pyplot as plt\n",
        "import os\n",
        "os.environ[\"KMP_DUPLICATE_LIB_OK\"]=\"TRUE\""
      ],
      "metadata": {
        "id": "11jzOi26oWGY"
      },
      "execution_count": null,
      "outputs": []
    },
    {
      "cell_type": "code",
      "source": [
        "(X_train, y_train), (X_test, y_test) = imdb.load_data(num_words=5000)"
      ],
      "metadata": {
        "id": "w8jxwSldpznk"
      },
      "execution_count": null,
      "outputs": []
    },
    {
      "cell_type": "code",
      "source": [
        "X_train = sequence.pad_sequences(X_train, maxlen=500)\n",
        "X_test = sequence.pad_sequences(X_test, maxlen=500)"
      ],
      "metadata": {
        "id": "GmJ2L4LCp0fe"
      },
      "execution_count": null,
      "outputs": []
    },
    {
      "cell_type": "code",
      "source": [
        "model = models.Sequential()\n",
        "model.add(layers.Embedding(5000, 100))\n",
        "model.add(layers.Dropout(0.5))\n",
        "model.add(layers.Conv1D(64, 5, activation='relu'))\n",
        "model.add(layers.MaxPooling1D(pool_size=4))\n",
        "model.add(layers.LSTM(55))\n",
        "model.add(layers.Dense(1))\n",
        "model.add(layers.Activation('sigmoid'))\n",
        "model.summary()"
      ],
      "metadata": {
        "id": "cVjIKOwwp1WA"
      },
      "execution_count": null,
      "outputs": []
    },
    {
      "cell_type": "code",
      "source": [
        "model.compile(loss='binary_crossentropy', optimizer='adam', metrics=['accuracy'])\n",
        "early_stopping = EarlyStopping(monitor = 'val_loss', patience=5)"
      ],
      "metadata": {
        "id": "1dLS-NLsp_o3"
      },
      "execution_count": null,
      "outputs": []
    },
    {
      "cell_type": "code",
      "source": [
        "history = model.fit(X_train, y_train, batch_size=40, epochs=100,\n",
        "                   validation_split=0.25, callbacks=[early_stopping])"
      ],
      "metadata": {
        "id": "f3VluPCNqw8d"
      },
      "execution_count": null,
      "outputs": []
    },
    {
      "cell_type": "code",
      "source": [
        "print('Test Accuracy: %.4f' % (model.evaluate(X_test, y_test)[1]))"
      ],
      "metadata": {
        "id": "6ronUhyKqyF_"
      },
      "execution_count": null,
      "outputs": []
    },
    {
      "cell_type": "code",
      "source": [
        "# 학습셋과 테스트셋의 오차를 저장합니다. \n",
        "y_vloss = history.history['val_loss']\n",
        "y_loss = history.history['loss']\n",
        "\n",
        "# 그래프로 표현해 보겠습니다.\n",
        "x_len = np.arange(len(y_loss))\n",
        "plt.plot(x_len, y_vloss, marker='.', c=\"red\", label='Testset_loss')\n",
        "plt.plot(x_len, y_loss, marker='.', c=\"blue\", label='Trainset_loss')\n",
        "\n",
        "# 그래프에 그리드를 주고 레이블을 표시하겠습니다. \n",
        "plt.legend(loc='upper right')\n",
        "plt.grid()\n",
        "plt.xlabel('epoch')\n",
        "plt.ylabel('loss')\n",
        "plt.show()"
      ],
      "metadata": {
        "id": "cBOM3cPnsZJW"
      },
      "execution_count": null,
      "outputs": []
    },
    {
      "cell_type": "markdown",
      "source": [
        "# Chapter 19"
      ],
      "metadata": {
        "id": "7whcWlf82sHR"
      }
    },
    {
      "cell_type": "code",
      "source": [
        "from tensorflow.keras import models, layers\n",
        "from tensorflow.keras.datasets import mnist\n",
        "import numpy as np\n",
        "import matplotlib.pyplot as plt\n",
        "import os\n",
        "os.environ[\"KMP_DUPLICATE_LIB_OK\"]=\"TRUE\""
      ],
      "metadata": {
        "id": "o_bn6inU2tiN"
      },
      "execution_count": null,
      "outputs": []
    },
    {
      "cell_type": "code",
      "source": [
        "generator = models.Sequential()\n",
        "generator.add(layers.Dense(128*7*7, input_dim=100, activation=layers.LeakyReLU(0.2))) # 기울기주려고 LeakyReLU 사용\n",
        "generator.add(layers.BatchNormalization()) # 0~1 로 스케일링해서 편차를 줄임\n",
        "generator.add(layers.Reshape((7, 7, 128))) # 7 x 7 의 이미지가 128개 쌓임\n",
        "generator.add(layers.UpSampling2D()) # 반대로 2배 키움\n",
        "generator.add(layers.Conv2D(64, kernel_size=5, padding='same'))\n",
        "generator.add(layers.BatchNormalization())\n",
        "generator.add(layers.Activation(layers.LeakyReLU(0.2)))\n",
        "generator.add(layers.UpSampling2D())\n",
        "generator.add(layers.Conv2D(1, kernel_size=5, padding='same', activation='tanh'))\n",
        "generator.summary()"
      ],
      "metadata": {
        "id": "E_HhWoFX2uuI"
      },
      "execution_count": null,
      "outputs": []
    },
    {
      "cell_type": "code",
      "source": [
        "# 판별자 모델 만들기\n",
        "discriminator = models.Sequential()\n",
        "discriminator.add(layers.Conv2D(64, kernel_size=5, input_shape=(28, 28, 1),\n",
        "                               strides=2, padding='same'))\n",
        "discriminator.add(layers.Activation(layers.LeakyReLU(0.2)))\n",
        "discriminator.add(layers.Dropout(0.3))\n",
        "discriminator.add(layers.Conv2D(128, kernel_size=5, strides=2, padding='same'))\n",
        "discriminator.add(layers.Activation(layers.LeakyReLU(0.2)))\n",
        "discriminator.add(layers.Dropout(0.3))\n",
        "discriminator.add(layers.Flatten())\n",
        "discriminator.add(layers.Dense(1, activation='sigmoid'))\n",
        "discriminator.compile(loss='binary_crossentropy', optimizer='adam')\n",
        "discriminator.trainable = False"
      ],
      "metadata": {
        "id": "XyWO7ega2v25"
      },
      "execution_count": null,
      "outputs": []
    },
    {
      "cell_type": "code",
      "source": [
        "# 생성자와 판별자 모델을 연결시키는 gan 모델 만들기\n",
        "ginput = layers.Input(shape=(100,))\n",
        "dis_output = discriminator(generator(ginput))\n",
        "gan = models.Model(ginput, dis_output)\n",
        "gan.compile(loss='binary_crossentropy', optimizer='adam')\n",
        "gan.summary()"
      ],
      "metadata": {
        "id": "FYBvXCq76sho"
      },
      "execution_count": null,
      "outputs": []
    },
    {
      "cell_type": "code",
      "source": [
        "def gan_train(epoch, batch_size, saving_interval):\n",
        "    (X_train, _), (_, _) = mnist.load_data()\n",
        "    X_train = X_train.reshape(X_train.shape[0], 28, 28, 1).astype(float)\n",
        "    X_train = (X_train - 127.5) / 127.5\n",
        "    \n",
        "    true = np.ones((batch_size, 1))\n",
        "    fake = np.zeros((batch_size, 1))\n",
        "    \n",
        "    for i in range(epoch):\n",
        "        idx = np.random.randint(0, X_train.shape[0], batch_size)\n",
        "        imgs = X_train[idx]\n",
        "        d_loss_real = discriminator.train_on_batch(imgs, true)\n",
        "        \n",
        "        noise = np.random.normal(0, 1, (batch_size, 100))\n",
        "        gen_imgs = generator.predict(noise)\n",
        "        d_loss_fake = discriminator.train_on_batch(gen_imgs, fake)\n",
        "        \n",
        "        d_loss = 0.5 * np.add(d_loss_real, d_loss_fake)\n",
        "        g_loss = gan.train_on_batch(noise, true)\n",
        "        \n",
        "        print('epoch:%d' % i, ' d_loss:%.4f' % d_loss, ' g_loss:%.4f' % g_loss)\n",
        "        \n",
        "        if i % saving_interval == 0:\n",
        "              #r, c = 5, 5\n",
        "              noise = np.random.normal(0, 1, (25, 100))\n",
        "              gen_imgs = generator.predict(noise)\n",
        "\n",
        "              # Rescale images 0 - 1\n",
        "              gen_imgs = 0.5 * gen_imgs + 0.5\n",
        "\n",
        "              fig, axs = plt.subplots(5, 5)\n",
        "              count = 0\n",
        "              for j in range(5):\n",
        "                  for k in range(5):\n",
        "                      axs[j, k].imshow(gen_imgs[count, :, :, 0], cmap='gray')\n",
        "                      axs[j, k].axis('off')\n",
        "                      count += 1\n",
        "              fig.savefig(\"./gan_images/gan_mnist_%d.png\" % i)"
      ],
      "metadata": {
        "id": "Wb63x19Y7gjw"
      },
      "execution_count": null,
      "outputs": []
    },
    {
      "cell_type": "code",
      "source": [
        "gan_train(2001, 32, 200)"
      ],
      "metadata": {
        "id": "tC9BrN6-FPpR"
      },
      "execution_count": null,
      "outputs": []
    },
    {
      "cell_type": "code",
      "source": [],
      "metadata": {
        "id": "-0cBWaZ3FQ-M"
      },
      "execution_count": null,
      "outputs": []
    }
  ]
}