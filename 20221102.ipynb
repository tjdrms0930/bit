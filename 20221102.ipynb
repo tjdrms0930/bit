{
  "nbformat": 4,
  "nbformat_minor": 0,
  "metadata": {
    "colab": {
      "provenance": [],
      "authorship_tag": "ABX9TyMRUE2lA0BHowu1LyGTpoyT",
      "include_colab_link": true
    },
    "kernelspec": {
      "name": "python3",
      "display_name": "Python 3"
    },
    "language_info": {
      "name": "python"
    }
  },
  "cells": [
    {
      "cell_type": "markdown",
      "metadata": {
        "id": "view-in-github",
        "colab_type": "text"
      },
      "source": [
        "<a href=\"https://colab.research.google.com/github/tjdrms0930/bit/blob/main/20221102.ipynb\" target=\"_parent\"><img src=\"https://colab.research.google.com/assets/colab-badge.svg\" alt=\"Open In Colab\"/></a>"
      ]
    },
    {
      "cell_type": "markdown",
      "source": [
        "# Chapter 19-2"
      ],
      "metadata": {
        "id": "OpP8bkTDsAqk"
      }
    },
    {
      "cell_type": "code",
      "execution_count": null,
      "metadata": {
        "id": "WbVsZsj6pPIC"
      },
      "outputs": [],
      "source": [
        "# p297 오토 인코더\n",
        "from tensorflow.keras.datasets import mnist\n",
        "from tensorflow.keras import models, layers\n",
        "import matplotlib.pyplot as plt\n",
        "import numpy as np\n",
        "import os\n",
        "os.environ['KMP_DUPLICATE_LIB_OK']='TRUE'"
      ]
    },
    {
      "cell_type": "code",
      "source": [
        "(X_train, _), (X_test, _) = mnist.load_data()\n",
        "X_train = X_train.reshape(X_train.shape[0], 28, 28, 1).astype(float) / 255\n",
        "X_test = X_test.reshape(X_test.shape[0], 28, 28, 1).astype(float) / 255"
      ],
      "metadata": {
        "id": "QEbOsC2Xw2ci"
      },
      "execution_count": null,
      "outputs": []
    },
    {
      "cell_type": "code",
      "source": [
        "autoencoder = models.Sequential()\n",
        "\n",
        "# encoder\n",
        "autoencoder.add(layers.Conv2D(16, kernel_size=3, padding='same',\n",
        "                             input_shape=(28, 28, 1), activation='relu'))\n",
        "autoencoder.add(layers.MaxPooling2D(pool_size=2, padding='same'))\n",
        "autoencoder.add(layers.Conv2D(8, kernel_size=3, padding='same', activation='relu'))\n",
        "autoencoder.add(layers.MaxPooling2D(pool_size=2, padding='same'))\n",
        "autoencoder.add(layers.Conv2D(8, kernel_size=3, padding='same', activation='relu', strides=2))\n",
        "\n",
        "#decoder\n",
        "autoencoder.add(layers.Conv2D(8, kernel_size=3, padding='same', activation='relu'))\n",
        "autoencoder.add(layers.UpSampling2D())\n",
        "autoencoder.add(layers.Conv2D(8, kernel_size=3, padding='same', activation='relu'))\n",
        "autoencoder.add(layers.UpSampling2D())\n",
        "autoencoder.add(layers.Conv2D(16, kernel_size=3, activation='relu'))\n",
        "autoencoder.add(layers.UpSampling2D())\n",
        "autoencoder.add(layers.Conv2D(1, kernel_size=3, padding='same', activation='sigmoid'))\n",
        "autoencoder.summary()"
      ],
      "metadata": {
        "id": "9xKUVGM4w30D"
      },
      "execution_count": null,
      "outputs": []
    },
    {
      "cell_type": "code",
      "source": [
        "autoencoder.compile(loss='binary_crossentropy', optimizer='adam')\n",
        "autoencoder.fit(X_train, X_train, epochs=50, batch_size=128,\n",
        "               validation_data=(X_test, X_test))"
      ],
      "metadata": {
        "id": "RgnXHyS6w4_j"
      },
      "execution_count": null,
      "outputs": []
    },
    {
      "cell_type": "code",
      "source": [
        "random_test = np.random.randint(X_test.shape[0], size=5)  # 테스트할 이미지를 랜덤하게 불러옵니다.\n",
        "ae_imgs = autoencoder.predict(X_test)                     # 앞서 만든 오토인코더 모델에 집어 넣습니다.\n",
        "\n",
        "plt.figure(figsize=(7, 2))                         # 출력될 이미지의 크기를 정합니다.\n",
        "\n",
        "for i, image_idx in enumerate(random_test):       # 랜덤하게 뽑은 이미지를 차례로 나열합니다.\n",
        "   ax = plt.subplot(2, 7, i + 1) \n",
        "   plt.imshow(X_test[image_idx].reshape(28, 28))   # 테스트할 이미지를 먼저 그대로 보여줍니다.\n",
        "   ax.axis('off')\n",
        "   ax = plt.subplot(2, 7, 7 + i +1)\n",
        "   plt.imshow(ae_imgs[image_idx].reshape(28, 28)) # 오토인코딩 결과를 다음열에 출력합니다.\n",
        "   ax.axis('off')\n",
        "plt.show()"
      ],
      "metadata": {
        "id": "8RkIkHiTw6Xm"
      },
      "execution_count": null,
      "outputs": []
    },
    {
      "cell_type": "markdown",
      "source": [
        "# Chapter 20"
      ],
      "metadata": {
        "id": "IJB-zG8D-Zlm"
      }
    },
    {
      "cell_type": "code",
      "source": [
        "from tensorflow.keras.preprocessing.image import ImageDataGenerator\n",
        "from tensorflow.keras.callbacks import EarlyStopping\n",
        "from tensorflow.keras import models, layers, optimizers\n",
        "import matplotlib.pyplot as plt\n",
        "import numpy as np\n",
        "import os\n",
        "os.environ['KMP_DUPLICATE_LIB_OK']='TRUE'"
      ],
      "metadata": {
        "id": "zvnzlZv5-bU2"
      },
      "execution_count": null,
      "outputs": []
    },
    {
      "cell_type": "code",
      "source": [
        "train_datagen = ImageDataGenerator(rescale=1./255,\n",
        "                                  horizontal_flip=True,\n",
        "                                  # 수평 대칭 이미지를 50% 확률로 만들어 추가합니다.\n",
        "                                  width_shift_range=0.1,\n",
        "                                  # 전체 크기의 15% 범위에서 좌우로 이동합니다.\n",
        "                                  height_shift_range=0.1)\n",
        "test_datagen = ImageDataGenerator(rescale=1./255)\n",
        "train_generator = train_datagen.flow_from_directory('data/train',\n",
        "                                                   target_size=(150, 150),\n",
        "                                                   batch_size = 5,\n",
        "                                                   class_mode='binary')\n",
        "test_generator = test_datagen.flow_from_directory('data/train',\n",
        "                                                   target_size=(150, 150),\n",
        "                                                   batch_size = 5,\n",
        "                                                   class_mode='binary')"
      ],
      "metadata": {
        "id": "6_-yWqwN_0WT"
      },
      "execution_count": null,
      "outputs": []
    },
    {
      "cell_type": "code",
      "source": [
        "model = models.Sequential()\n",
        "model.add(layers.Conv2D(32, (3,3), input_shape=(150, 150, 3), activation='relu'))\n",
        "model.add(layers.MaxPooling2D(pool_size=(2,2)))\n",
        "\n",
        "model.add(layers.Conv2D(32, (3,3), activation='relu'))\n",
        "model.add(layers.MaxPooling2D(pool_size=(2,2)))\n",
        "\n",
        "model.add(layers.Conv2D(64, (3,3), activation='relu'))\n",
        "model.add(layers.MaxPooling2D(pool_size=(2,2)))\n",
        "\n",
        "model.add(layers.Flatten())\n",
        "model.add(layers.Dense(64, activation='relu'))\n",
        "model.add(layers.Dropout(0.5))\n",
        "model.add(layers.Dense(1, activation='sigmoid'))\n",
        "model.summary()\n"
      ],
      "metadata": {
        "id": "BFO1007jGrKm"
      },
      "execution_count": null,
      "outputs": []
    },
    {
      "cell_type": "code",
      "source": [
        "model.compile(loss='binary_crossentropy',\n",
        "             optimizer=optimizers.Adam(learning_rate=0.0002),\n",
        "             metrics=['accuracy'])\n",
        "early_stopping = EarlyStopping(monitor='val_loss', patience=5)"
      ],
      "metadata": {
        "id": "gxdSpWghGt8X"
      },
      "execution_count": null,
      "outputs": []
    },
    {
      "cell_type": "code",
      "source": [
        "history = model.fit(train_generator, epochs=100,\n",
        "                   validation_data=test_generator,\n",
        "                   callbacks=[early_stopping])"
      ],
      "metadata": {
        "id": "g2InytHCIEn0"
      },
      "execution_count": null,
      "outputs": []
    },
    {
      "cell_type": "code",
      "source": [
        "# 검증셋과 학습셋의 오차를 저장합니다.\n",
        "y_vloss = history.history['val_loss']\n",
        "y_loss = history.history['loss']\n",
        "\n",
        "# 그래프로 표현해 봅니다.\n",
        "x_len = np.arange(len(y_loss))\n",
        "plt.plot(x_len, y_vloss, marker='.', c=\"red\", label='Testset_loss')\n",
        "plt.plot(x_len, y_loss, marker='.', c=\"blue\", label='Trainset_loss')\n",
        "\n",
        "# 그래프에 그리드를 주고 레이블을 표시하겠습니다.\n",
        "plt.legend(loc='upper right')\n",
        "plt.grid()\n",
        "plt.xlabel('epoch')\n",
        "plt.ylabel('loss')\n",
        "plt.show()"
      ],
      "metadata": {
        "id": "iQs92un9IGhQ"
      },
      "execution_count": null,
      "outputs": []
    },
    {
      "cell_type": "code",
      "source": [],
      "metadata": {
        "id": "yWwzCVR2IlMG"
      },
      "execution_count": null,
      "outputs": []
    }
  ]
}