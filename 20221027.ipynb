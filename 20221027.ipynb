{
  "nbformat": 4,
  "nbformat_minor": 0,
  "metadata": {
    "colab": {
      "provenance": [],
      "authorship_tag": "ABX9TyO/EWsaaajlLdmY8WWTs9pj",
      "include_colab_link": true
    },
    "kernelspec": {
      "name": "python3",
      "display_name": "Python 3"
    },
    "language_info": {
      "name": "python"
    }
  },
  "cells": [
    {
      "cell_type": "markdown",
      "metadata": {
        "id": "view-in-github",
        "colab_type": "text"
      },
      "source": [
        "<a href=\"https://colab.research.google.com/github/tjdrms0930/bit/blob/main/20221027.ipynb\" target=\"_parent\"><img src=\"https://colab.research.google.com/assets/colab-badge.svg\" alt=\"Open In Colab\"/></a>"
      ]
    },
    {
      "cell_type": "code",
      "execution_count": 1,
      "metadata": {
        "id": "BFX0_BxNYIag"
      },
      "outputs": [],
      "source": [
        "from tensorflow.keras.models import Sequential\n",
        "from tensorflow.keras import layers\n",
        "import numpy as np"
      ]
    },
    {
      "cell_type": "code",
      "source": [
        "data_set = np.loadtxt('data/ThoraricSurgery3.csv', delimiter=',')"
      ],
      "metadata": {
        "id": "kyk2-TktYNH-"
      },
      "execution_count": null,
      "outputs": []
    },
    {
      "cell_type": "code",
      "source": [
        "print(type(data_set))"
      ],
      "metadata": {
        "id": "rBrvcSl7YOzU"
      },
      "execution_count": null,
      "outputs": []
    },
    {
      "cell_type": "code",
      "source": [
        "print(data_set.shape)"
      ],
      "metadata": {
        "id": "kLO_AhDZYQHq"
      },
      "execution_count": null,
      "outputs": []
    },
    {
      "cell_type": "code",
      "source": [
        "print(data_set.dtype)"
      ],
      "metadata": {
        "id": "Rks4UiEMYRmR"
      },
      "execution_count": null,
      "outputs": []
    },
    {
      "cell_type": "code",
      "source": [
        "X = data_set[:, :16]\n",
        "y = data_set[:, 16]"
      ],
      "metadata": {
        "id": "Ng7Q7CdeYSmz"
      },
      "execution_count": null,
      "outputs": []
    },
    {
      "cell_type": "code",
      "source": [
        "print(X[1])"
      ],
      "metadata": {
        "id": "LxfYhKCsYUkN"
      },
      "execution_count": null,
      "outputs": []
    },
    {
      "cell_type": "code",
      "source": [
        "print(y[1])"
      ],
      "metadata": {
        "id": "veBb8Q89YVgD"
      },
      "execution_count": null,
      "outputs": []
    },
    {
      "cell_type": "code",
      "source": [
        "model = Sequential()\n",
        "model.add(layers.Dense(30, input_dim=16, activation='relu'))\n",
        "model.add(layers.Dense(1, activation='sigmoid'))"
      ],
      "metadata": {
        "id": "HKU-3KYyYWg0"
      },
      "execution_count": null,
      "outputs": []
    },
    {
      "cell_type": "code",
      "source": [
        "model.summary()"
      ],
      "metadata": {
        "id": "CHqoURDqYXhy"
      },
      "execution_count": null,
      "outputs": []
    },
    {
      "cell_type": "code",
      "source": [
        "model.compile(loss='binary_crossentropy', optimizer='adam', metrics=['accuracy'])"
      ],
      "metadata": {
        "id": "B1oBgxDIYYlO"
      },
      "execution_count": null,
      "outputs": []
    },
    {
      "cell_type": "code",
      "source": [
        "history = model.fit(X, y, epochs=5, batch_size=16)"
      ],
      "metadata": {
        "id": "2HS0HJr7YZ6v"
      },
      "execution_count": null,
      "outputs": []
    },
    {
      "cell_type": "markdown",
      "source": [
        "# Subclassing"
      ],
      "metadata": {
        "id": "4fOFNpGrYdOM"
      }
    },
    {
      "cell_type": "code",
      "source": [
        "model_name = 'thoraric_surgery'\n",
        "batch_size = 5\n",
        "params = {'model_name' : model_name,\n",
        "         'input_dimension' : 16,\n",
        "         'hidden_dimension' : 30,\n",
        "         'output_dimension' : 1}"
      ],
      "metadata": {
        "id": "Nryc9qAJYa4j"
      },
      "execution_count": null,
      "outputs": []
    },
    {
      "cell_type": "code",
      "source": [
        "import tensorflow as tf"
      ],
      "metadata": {
        "id": "wexTeBPFYgE-"
      },
      "execution_count": null,
      "outputs": []
    },
    {
      "cell_type": "code",
      "source": [
        "class ThoraricSurgery(tf.keras.Model):\n",
        "    def __init__(self, **kargs):\n",
        "        super(ThoraricSurgery, self).__init__(name=kargs['model_name'])\n",
        "        self.fc1 = layers.Dense(kargs['hidden_dimension'], \n",
        "                                input_dim=kargs['input_dimension'],\n",
        "                               activation='relu')\n",
        "        self.fc2 = layers.Dense(kargs['output_dimension'], activation='sigmoid')\n",
        "        \n",
        "    def call(self, x):\n",
        "        x = self.fc1(x)\n",
        "        x = self.fc2(x)\n",
        "        return x"
      ],
      "metadata": {
        "id": "UzsY4YnKYhqV"
      },
      "execution_count": null,
      "outputs": []
    },
    {
      "cell_type": "code",
      "source": [
        "model = ThoraricSurgery(**params)"
      ],
      "metadata": {
        "id": "dc4HEMtIYitm"
      },
      "execution_count": null,
      "outputs": []
    },
    {
      "cell_type": "code",
      "source": [
        "model.compile(loss='binary_crossentropy', optimizer='adam', metrics=['accuracy'])\n",
        "history = model.fit(X, y, epochs=5, batch_size=batch_size)"
      ],
      "metadata": {
        "id": "TkUfaf09YkAU"
      },
      "execution_count": null,
      "outputs": []
    }
  ]
}