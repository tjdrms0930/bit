{
  "nbformat": 4,
  "nbformat_minor": 0,
  "metadata": {
    "colab": {
      "provenance": [],
      "authorship_tag": "ABX9TyOe3wVsIOlqlTD1t4b8BVtN",
      "include_colab_link": true
    },
    "kernelspec": {
      "name": "python3",
      "display_name": "Python 3"
    },
    "language_info": {
      "name": "python"
    }
  },
  "cells": [
    {
      "cell_type": "markdown",
      "metadata": {
        "id": "view-in-github",
        "colab_type": "text"
      },
      "source": [
        "<a href=\"https://colab.research.google.com/github/tjdrms0930/bit/blob/main/20221017_TextMining.ipynb\" target=\"_parent\"><img src=\"https://colab.research.google.com/assets/colab-badge.svg\" alt=\"Open In Colab\"/></a>"
      ]
    },
    {
      "cell_type": "code",
      "execution_count": 1,
      "metadata": {
        "colab": {
          "base_uri": "https://localhost:8080/"
        },
        "id": "beeuZ0XhMzC1",
        "outputId": "93fca06f-7988-4e8c-8f9b-cf8db18a88f8"
      },
      "outputs": [
        {
          "output_type": "stream",
          "name": "stderr",
          "text": [
            "[nltk_data] Downloading package punkt to /root/nltk_data...\n",
            "[nltk_data]   Package punkt is already up-to-date!\n"
          ]
        },
        {
          "output_type": "execute_result",
          "data": {
            "text/plain": [
              "True"
            ]
          },
          "metadata": {},
          "execution_count": 1
        }
      ],
      "source": [
        "import nltk\n",
        "nltk.download('punkt')"
      ]
    },
    {
      "cell_type": "code",
      "source": [
        "!pip install konlpy"
      ],
      "metadata": {
        "colab": {
          "base_uri": "https://localhost:8080/"
        },
        "id": "r6tMA7OaRaDd",
        "outputId": "9e045f01-eb13-4567-b217-933cc5e58e7d"
      },
      "execution_count": 2,
      "outputs": [
        {
          "output_type": "stream",
          "name": "stdout",
          "text": [
            "Looking in indexes: https://pypi.org/simple, https://us-python.pkg.dev/colab-wheels/public/simple/\n",
            "Requirement already satisfied: konlpy in /usr/local/lib/python3.7/dist-packages (0.6.0)\n",
            "Requirement already satisfied: numpy>=1.6 in /usr/local/lib/python3.7/dist-packages (from konlpy) (1.21.6)\n",
            "Requirement already satisfied: lxml>=4.1.0 in /usr/local/lib/python3.7/dist-packages (from konlpy) (4.9.1)\n",
            "Requirement already satisfied: JPype1>=0.7.0 in /usr/local/lib/python3.7/dist-packages (from konlpy) (1.4.0)\n",
            "Requirement already satisfied: typing-extensions in /usr/local/lib/python3.7/dist-packages (from JPype1>=0.7.0->konlpy) (4.1.1)\n"
          ]
        }
      ]
    },
    {
      "cell_type": "code",
      "source": [
        "import konlpy\n",
        "from nltk.tokenize import word_tokenize\n",
        "from nltk.tokenize import WordPunctTokenizer\n",
        "from tensorflow.keras.preprocessing.text import text_to_word_sequence"
      ],
      "metadata": {
        "id": "f5CCEseTRgZF"
      },
      "execution_count": 3,
      "outputs": []
    },
    {
      "cell_type": "code",
      "source": [
        "text = \"i'm a boy. You are girl. He's a student.\""
      ],
      "metadata": {
        "id": "Q9ApvxgsSl_d"
      },
      "execution_count": 4,
      "outputs": []
    },
    {
      "cell_type": "code",
      "source": [
        "print(word_tokenize(text))"
      ],
      "metadata": {
        "colab": {
          "base_uri": "https://localhost:8080/"
        },
        "id": "94IZRtSqSqgV",
        "outputId": "a0e9532f-5ad7-401e-f4df-d5f177255f17"
      },
      "execution_count": 5,
      "outputs": [
        {
          "output_type": "stream",
          "name": "stdout",
          "text": [
            "['i', \"'m\", 'a', 'boy', '.', 'You', 'are', 'girl', '.', 'He', \"'s\", 'a', 'student', '.']\n"
          ]
        }
      ]
    },
    {
      "cell_type": "code",
      "source": [
        "tokens = text.split(' ')\n",
        "print(tokens)"
      ],
      "metadata": {
        "colab": {
          "base_uri": "https://localhost:8080/"
        },
        "id": "78jPbcP5THiZ",
        "outputId": "ae6c6ffd-2364-4330-bab9-790aff8321f1"
      },
      "execution_count": 6,
      "outputs": [
        {
          "output_type": "stream",
          "name": "stdout",
          "text": [
            "[\"i'm\", 'a', 'boy.', 'You', 'are', 'girl.', \"He's\", 'a', 'student.']\n"
          ]
        }
      ]
    },
    {
      "cell_type": "code",
      "source": [
        "# 여러 단어로 split 하기\n",
        "import re\n",
        "print(re.split(' |,.|', text))"
      ],
      "metadata": {
        "colab": {
          "base_uri": "https://localhost:8080/"
        },
        "id": "BIHLZQo8Tk3J",
        "outputId": "204fe4a1-c3f3-4a6f-a5cd-0524eb1bc428"
      },
      "execution_count": 7,
      "outputs": [
        {
          "output_type": "stream",
          "name": "stdout",
          "text": [
            "['', 'i', \"'\", 'm', '', 'a', '', 'b', 'o', 'y', '.', '', 'Y', 'o', 'u', '', 'a', 'r', 'e', '', 'g', 'i', 'r', 'l', '.', '', 'H', 'e', \"'\", 's', '', 'a', '', 's', 't', 'u', 'd', 'e', 'n', 't', '.', '']\n"
          ]
        }
      ]
    },
    {
      "cell_type": "code",
      "source": [
        "wpt=WordPunctTokenizer()\n",
        "print(wpt.tokenize(text))"
      ],
      "metadata": {
        "colab": {
          "base_uri": "https://localhost:8080/"
        },
        "id": "4hW3EBK2UbMy",
        "outputId": "0eff8b9a-dfd9-459c-d642-79582af326e1"
      },
      "execution_count": 8,
      "outputs": [
        {
          "output_type": "stream",
          "name": "stdout",
          "text": [
            "['i', \"'\", 'm', 'a', 'boy', '.', 'You', 'are', 'girl', '.', 'He', \"'\", 's', 'a', 'student', '.']\n"
          ]
        }
      ]
    },
    {
      "cell_type": "code",
      "source": [
        "print(text_to_word_sequence(text))"
      ],
      "metadata": {
        "colab": {
          "base_uri": "https://localhost:8080/"
        },
        "id": "Jb4du7EaUxg2",
        "outputId": "7a3b45a0-f53c-4cd5-b4fc-db4b6958f51c"
      },
      "execution_count": 9,
      "outputs": [
        {
          "output_type": "stream",
          "name": "stdout",
          "text": [
            "[\"i'm\", 'a', 'boy', 'you', 'are', 'girl', \"he's\", 'a', 'student']\n"
          ]
        }
      ]
    },
    {
      "cell_type": "code",
      "source": [
        "text2 = \"He is Doc.Kim. i'm a Gen. Jang. I'm O.K.\"\n",
        "print(word_tokenize(text2))\n",
        "print(wpt.tokenize(text2))\n",
        "print(text_to_word_sequence(text2))\n",
        "print(text2.replace('.',\"\").split(' '))"
      ],
      "metadata": {
        "colab": {
          "base_uri": "https://localhost:8080/"
        },
        "id": "7CTwCC9CVGni",
        "outputId": "e000dacd-7ef6-449f-9402-19a21f583a45"
      },
      "execution_count": 10,
      "outputs": [
        {
          "output_type": "stream",
          "name": "stdout",
          "text": [
            "['He', 'is', 'Doc.Kim', '.', 'i', \"'m\", 'a', 'Gen.', 'Jang', '.', 'I', \"'m\", 'O.K', '.']\n",
            "['He', 'is', 'Doc', '.', 'Kim', '.', 'i', \"'\", 'm', 'a', 'Gen', '.', 'Jang', '.', 'I', \"'\", 'm', 'O', '.', 'K', '.']\n",
            "['he', 'is', 'doc', 'kim', \"i'm\", 'a', 'gen', 'jang', \"i'm\", 'o', 'k']\n",
            "['He', 'is', 'DocKim', \"i'm\", 'a', 'Gen', 'Jang', \"I'm\", 'OK']\n"
          ]
        }
      ]
    },
    {
      "cell_type": "code",
      "source": [
        "text3 = \"나는 집에 갑니다. 우리는 집으로 갑니다.\"\n",
        "print(word_tokenize(text3))\n",
        "print(wpt.tokenize(text3))\n",
        "print(text_to_word_sequence(text3))\n",
        "print(text3.replace('.',\"\").split(' '))"
      ],
      "metadata": {
        "colab": {
          "base_uri": "https://localhost:8080/"
        },
        "id": "63eQvpEOWyqK",
        "outputId": "1963bac4-ac1c-4f4a-c894-79767300d756"
      },
      "execution_count": 11,
      "outputs": [
        {
          "output_type": "stream",
          "name": "stdout",
          "text": [
            "['나는', '집에', '갑니다', '.', '우리는', '집으로', '갑니다', '.']\n",
            "['나는', '집에', '갑니다', '.', '우리는', '집으로', '갑니다', '.']\n",
            "['나는', '집에', '갑니다', '우리는', '집으로', '갑니다']\n",
            "['나는', '집에', '갑니다', '우리는', '집으로', '갑니다']\n"
          ]
        }
      ]
    },
    {
      "cell_type": "code",
      "source": [
        "from konlpy.tag import Hannanum\n",
        "hannanum = Hannanum()\n",
        "print(hannanum.morphs(text3))\n",
        "print(hannanum.nouns(text3))\n",
        "print(hannanum.pos(text3))\n",
        "print(hannanum.analyze(text3))"
      ],
      "metadata": {
        "colab": {
          "base_uri": "https://localhost:8080/"
        },
        "id": "lS_c-wzkW_we",
        "outputId": "3bfb822e-1e87-44fe-b82b-226943a05e10"
      },
      "execution_count": 12,
      "outputs": [
        {
          "output_type": "stream",
          "name": "stdout",
          "text": [
            "['나', '는', '집', '에', '가', 'ㅂ니다', '.', '우리', '는', '집', '으로', '가', 'ㅂ니다', '.']\n",
            "['나', '집', '우리', '집']\n",
            "[('나', 'N'), ('는', 'J'), ('집', 'N'), ('에', 'J'), ('가', 'P'), ('ㅂ니다', 'E'), ('.', 'S'), ('우리', 'N'), ('는', 'J'), ('집', 'N'), ('으로', 'J'), ('가', 'P'), ('ㅂ니다', 'E'), ('.', 'S')]\n",
            "[[[('나', 'ncn'), ('는', 'jxc')], [('나', 'npp'), ('는', 'jxc')], [('나', 'pvg'), ('는', 'etm')], [('나', 'px'), ('는', 'etm')], [('나', 'pvg'), ('아', 'ecs'), ('는', 'jxc')], [('나', 'pvg'), ('아', 'ef'), ('는', 'etm')], [('나', 'px'), ('아', 'ecs'), ('는', 'jxc')], [('나', 'px'), ('아', 'ef'), ('는', 'etm')], [('날', 'pvg'), ('는', 'etm')]], [[('집', 'ncn'), ('에', 'jca')]], [[('갈', 'pvg'), ('ㅂ니다', 'ef')], [('가', 'pvg'), ('ㅂ니다', 'ef')], [('가', 'px'), ('ㅂ니다', 'ef')]], [[('.', 'sf')], [('.', 'sy')]], [], [[('우리', 'npp'), ('는', 'jxc')], [('우리', 'pvg'), ('는', 'etm')]], [[('집', 'ncn'), ('으로', 'jca')]], [[('갈', 'pvg'), ('ㅂ니다', 'ef')], [('가', 'pvg'), ('ㅂ니다', 'ef')], [('가', 'px'), ('ㅂ니다', 'ef')]], [[('.', 'sf')], [('.', 'sy')]]]\n"
          ]
        }
      ]
    },
    {
      "cell_type": "code",
      "source": [
        "client_id = 'ECdJ6UG1MYe6Mw6gcSPW'\n",
        "client_secret = '2VwLigYHvC'"
      ],
      "metadata": {
        "id": "W54b5n24ZYA0"
      },
      "execution_count": 13,
      "outputs": []
    },
    {
      "cell_type": "code",
      "source": [
        "site_url = 'https://openapi.naver.com/v1/search/news.json'"
      ],
      "metadata": {
        "id": "csEPehodZv8H"
      },
      "execution_count": 14,
      "outputs": []
    },
    {
      "cell_type": "code",
      "source": [
        "import urllib.request\n",
        "import json"
      ],
      "metadata": {
        "id": "chP1wqA0eyrH"
      },
      "execution_count": 15,
      "outputs": []
    },
    {
      "cell_type": "code",
      "source": [
        "text = input(\"검색 질의:\")\n",
        "query = urllib.parse.quote(text)\n",
        "print(query)"
      ],
      "metadata": {
        "colab": {
          "base_uri": "https://localhost:8080/"
        },
        "id": "vYZcIUXQe0cN",
        "outputId": "a714f3f4-9af8-46a4-ec69-0a9a49ecf4ac"
      },
      "execution_count": 16,
      "outputs": [
        {
          "output_type": "stream",
          "name": "stdout",
          "text": [
            "검색 질의:파이썬\n",
            "%ED%8C%8C%EC%9D%B4%EC%8D%AC\n"
          ]
        }
      ]
    },
    {
      "cell_type": "code",
      "source": [
        "query_str = site_url+\"?\"+\"query=\"+query\n",
        "print(query_str)"
      ],
      "metadata": {
        "colab": {
          "base_uri": "https://localhost:8080/"
        },
        "id": "Xp3qvSccfCOl",
        "outputId": "ff91cfe7-d221-4f48-c2fb-82346f91907d"
      },
      "execution_count": 17,
      "outputs": [
        {
          "output_type": "stream",
          "name": "stdout",
          "text": [
            "https://openapi.naver.com/v1/search/news.json?query=%ED%8C%8C%EC%9D%B4%EC%8D%AC\n"
          ]
        }
      ]
    },
    {
      "cell_type": "code",
      "source": [
        "#헤더 정보를 요구하지 않을 때 웹 요청\n",
        "#res = urllib.request.urlopen(\"http://google.com\")\n",
        "#print(res.read())"
      ],
      "metadata": {
        "id": "PBG2RIzjfo1s"
      },
      "execution_count": 18,
      "outputs": []
    },
    {
      "cell_type": "code",
      "source": [
        "request = urllib.request.Request(query_str) #웹 요청 개체 생성\n",
        "request.add_header(\"X-Naver-Client-Id\",client_id)\n",
        "request.add_header(\"X-Naver-Client-Secret\",client_secret)\n",
        "response = urllib.request.urlopen(request) #웹 서버에 요청(웹 크롤링)"
      ],
      "metadata": {
        "id": "2hHjtQS5f-Y6"
      },
      "execution_count": 19,
      "outputs": []
    },
    {
      "cell_type": "code",
      "source": [
        "if response.getcode() == 200:\n",
        "  print(\"요청 성공\")\n",
        "else:\n",
        "  print(\"요청 실패\")"
      ],
      "metadata": {
        "colab": {
          "base_uri": "https://localhost:8080/"
        },
        "id": "rztAxqdDgu1Q",
        "outputId": "2629e090-ce64-4121-ffc3-fa53db06a927"
      },
      "execution_count": 20,
      "outputs": [
        {
          "output_type": "stream",
          "name": "stdout",
          "text": [
            "요청 성공\n"
          ]
        }
      ]
    },
    {
      "cell_type": "code",
      "source": [
        "data = response.read()\n",
        "print(data)"
      ],
      "metadata": {
        "colab": {
          "base_uri": "https://localhost:8080/"
        },
        "id": "94i2PO7thc-s",
        "outputId": "3f04f3b4-1535-480c-bee5-98883525936a"
      },
      "execution_count": 21,
      "outputs": [
        {
          "output_type": "stream",
          "name": "stdout",
          "text": [
            "b'{\\n\\t\"lastBuildDate\":\"Mon, 17 Oct 2022 10:50:32 +0900\",\\n\\t\"total\":14836,\\n\\t\"start\":1,\\n\\t\"display\":10,\\n\\t\"items\":[\\n\\t\\t{\\n\\t\\t\\t\"title\":\"\\xeb\\x8c\\x80\\xeb\\xb2\\x95\\xec\\x9b\\x90 \\xec\\x9e\\xac\\xed\\x8c\\x90\\xec\\x97\\xb0\\xea\\xb5\\xac\\xea\\xb4\\x80 \\xec\\xb6\\x9c\\xec\\x8b\\xa0 30\\xeb\\xaa\\x85 \\xec\\xa4\\x91 9\\xeb\\xaa\\x85 \\xea\\xb9\\x80\\xec\\x95\\xa4\\xec\\x9e\\xa5\\xec\\x9c\\xbc\\xeb\\xa1\\x9c\",\\n\\t\\t\\t\"originallink\":\"https:\\\\/\\\\/www.lawtimes.co.kr\\\\/Legal-News\\\\/Legal-News-View?serial=182365\",\\n\\t\\t\\t\"link\":\"https:\\\\/\\\\/www.lawtimes.co.kr\\\\/Legal-News\\\\/Legal-News-View?serial=182365\",\\n\\t\\t\\t\"description\":\"\\xeb\\xb2\\x95\\xeb\\xa5\\xa0\\xec\\x8b\\xa0\\xeb\\xac\\xb8, 2018\\xeb\\x85\\x84 3\\xec\\x9b\\x94\\xeb\\xb6\\x80\\xed\\x84\\xb0 \\xec\\x98\\xac 3\\xec\\x9b\\x94\\xea\\xb9\\x8c\\xec\\xa7\\x80 \\xea\\xb7\\xbc\\xeb\\xac\\xb4 295\\xeb\\xaa\\x85 \\xec\\xa0\\x84\\xec\\x88\\x98\\xec\\xa1\\xb0\\xec\\x82\\xac \\xea\\xb9\\x80\\xeb\\xaa\\x85\\xec\\x88\\x98 \\xec\\xbd\\x94\\xed\\x8a\\xb8 \\xec\\xb6\\x9c\\xeb\\xb2\\x94 \\xed\\x9b\\x84 \\xeb\\xb2\\x95\\xec\\x9b\\x90\\xec\\x9d\\x84 \\xeb\\x96\\xa0\\xeb\\x82\\x9c \\xeb\\x8c\\x80\\xeb\\xb2\\x95\\xec\\x9b\\x90 \\xec\\x9e\\xac\\xed\\x8c\\x90\\xec\\x97\\xb0\\xea\\xb5\\xac\\xea\\xb4\\x80 30\\xeb\\xaa\\x85\\xec\\x9d\\x84 \\xed\\x94\\x84\\xeb\\xa1\\x9c\\xea\\xb7\\xb8\\xeb\\x9e\\x98\\xeb\\xb0\\x8d \\xec\\x96\\xb8\\xec\\x96\\xb4\\xec\\x9d\\xb8 &apos;<b>\\xed\\x8c\\x8c\\xec\\x9d\\xb4\\xec\\x8d\\xac<\\\\/b>(PYTHON)&apos;\\xec\\x9c\\xbc\\xeb\\xa1\\x9c \\xec\\x82\\xac\\xed\\x9a\\x8c\\xec\\x97\\xb0\\xea\\xb2\\xb0\\xeb\\xa7\\x9d \\xeb\\xb6\\x84\\xec\\x84\\x9d(SNA, Social Network Analysis) \\xed\\x88\\xb4\\xec\\x9d\\x84 \\xec\\xa7\\x9c\\xec\\x84\\x9c... \",\\n\\t\\t\\t\"pubDate\":\"Mon, 17 Oct 2022 07:48:00 +0900\"\\n\\t\\t},\\n\\t\\t{\\n\\t\\t\\t\"title\":\"\\xeb\\xb2\\x95\\xec\\x9b\\x90 \\xeb\\x96\\xa0\\xeb\\x82\\x9c \\xec\\x9e\\xac\\xed\\x8c\\x90\\xec\\x97\\xb0\\xea\\xb5\\xac\\xea\\xb4\\x80 \\xec\\xb4\\x9d 30\\xeb\\xaa\\x85 \\xec\\xa4\\x91 83%\\xea\\xb0\\x80 \\xeb\\xa1\\x9c\\xed\\x8e\\x8c \\xec\\x84\\xa0\\xed\\x83\\x9d\",\\n\\t\\t\\t\"originallink\":\"https:\\\\/\\\\/www.lawtimes.co.kr\\\\/Legal-News\\\\/Legal-News-View?serial=182369\",\\n\\t\\t\\t\"link\":\"https:\\\\/\\\\/www.lawtimes.co.kr\\\\/Legal-News\\\\/Legal-News-View?serial=182369\",\\n\\t\\t\\t\"description\":\"\\xeb\\xb2\\x95\\xeb\\xa5\\xa0\\xec\\x8b\\xa0\\xeb\\xac\\xb8\\xec\\x9d\\x80 \\xec\\x82\\xac\\xed\\x9a\\x8c\\xea\\xb4\\x80\\xea\\xb3\\x84\\xeb\\xa7\\x9d\\xeb\\xb6\\x84\\xec\\x84\\x9d(SNA) \\xed\\x94\\x84\\xeb\\xa1\\x9c\\xea\\xb7\\xb8\\xeb\\x9e\\xa8\\xec\\x9d\\xb8 &apos;<b>\\xed\\x8c\\x8c\\xec\\x9d\\xb4\\xec\\x8d\\xac<\\\\/b>(PYTHON)&apos;\\xec\\x9d\\x84 \\xed\\x99\\x9c\\xec\\x9a\\xa9\\xed\\x95\\xb4 2018\\xeb\\x85\\x84 3\\xec\\x9b\\x94\\xeb\\xb6\\x80\\xed\\x84\\xb0 2022\\xeb\\x85\\x84 3\\xec\\x9b\\x94\\xea\\xb9\\x8c\\xec\\xa7\\x80 \\xeb\\xb2\\x95\\xec\\x9b\\x90\\xec\\x9d\\x84 \\xeb\\x96\\xa0\\xeb\\x82\\x9c \\xeb\\x8c\\x80\\xeb\\xb2\\x95\\xec\\x9b\\x90 \\xec\\x9e\\xac\\xed\\x8c\\x90\\xec\\x97\\xb0\\xea\\xb5\\xac\\xea\\xb4\\x80\\xeb\\x93\\xa4\\xec\\x9d\\x98 \\xed\\x98\\x84\\xec\\x9e\\xac \\xec\\xa7\\x81\\xec\\x9e\\xa5\\xea\\xb3\\xbc \\xeb\\xa1\\x9c\\xed\\x8e\\x8c, \\xeb\\x8c\\x80\\xeb\\xb2\\x95\\xec\\x9b\\x90\\xea\\xb3\\xbc\\xec\\x9d\\x98 \\xea\\xb4\\x80\\xea\\xb3\\x84\\xec\\x84\\xb1\\xec\\x9d\\x84 \\xea\\xb5\\xad\\xeb\\x82\\xb4 \\xec\\x96\\xb8\\xeb\\xa1\\xa0 \\xec\\xb5\\x9c\\xec\\xb4\\x88\\xeb\\xa1\\x9c \\xeb\\xb6\\x84\\xec\\x84\\x9d\\xed\\x96\\x88\\xeb\\x8b\\xa4. \\xea\\xb7\\xb8 \\xea\\xb2\\xb0\\xea\\xb3\\xbc \\xec\\x9d\\xb4... \",\\n\\t\\t\\t\"pubDate\":\"Mon, 17 Oct 2022 07:46:00 +0900\"\\n\\t\\t},\\n\\t\\t{\\n\\t\\t\\t\"title\":\"&quot;AI? \\xec\\x96\\xb4\\xeb\\xa0\\xb5\\xec\\xa7\\x80 \\xec\\x95\\x8a\\xec\\x95\\x84\\xec\\x9a\\x94, \\xeb\\x86\\x80\\xec\\x9d\\xb4\\xed\\x95\\x98\\xeb\\x8b\\xa4\\xeb\\xb3\\xb4\\xeb\\xa9\\xb4 \\xec\\xa0\\x80\\xec\\xa0\\x88\\xeb\\xa1\\x9c AI\\xec\\x9d\\xb8\\xec\\x9e\\xac\\xeb\\xa1\\x9c&quot;...&apos;\\xeb\\x86\\x80\\xeb\\xa9\\xb4\\xec\\x84\\x9c \\xeb\\xb0\\xb0\\xec\\x9a\\xb0\\xeb\\x8a\\x94 \\xec\\x9d\\xb8\\xea\\xb3\\xb5\\xec\\xa7\\x80...\",\\n\\t\\t\\t\"originallink\":\"http:\\\\/\\\\/www.greened.kr\\\\/news\\\\/articleView.html?idxno=298209\",\\n\\t\\t\\t\"link\":\"http:\\\\/\\\\/www.greened.kr\\\\/news\\\\/articleView.html?idxno=298209\",\\n\\t\\t\\t\"description\":\"\\xea\\xb5\\xad\\xeb\\xa6\\xbd\\xec\\x96\\xb4\\xeb\\xa6\\xb0\\xec\\x9d\\xb4\\xec\\xb2\\xad\\xec\\x86\\x8c\\xeb\\x85\\x84\\xeb\\x8f\\x84\\xec\\x84\\x9c\\xea\\xb4\\x80, \\xec\\x82\\xbc\\xec\\x84\\xb1 \\xeb\\x93\\x9c\\xeb\\xa6\\xbc\\xed\\x81\\xb4\\xeb\\x9e\\x98\\xec\\x8a\\xa4, \\xec\\x82\\xbc\\xec\\x84\\xb1 \\xec\\xa3\\xbc\\xeb\\x8b\\x88\\xec\\x96\\xb4 \\xec\\x86\\x8c\\xed\\x94\\x84\\xed\\x8a\\xb8\\xec\\x9b\\xa8\\xec\\x96\\xb4, \\xeb\\x91\\x90\\xec\\x82\\xb0 \\xed\\x88\\xac\\xeb\\xaa\\xa8\\xeb\\xa1\\x9c\\xec\\x9a\\xb0\\xeb\\x9e\\xa9, \\xed\\x8f\\xac\\xec\\x8a\\xa4\\xec\\xbd\\x94 ICT \\xec\\xbd\\x94\\xeb\\x94\\xa9 \\xea\\xbf\\x88\\xeb\\x82\\x98\\xeb\\xac\\xb4 \\xea\\xb5\\x90\\xec\\x8b\\xa4, \\xec\\x84\\xb1\\xeb\\x8f\\x99 4\\xec\\xb0\\xa8\\xec\\x82\\xb0\\xec\\x97\\x85\\xed\\x98\\x81\\xeb\\xaa\\x85\\xec\\x84\\xbc\\xed\\x84\\xb0, \\xec\\x98\\x81\\xec\\x9e\\xac\\xed\\x95\\x99\\xea\\xb8\\x89 \\xeb\\x93\\xb1\\xec\\x97\\x90\\xec\\x84\\x9c AI \\xec\\xbd\\x94\\xeb\\x94\\xa9, \\xed\\x94\\xbc\\xec\\xa7\\x80\\xec\\xbb\\xac\\xec\\xbb\\xb4\\xed\\x93\\xa8\\xed\\x8c\\x85, <b>\\xed\\x8c\\x8c\\xec\\x9d\\xb4\\xec\\x8d\\xac<\\\\/b>, 3D \\xeb\\xaa\\xa8\\xeb\\x8d\\xb8\\xeb\\xa7\\x81 \\xeb\\x93\\xb1\\xec\\x9d\\x84 \\xea\\xb0\\x95\\xec\\x9d\\x98\\xed\\x96\\x88\\xeb\\x8b\\xa4.\",\\n\\t\\t\\t\"pubDate\":\"Sun, 16 Oct 2022 09:29:00 +0900\"\\n\\t\\t},\\n\\t\\t{\\n\\t\\t\\t\"title\":\"\\xea\\xb3\\xbc\\xed\\x95\\x99\\xea\\xb4\\x80\\xec\\x97\\x90\\xec\\x84\\x9c \\xec\\x83\\x9d\\xeb\\xac\\xbc\\xea\\xb3\\xbc \\xed\\x99\\x98\\xea\\xb2\\xbd \\xed\\x83\\x90\\xea\\xb5\\xac\\xed\\x95\\x98\\xeb\\xa9\\xb0 \\xec\\x95\\x84\\xeb\\xa6\\x84\\xeb\\x8b\\xa4\\xec\\x9a\\xb4 \\xec\\xa7\\x80\\xea\\xb5\\xac\\xec\\x9d\\x98 \\xea\\xb0\\x80\\xec\\x9d\\x84 \\xeb\\x8a\\x90\\xea\\xbb\\xb4\\xeb\\xb4\\x90\\xec\\x9a\\x94!\",\\n\\t\\t\\t\"originallink\":\"http:\\\\/\\\\/www.ikoreanspirit.com\\\\/news\\\\/articleView.html?idxno=68909\",\\n\\t\\t\\t\"link\":\"http:\\\\/\\\\/www.ikoreanspirit.com\\\\/news\\\\/articleView.html?idxno=68909\",\\n\\t\\t\\t\"description\":\"\\xec\\x96\\xb8\\xed\\x94\\x8c\\xeb\\x9f\\xac\\xea\\xb7\\xb8\\xeb\\x93\\x9c \\xed\\x99\\x9c\\xeb\\x8f\\x99\\xec\\x97\\x90\\xec\\x84\\x9c\\xeb\\xb6\\x80\\xed\\x84\\xb0 \\xeb\\xb8\\x94\\xeb\\xa1\\x9d\\xec\\xbd\\x94\\xeb\\x94\\xa9, <b>\\xed\\x8c\\x8c\\xec\\x9d\\xb4\\xec\\x8d\\xac<\\\\/b> \\xed\\x94\\x84\\xeb\\xa1\\x9c\\xea\\xb7\\xb8\\xeb\\x9e\\x98\\xeb\\xb0\\x8d\\xec\\x9c\\xbc\\xeb\\xa1\\x9c \\xec\\xa0\\x90\\xec\\xb0\\xa8 \\xec\\x8b\\xac\\xed\\x99\\x94\\xed\\x95\\x98\\xec\\x97\\xac \\xea\\xb0\\x81 \\xeb\\x82\\x9c\\xec\\x9d\\xb4\\xeb\\x8f\\x84\\xeb\\xb3\\x84 \\xed\\x94\\x84\\xeb\\xa1\\x9c\\xea\\xb7\\xb8\\xeb\\x9e\\xa8\\xec\\x9d\\xb4... \\xeb\\x98\\x90\\xed\\x95\\x9c \\xec\\xa4\\x91\\xed\\x95\\x99\\xec\\x83\\x9d\\xec\\x9d\\x84 \\xeb\\x8c\\x80\\xec\\x83\\x81\\xec\\x9c\\xbc\\xeb\\xa1\\x9c \\xed\\x95\\x98\\xeb\\x8a\\x94 <b>\\xed\\x8c\\x8c\\xec\\x9d\\xb4\\xec\\x8d\\xac<\\\\/b> \\xec\\x88\\x98\\xec\\x97\\x85\\xec\\x9d\\x80 10\\xec\\xb0\\xa8\\xec\\x8b\\x9c\\xec\\x97\\x90 \\xea\\xb1\\xb8\\xec\\xb3\\x90 \\xed\\x94\\x84\\xeb\\xa1\\x9c\\xea\\xb7\\xb8\\xeb\\x9e\\x98\\xeb\\xb0\\x8d \\xec\\x96\\xb8\\xec\\x96\\xb4\\xeb\\xa5\\xbc \\xeb\\xb0\\xb0\\xec\\x9a\\xb0\\xeb\\xa9\\xb4\\xec\\x84\\x9c \\xec\\x88\\x98\\xed\\x95\\x99 \\xeb\\xb0\\x8f \\xea\\xb3\\xbc\\xed\\x95\\x99 \\xec\\x98\\x88\\xec\\xa0\\x9c \\xec\\x9e\\x91\\xec\\x84\\xb1\\xec\\x9d\\x84... \",\\n\\t\\t\\t\"pubDate\":\"Fri, 14 Oct 2022 19:04:00 +0900\"\\n\\t\\t},\\n\\t\\t{\\n\\t\\t\\t\"title\":\"\\xec\\xbd\\x94\\xeb\\xa6\\xac\\xec\\x95\\x84\\xeb\\xa6\\xac\\xed\\x81\\xac\\xeb\\xa3\\xa8\\xed\\x8a\\xb8, \\xec\\x8b\\x9c\\xeb\\x8b\\x88\\xec\\x96\\xb4 \\xec\\x9d\\xbc\\xec\\x9e\\x90\\xeb\\xa6\\xac\\xec\\xb0\\xbd\\xec\\xb6\\x9c\\xec\\x9d\\x84 \\xec\\x9c\\x84\\xed\\x95\\x9c \\xec\\xa0\\x84\\xeb\\xac\\xb8\\xec\\xbb\\xa8\\xec\\x84\\xa4\\xed\\x84\\xb4\\xed\\x8a\\xb8 \\xec\\x96\\x91\\xec\\x84\\xb1\\xea\\xb3\\xbc\\xec\\xa0\\x95 \\xed\\x8f\\x89\\xec\\x83\\x9d\\xec\\xa0\\x84\\xeb\\xac\\xb8\\xec\\xa7\\x81...\",\\n\\t\\t\\t\"originallink\":\"http:\\\\/\\\\/www.incheonilbo.com\\\\/news\\\\/articleView.html?idxno=1165244\",\\n\\t\\t\\t\"link\":\"http:\\\\/\\\\/www.incheonilbo.com\\\\/news\\\\/articleView.html?idxno=1165244\",\\n\\t\\t\\t\"description\":\"\\xed\\x95\\x9c\\xed\\x8e\\xb8 \\xec\\xbd\\x94\\xeb\\xa6\\xac\\xec\\x95\\x84\\xeb\\xa6\\xac\\xed\\x81\\xac\\xeb\\xa3\\xa8\\xed\\x8a\\xb8 \\xea\\xb9\\x80\\xeb\\x8c\\x80\\xed\\x91\\x9c\\xeb\\x8a\\x94 &quot;4\\xec\\xb0\\xa8\\xec\\x82\\xb0\\xec\\x97\\x85\\xed\\x98\\x81\\xeb\\xaa\\x85 \\xec\\x8b\\x9c\\xeb\\x8c\\x80\\xeb\\xa5\\xbc \\xec\\xa3\\xbc\\xeb\\x8f\\x84\\xed\\x95\\xa0 AI \\xec\\x9d\\xb8\\xea\\xb3\\xb5\\xec\\xa7\\x80\\xeb\\x8a\\xa5(\\xeb\\xb9\\x85\\xeb\\x8d\\xb0\\xec\\x9d\\xb4\\xed\\x84\\xb0 \\xeb\\x94\\xa5\\xeb\\x9f\\xac\\xeb\\x8b\\x9d \\xeb\\xa8\\xb8\\xec\\x8b\\xa0\\xeb\\x9f\\xac\\xeb\\x8b\\x9d <b>\\xed\\x8c\\x8c\\xec\\x9d\\xb4\\xec\\x8d\\xac<\\\\/b>) \\xeb\\xb9\\x85\\xeb\\x8d\\xb0\\xec\\x9d\\xb4\\xed\\x84\\xb0 \\xeb\\xa9\\x94\\xed\\x83\\x80\\xeb\\xb2\\x84\\xec\\x8a\\xa4 \\xec\\x8a\\xa4\\xeb\\xa7\\x88\\xed\\x8a\\xb8\\xed\\x8c\\xa9\\xed\\x86\\xa0\\xeb\\xa6\\xac \\xeb\\x93\\xb1 \\xec\\x99\\xb8\\xec\\x97\\x90\\xeb\\x8f\\x84 6\\xec\\xb0\\xa8\\xec\\x82\\xb0\\xec\\x97\\x85\\xec\\x9d\\xb8 \\xec\\x8a\\xa4\\xeb\\xa7\\x88\\xed\\x8a\\xb8\\xed\\x8c\\x9c \\xed\\x83\\x84\\xec\\x86\\x8c\\xec\\xa4\\x91\\xeb\\xa6\\xbd \\xea\\xb7\\xb8\\xeb\\xa6\\xb0\\xec\\x97\\x90\\xeb\\x84\\x88\\xec\\xa7\\x80 \\xeb\\xb0\\x94\\xec\\x9d\\xb4\\xec\\x98\\xa4 \\xed\\x95\\xb4\\xec\\x96\\x91\\xeb\\xb0\\x94\\xec\\x9d\\xb4\\xec\\x98\\xa4 \\xeb\\xb0\\x98\\xeb\\x8f\\x84\\xec\\xb2\\xb4... \",\\n\\t\\t\\t\"pubDate\":\"Fri, 14 Oct 2022 17:34:00 +0900\"\\n\\t\\t},\\n\\t\\t{\\n\\t\\t\\t\"title\":\"AMD, RosCon 2022 \\xec\\xb0\\xb8\\xea\\xb0\\x80\\xe2\\x80\\xa6\\xeb\\xa1\\x9c\\xeb\\xb3\\xb4\\xed\\x8b\\xb1\\xec\\x8a\\xa4 \\xed\\x98\\x81\\xec\\x8b\\xa0 \\xec\\x9c\\x84\\xed\\x95\\x9c \\xec\\x86\\x94\\xeb\\xa3\\xa8\\xec\\x85\\x98 \\xec\\x84\\xa0\\xeb\\xb3\\xb4\\xec\\x97\\xac\",\\n\\t\\t\\t\"originallink\":\"http:\\\\/\\\\/www.ilovepc.co.kr\\\\/news\\\\/articleView.html?idxno=45057\",\\n\\t\\t\\t\"link\":\"http:\\\\/\\\\/www.ilovepc.co.kr\\\\/news\\\\/articleView.html?idxno=45057\",\\n\\t\\t\\t\"description\":\"\\xed\\x95\\x91\\xed\\x81\\xac(PYNQ)\\xeb\\x8a\\x94 \\xea\\xb0\\x9c\\xeb\\xb0\\x9c\\xec\\x9e\\x90\\xea\\xb0\\x80 <b>\\xed\\x8c\\x8c\\xec\\x9d\\xb4\\xec\\x8d\\xac<\\\\/b>(Python) \\xec\\xbd\\x94\\xeb\\x93\\x9c\\xeb\\xa5\\xbc \\xec\\x9e\\x91\\xec\\x84\\xb1\\xed\\x95\\x98\\xec\\x97\\xac AMD \\xec\\x9e\\x90\\xec\\x9d\\xbc\\xeb\\xa7\\x81\\xec\\x8a\\xa4(AMD Xilinx) \\xed\\x94\\x8c\\xeb\\x9e\\xab\\xed\\x8f\\xbc\\xea\\xb3\\xbc \\xec\\x83\\x81\\xed\\x98\\xb8 \\xec\\x9e\\x91\\xec\\x9a\\xa9\\xed\\x95\\xa0 \\xec\\x88\\x98 \\xec\\x9e\\x88\\xeb\\x8f\\x84\\xeb\\xa1\\x9d \\xec\\xa7\\x80\\xec\\x9b\\x90\\xed\\x95\\x98\\xeb\\x8a\\x94 AMD \\xec\\x9e\\x90\\xec\\x9d\\xbc\\xeb\\xa7\\x81\\xec\\x8a\\xa4\\xec\\x9d\\x98 \\xec\\x98\\xa4\\xed\\x94\\x88\\xec\\x86\\x8c\\xec\\x8a\\xa4 \\xed\\x95\\x98\\xeb\\x93\\x9c\\xec\\x9b\\xa8\\xec\\x96\\xb4-\\xec\\x86\\x8c\\xed\\x94\\x84\\xed\\x8a\\xb8\\xec\\x9b\\xa8\\xec\\x96\\xb4 \\xed\\x94\\x84\\xeb\\xa0\\x88\\xec\\x9e\\x84\\xec\\x9b\\x8c\\xed\\x81\\xac\\xec\\x9e\\x85\\xeb\\x8b\\x88\\xeb\\x8b\\xa4. \\xed\\x81\\xac\\xeb\\xa6\\xac\\xec\\x95\\x84... \",\\n\\t\\t\\t\"pubDate\":\"Fri, 14 Oct 2022 13:30:00 +0900\"\\n\\t\\t},\\n\\t\\t{\\n\\t\\t\\t\"title\":\"\\xe7\\xbe\\x8e \\xed\\x95\\x98\\xeb\\xb2\\x84\\xeb\\x93\\x9c\\xeb\\x8c\\x80\\xed\\x95\\x99\\xea\\xb5\\x90 \\xec\\x9d\\xb8\\xec\\xa6\\x9d \\xed\\x94\\x84\\xeb\\xa1\\x9c\\xea\\xb7\\xb8\\xeb\\x9e\\x98\\xeb\\xb0\\x8d \\xea\\xb3\\xbc\\xec\\xa0\\x95 Top10\",\\n\\t\\t\\t\"originallink\":\"https:\\\\/\\\\/www.codingworldnews.com\\\\/news\\\\/articleView.html?idxno=12921\",\\n\\t\\t\\t\"link\":\"https:\\\\/\\\\/www.codingworldnews.com\\\\/news\\\\/articleView.html?idxno=12921\",\\n\\t\\t\\t\"description\":\"\\xec\\x96\\xb8\\xec\\x96\\xb4\\xec\\x97\\x90\\xeb\\x8a\\x94 C, <b>\\xed\\x8c\\x8c\\xec\\x9d\\xb4\\xec\\x8d\\xac<\\\\/b>(Python), SQL, \\xec\\x9e\\x90\\xeb\\xb0\\x94\\xec\\x8a\\xa4\\xed\\x8a\\xb8\\xeb\\xa6\\xbd\\xed\\x8a\\xb8(JavaScript), CSS, HTML\\xec\\x9d\\xb4 \\xed\\x8f\\xac\\xed\\x95\\xa8\\xeb\\x90\\x9c\\xeb\\x8b\\xa4. CS50 \\xec\\x9d\\xb4\\xed\\x95\\xb4 \\xeb\\xa7\\xa4\\xec\\x9d\\xbc \\xea\\xb8\\xb0\\xec\\x88\\xa0\\xec\\x9d\\x84... CS50 <b>\\xed\\x8c\\x8c\\xec\\x9d\\xb4\\xec\\x8d\\xac<\\\\/b> \\xed\\x94\\x84\\xeb\\xa1\\x9c\\xea\\xb7\\xb8\\xeb\\x9e\\x98\\xeb\\xb0\\x8d \\xec\\x9e\\x85\\xeb\\xac\\xb8 <b>\\xed\\x8c\\x8c\\xec\\x9d\\xb4\\xec\\x8d\\xac<\\\\/b>\\xec\\x9d\\x84 \\xec\\x82\\xac\\xec\\x9a\\xa9\\xed\\x95\\xb4 \\xed\\x94\\x84\\xeb\\xa1\\x9c\\xea\\xb7\\xb8\\xeb\\x9e\\x98\\xeb\\xb0\\x8d\\xed\\x95\\x98\\xeb\\x8a\\x94 \\xeb\\xb0\\xa9\\xeb\\xb2\\x95\\xec\\x9d\\x84 \\xec\\x86\\x8c\\xea\\xb0\\x9c\\xed\\x95\\x9c\\xeb\\x8b\\xa4. \\xec\\xbd\\x94\\xeb\\x93\\x9c\\xeb\\xa5\\xbc \\xec\\x9d\\xbd\\xea\\xb3\\xa0 \\xec\\x93\\xb0\\xeb\\x8a\\x94 \\xeb\\xb0\\xa9\\xeb\\xb2\\x95\\xea\\xb3\\xbc... \",\\n\\t\\t\\t\"pubDate\":\"Fri, 14 Oct 2022 12:12:00 +0900\"\\n\\t\\t},\\n\\t\\t{\\n\\t\\t\\t\"title\":\"20\\xeb\\x8c\\x80\\xeb\\x8a\\x94 \\xea\\xb9\\x80\\xec\\xb4\\x88\\xec\\x97\\xbd\\xe3\\x80\\x8e\\xec\\x9a\\xb0\\xeb\\xa6\\xac\\xea\\xb0\\x80 \\xeb\\xb9\\x9b\\xec\\x9d\\x98 \\xec\\x86\\x8d\\xeb\\x8f\\x84\\xeb\\xa1\\x9c \\xea\\xb0\\x88 \\xec\\x88\\x98 \\xec\\x97\\x86\\xeb\\x8b\\xa4\\xeb\\xa9\\xb4\\xe3\\x80\\x8f 30\\xeb\\x8c\\x80\\xeb\\x8a\\x94 \\xec\\x98\\xa4\\xec\\x9d\\x80\\xec\\x98\\x81\\xc2\\xb7 \\xec\\xb0\\xa8\\xec\\x83\\x81\\xeb\\xaf\\xb8\\xe3\\x80\\x8e...\",\\n\\t\\t\\t\"originallink\":\"http:\\\\/\\\\/www.lecturernews.com\\\\/news\\\\/articleView.html?idxno=109281\",\\n\\t\\t\\t\"link\":\"http:\\\\/\\\\/www.lecturernews.com\\\\/news\\\\/articleView.html?idxno=109281\",\\n\\t\\t\\t\"description\":\"\\xed\\x8a\\xb9\\xed\\x9e\\x88 \\xea\\xb2\\xbd\\xec\\x98\\x81\\xea\\xb4\\x80\\xeb\\xa6\\xac\\xec\\x99\\x80 \\xed\\x94\\x84\\xeb\\xa1\\x9c\\xea\\xb7\\xb8\\xeb\\x9e\\x98\\xeb\\xb0\\x8d \\xeb\\xb6\\x84\\xec\\x95\\xbc\\xec\\x97\\x90\\xec\\x84\\x9c\\xeb\\x8a\\x94 \\xec\\x9e\\x90\\xea\\xb8\\xb0\\xec\\x86\\x8c\\xea\\xb0\\x9c\\xec\\x84\\x9c \\xec\\x9e\\x91\\xec\\x84\\xb1\\xec\\x9d\\xb4\\xeb\\x82\\x98 <b>\\xed\\x8c\\x8c\\xec\\x9d\\xb4\\xec\\x8d\\xac<\\\\/b>(Python) \\xeb\\x93\\xb1 \\xec\\xb7\\xa8\\xec\\x97\\x85 \\xea\\xb4\\x80\\xeb\\xa0\\xa8 \\xeb\\x8f\\x84\\xec\\x84\\x9c\\xea\\xb0\\x80 \\xec\\xa3\\xbc\\xeb\\xa1\\x9c \\xec\\xb0\\xa8\\xec\\xa7\\x80\\xed\\x95\\x98\\xec\\x98\\x80\\xeb\\x8b\\xa4. \\xeb\\xb0\\x98\\xeb\\xa9\\xb4 30\\xeb\\x8c\\x80\\xec\\x9d\\x98 \\xeb\\x8c\\x80\\xec\\xb6\\x9c \\xeb\\xb6\\x84\\xec\\x95\\xbc\\xeb\\x8a\\x94 \\xec\\x9c\\xa1\\xec\\x95\\x84\\xc2\\xb7\\xec\\x9c\\xa0\\xec\\x95\\x84 \\xeb\\xb0\\x8f \\xec\\xb4\\x88\\xeb\\x93\\xb1\\xea\\xb5\\x90\\xec\\x9c\\xa1, \\xea\\xb8\\x88\\xec\\x9c\\xb5, \\xec\\x8b\\x9d\\xed\\x92\\x88\\xea\\xb3\\xbc \\xec\\x8b\\x9d\\xeb\\xa3\\x8c \\xec\\x88\\x9c\\xec\\x9d\\xb4\\xeb\\xa9\\xb0, \\xea\\xb8\\x88\\xec\\x9c\\xb5\\xec\\x9d\\x84 \\xec\\xa0\\x9c\\xec\\x99\\xb8\\xed\\x95\\x9c... \",\\n\\t\\t\\t\"pubDate\":\"Fri, 14 Oct 2022 10:30:00 +0900\"\\n\\t\\t},\\n\\t\\t{\\n\\t\\t\\t\"title\":\"[\\xec\\x98\\xa8\\xeb\\x9d\\xbc\\xec\\x9d\\xb8 \\xea\\xb5\\x90\\xec\\x9c\\xa1 \\xec\\x98\\x81\\xed\\x86\\xa0 \\xed\\x99\\x95\\xec\\x9e\\xa5\\xed\\x95\\x98\\xeb\\x8a\\x94 \\xea\\xb5\\x90\\xec\\x88\\x98\\xeb\\x93\\xa4-\\xe2\\x91\\xa1\\xec\\x9c\\xa4\\xed\\x83\\x9c\\xec\\xa7\\x84 \\xec\\x84\\xb1\\xec\\x8b\\xa0\\xec\\x97\\xac\\xeb\\x8c\\x80 \\xea\\xb5\\x90\\xec\\x88\\x98] &quot;<b>\\xed\\x8c\\x8c\\xec\\x9d\\xb4\\xec\\x8d\\xac<\\\\/b>(Python...\",\\n\\t\\t\\t\"originallink\":\"https:\\\\/\\\\/news.unn.net\\\\/news\\\\/articleView.html?idxno=535324\",\\n\\t\\t\\t\"link\":\"https:\\\\/\\\\/news.unn.net\\\\/news\\\\/articleView.html?idxno=535324\",\\n\\t\\t\\t\"description\":\"\\xea\\xb7\\xb8\\xeb\\x8a\\x94 &quot;\\xed\\x95\\xb4\\xec\\x99\\xb8\\xec\\x97\\x90\\xec\\x84\\x9c \\xeb\\xb0\\x95\\xec\\x82\\xac \\xea\\xb3\\xbc\\xec\\xa0\\x95\\xec\\x9d\\x84 \\xeb\\xb0\\x9f\\xec\\x9c\\xbc\\xeb\\xa9\\xb4\\xec\\x84\\x9c \\xec\\x9a\\xb0\\xec\\x97\\xb0\\xed\\x9e\\x88 \\xeb\\xb0\\xb0\\xec\\x9a\\xb0\\xea\\xb2\\x8c \\xeb\\x90\\x9c <b>\\xed\\x8c\\x8c\\xec\\x9d\\xb4\\xec\\x8d\\xac<\\\\/b>\\xec\\x9d\\xb4 \\xed\\x95\\x99\\xec\\x9c\\x84 \\xea\\xb3\\xbc\\xec\\xa0\\x95\\xec\\x97\\x90 \\xeb\\xa7\\x8e\\xec\\x9d\\x80 \\xeb\\x8f\\x84\\xec\\x9b\\x80\\xec\\x9d\\xb4 \\xeb\\x90\\x90\\xeb\\x8b\\xa4&quot;\\xeb\\xa9\\xb0 &quot;\\xed\\x95\\x99\\xeb\\xac\\xb8\\xec\\x9c\\xbc\\xeb\\xa1\\x9c\\xec\\x84\\x9c <b>\\xed\\x8c\\x8c\\xec\\x9d\\xb4\\xec\\x8d\\xac<\\\\/b>\\xec\\x9d\\xb4 \\xec\\x95\\x84\\xeb\\x8b\\x8c \\xec\\x8b\\xa4\\xec\\x9a\\xa9\\xec\\xa0\\x81\\xec\\x9d\\xb8 \\xeb\\x8f\\x84\\xea\\xb5\\xac\\xeb\\xa1\\x9c\\xec\\x8d\\xa8 <b>\\xed\\x8c\\x8c\\xec\\x9d\\xb4\\xec\\x8d\\xac<\\\\/b>\\xec\\x9d\\x84 \\xeb\\xb0\\xb0\\xec\\x9a\\xb0\\xea\\xb2\\x8c \\xeb\\x90\\x9c\\xeb\\x8b\\xa4\\xeb\\xa9\\xb4 \\xed\\x95\\x99\\xec\\x83\\x9d\\xeb\\x93\\xa4\\xeb\\x8f\\x84 \\xeb\\xa7\\x8e\\xec\\x9d\\x80 \\xeb\\x8f\\x84\\xec\\x9b\\x80\\xec\\x9d\\xb4 \\xeb\\x90\\xa0 \\xea\\xb2\\x83&quot;\\xec\\x9d\\xb4\\xeb\\x9d\\xbc\\xea\\xb3\\xa0 \\xea\\xb0\\x95\\xec\\xa1\\xb0\\xed\\x96\\x88\\xeb\\x8b\\xa4.... \",\\n\\t\\t\\t\"pubDate\":\"Fri, 14 Oct 2022 08:28:00 +0900\"\\n\\t\\t},\\n\\t\\t{\\n\\t\\t\\t\"title\":\"\\xeb\\xaa\\xa9\\xed\\x8f\\xac\\xeb\\x8c\\x80, \\xec\\xa0\\x84\\xeb\\x9d\\xbc\\xeb\\x82\\xa8\\xeb\\x8f\\x84 \\xea\\xb3\\xa0\\xea\\xb5\\x90\\xec\\x83\\x9d \\xeb\\x8c\\x80\\xec\\x83\\x81 2022\\xeb\\x85\\x84 AI\\xe2\\x80\\xa4\\xeb\\xb9\\x85\\xeb\\x8d\\xb0\\xec\\x9d\\xb4\\xed\\x84\\xb0 \\xec\\x9d\\xb8\\xec\\x9e\\xac \\xec\\x96\\x91\\xec\\x84\\xb1 \\xea\\xb5\\x90\\xec\\x9c\\xa1\",\\n\\t\\t\\t\"originallink\":\"http:\\\\/\\\\/www.newsworker.co.kr\\\\/news\\\\/articleView.html?idxno=176825\",\\n\\t\\t\\t\"link\":\"http:\\\\/\\\\/www.newsworker.co.kr\\\\/news\\\\/articleView.html?idxno=176825\",\\n\\t\\t\\t\"description\":\"\\xeb\\xaa\\xa9\\xed\\x8f\\xac\\xeb\\x8c\\x80 AI.\\xeb\\xb9\\x85\\xeb\\x8d\\xb0\\xec\\x9d\\xb4\\xed\\x84\\xb0 \\xec\\x9d\\xb8\\xec\\x9e\\xac \\xec\\x96\\x91\\xec\\x84\\xb1 \\xea\\xb5\\x90\\xec\\x9c\\xa1 \\xec\\x88\\x98\\xeb\\xa3\\x8c \\xec\\x9d\\xb4\\xeb\\xb2\\x88 \\xea\\xb3\\xbc\\xec\\xa0\\x95\\xec\\x9d\\x80 4\\xec\\xb0\\xa8 \\xec\\x82\\xb0\\xec\\x97\\x85\\xed\\x98\\x81\\xeb\\xaa\\x85 \\xec\\x8b\\x9c\\xeb\\x8c\\x80\\xeb\\xa5\\xbc \\xeb\\x8c\\x80\\xeb\\xb9\\x84\\xed\\x95\\xb4 \\xec\\xa0\\x84\\xeb\\x9d\\xbc\\xeb\\x82\\xa8\\xeb\\x8f\\x84 \\xec\\xa7\\x80\\xec\\x97\\xad\\xec\\x9d\\x98 \\xed\\x95\\x99\\xec\\x83\\x9d\\xeb\\x93\\xa4\\xec\\x97\\x90\\xea\\xb2\\x8c \\xec\\xb5\\x9c\\xec\\x8b\\xa0 \\xeb\\xb9\\x85\\xeb\\x8d\\xb0\\xec\\x9d\\xb4\\xed\\x84\\xb0 \\xeb\\xb0\\x8f \\xec\\x9d\\xb8\\xea\\xb3\\xb5\\xec\\xa7\\x80\\xeb\\x8a\\xa5\\xea\\xb8\\xb0\\xec\\x88\\xa0 \\xec\\x9d\\xb4\\xed\\x95\\xb4\\xeb\\xa5\\xbc \\xec\\x9c\\x84\\xed\\x95\\x9c <b>\\xed\\x8c\\x8c\\xec\\x9d\\xb4\\xec\\x8d\\xac<\\\\/b> \\xed\\x94\\x84\\xeb\\xa1\\x9c\\xea\\xb7\\xb8\\xeb\\x9e\\x98\\xeb\\xb0\\x8d, \\xeb\\xb9\\x85\\xeb\\x8d\\xb0\\xec\\x9d\\xb4\\xed\\x84\\xb0 \\xeb\\xb6\\x84\\xec\\x84\\x9d, \\xec\\x9d\\xb8\\xea\\xb3\\xb5\\xec\\xa7\\x80\\xeb\\x8a\\xa5 \\xec\\x9d\\xb4\\xeb\\xa1\\xa0 \\xeb\\xb0\\x8f \\xec\\x8b\\xa4\\xec\\x8a\\xb5... \",\\n\\t\\t\\t\"pubDate\":\"Thu, 13 Oct 2022 18:40:00 +0900\"\\n\\t\\t}\\n\\t]\\n}'\n"
          ]
        }
      ]
    },
    {
      "cell_type": "code",
      "source": [
        "dec_data = data.decode(\"utf-8\") #디코딩\n",
        "print(dec_data)"
      ],
      "metadata": {
        "colab": {
          "base_uri": "https://localhost:8080/"
        },
        "id": "7KTA38Xjh_rU",
        "outputId": "5e8111e6-9937-4214-9802-d1e8985af2ea"
      },
      "execution_count": 22,
      "outputs": [
        {
          "output_type": "stream",
          "name": "stdout",
          "text": [
            "{\n",
            "\t\"lastBuildDate\":\"Mon, 17 Oct 2022 10:50:32 +0900\",\n",
            "\t\"total\":14836,\n",
            "\t\"start\":1,\n",
            "\t\"display\":10,\n",
            "\t\"items\":[\n",
            "\t\t{\n",
            "\t\t\t\"title\":\"대법원 재판연구관 출신 30명 중 9명 김앤장으로\",\n",
            "\t\t\t\"originallink\":\"https:\\/\\/www.lawtimes.co.kr\\/Legal-News\\/Legal-News-View?serial=182365\",\n",
            "\t\t\t\"link\":\"https:\\/\\/www.lawtimes.co.kr\\/Legal-News\\/Legal-News-View?serial=182365\",\n",
            "\t\t\t\"description\":\"법률신문, 2018년 3월부터 올 3월까지 근무 295명 전수조사 김명수 코트 출범 후 법원을 떠난 대법원 재판연구관 30명을 프로그래밍 언어인 &apos;<b>파이썬<\\/b>(PYTHON)&apos;으로 사회연결망 분석(SNA, Social Network Analysis) 툴을 짜서... \",\n",
            "\t\t\t\"pubDate\":\"Mon, 17 Oct 2022 07:48:00 +0900\"\n",
            "\t\t},\n",
            "\t\t{\n",
            "\t\t\t\"title\":\"법원 떠난 재판연구관 총 30명 중 83%가 로펌 선택\",\n",
            "\t\t\t\"originallink\":\"https:\\/\\/www.lawtimes.co.kr\\/Legal-News\\/Legal-News-View?serial=182369\",\n",
            "\t\t\t\"link\":\"https:\\/\\/www.lawtimes.co.kr\\/Legal-News\\/Legal-News-View?serial=182369\",\n",
            "\t\t\t\"description\":\"법률신문은 사회관계망분석(SNA) 프로그램인 &apos;<b>파이썬<\\/b>(PYTHON)&apos;을 활용해 2018년 3월부터 2022년 3월까지 법원을 떠난 대법원 재판연구관들의 현재 직장과 로펌, 대법원과의 관계성을 국내 언론 최초로 분석했다. 그 결과 이... \",\n",
            "\t\t\t\"pubDate\":\"Mon, 17 Oct 2022 07:46:00 +0900\"\n",
            "\t\t},\n",
            "\t\t{\n",
            "\t\t\t\"title\":\"&quot;AI? 어렵지 않아요, 놀이하다보면 저절로 AI인재로&quot;...&apos;놀면서 배우는 인공지...\",\n",
            "\t\t\t\"originallink\":\"http:\\/\\/www.greened.kr\\/news\\/articleView.html?idxno=298209\",\n",
            "\t\t\t\"link\":\"http:\\/\\/www.greened.kr\\/news\\/articleView.html?idxno=298209\",\n",
            "\t\t\t\"description\":\"국립어린이청소년도서관, 삼성 드림클래스, 삼성 주니어 소프트웨어, 두산 투모로우랩, 포스코 ICT 코딩 꿈나무 교실, 성동 4차산업혁명센터, 영재학급 등에서 AI 코딩, 피지컬컴퓨팅, <b>파이썬<\\/b>, 3D 모델링 등을 강의했다.\",\n",
            "\t\t\t\"pubDate\":\"Sun, 16 Oct 2022 09:29:00 +0900\"\n",
            "\t\t},\n",
            "\t\t{\n",
            "\t\t\t\"title\":\"과학관에서 생물과 환경 탐구하며 아름다운 지구의 가을 느껴봐요!\",\n",
            "\t\t\t\"originallink\":\"http:\\/\\/www.ikoreanspirit.com\\/news\\/articleView.html?idxno=68909\",\n",
            "\t\t\t\"link\":\"http:\\/\\/www.ikoreanspirit.com\\/news\\/articleView.html?idxno=68909\",\n",
            "\t\t\t\"description\":\"언플러그드 활동에서부터 블록코딩, <b>파이썬<\\/b> 프로그래밍으로 점차 심화하여 각 난이도별 프로그램이... 또한 중학생을 대상으로 하는 <b>파이썬<\\/b> 수업은 10차시에 걸쳐 프로그래밍 언어를 배우면서 수학 및 과학 예제 작성을... \",\n",
            "\t\t\t\"pubDate\":\"Fri, 14 Oct 2022 19:04:00 +0900\"\n",
            "\t\t},\n",
            "\t\t{\n",
            "\t\t\t\"title\":\"코리아리크루트, 시니어 일자리창출을 위한 전문컨설턴트 양성과정 평생전문직...\",\n",
            "\t\t\t\"originallink\":\"http:\\/\\/www.incheonilbo.com\\/news\\/articleView.html?idxno=1165244\",\n",
            "\t\t\t\"link\":\"http:\\/\\/www.incheonilbo.com\\/news\\/articleView.html?idxno=1165244\",\n",
            "\t\t\t\"description\":\"한편 코리아리크루트 김대표는 &quot;4차산업혁명 시대를 주도할 AI 인공지능(빅데이터 딥러닝 머신러닝 <b>파이썬<\\/b>) 빅데이터 메타버스 스마트팩토리 등 외에도 6차산업인 스마트팜 탄소중립 그린에너지 바이오 해양바이오 반도체... \",\n",
            "\t\t\t\"pubDate\":\"Fri, 14 Oct 2022 17:34:00 +0900\"\n",
            "\t\t},\n",
            "\t\t{\n",
            "\t\t\t\"title\":\"AMD, RosCon 2022 참가…로보틱스 혁신 위한 솔루션 선보여\",\n",
            "\t\t\t\"originallink\":\"http:\\/\\/www.ilovepc.co.kr\\/news\\/articleView.html?idxno=45057\",\n",
            "\t\t\t\"link\":\"http:\\/\\/www.ilovepc.co.kr\\/news\\/articleView.html?idxno=45057\",\n",
            "\t\t\t\"description\":\"핑크(PYNQ)는 개발자가 <b>파이썬<\\/b>(Python) 코드를 작성하여 AMD 자일링스(AMD Xilinx) 플랫폼과 상호 작용할 수 있도록 지원하는 AMD 자일링스의 오픈소스 하드웨어-소프트웨어 프레임워크입니다. 크리아... \",\n",
            "\t\t\t\"pubDate\":\"Fri, 14 Oct 2022 13:30:00 +0900\"\n",
            "\t\t},\n",
            "\t\t{\n",
            "\t\t\t\"title\":\"美 하버드대학교 인증 프로그래밍 과정 Top10\",\n",
            "\t\t\t\"originallink\":\"https:\\/\\/www.codingworldnews.com\\/news\\/articleView.html?idxno=12921\",\n",
            "\t\t\t\"link\":\"https:\\/\\/www.codingworldnews.com\\/news\\/articleView.html?idxno=12921\",\n",
            "\t\t\t\"description\":\"언어에는 C, <b>파이썬<\\/b>(Python), SQL, 자바스트립트(JavaScript), CSS, HTML이 포함된다. CS50 이해 매일 기술을... CS50 <b>파이썬<\\/b> 프로그래밍 입문 <b>파이썬<\\/b>을 사용해 프로그래밍하는 방법을 소개한다. 코드를 읽고 쓰는 방법과... \",\n",
            "\t\t\t\"pubDate\":\"Fri, 14 Oct 2022 12:12:00 +0900\"\n",
            "\t\t},\n",
            "\t\t{\n",
            "\t\t\t\"title\":\"20대는 김초엽『우리가 빛의 속도로 갈 수 없다면』 30대는 오은영· 차상미『...\",\n",
            "\t\t\t\"originallink\":\"http:\\/\\/www.lecturernews.com\\/news\\/articleView.html?idxno=109281\",\n",
            "\t\t\t\"link\":\"http:\\/\\/www.lecturernews.com\\/news\\/articleView.html?idxno=109281\",\n",
            "\t\t\t\"description\":\"특히 경영관리와 프로그래밍 분야에서는 자기소개서 작성이나 <b>파이썬<\\/b>(Python) 등 취업 관련 도서가 주로 차지하였다. 반면 30대의 대출 분야는 육아·유아 및 초등교육, 금융, 식품과 식료 순이며, 금융을 제외한... \",\n",
            "\t\t\t\"pubDate\":\"Fri, 14 Oct 2022 10:30:00 +0900\"\n",
            "\t\t},\n",
            "\t\t{\n",
            "\t\t\t\"title\":\"[온라인 교육 영토 확장하는 교수들-②윤태진 성신여대 교수] &quot;<b>파이썬<\\/b>(Python...\",\n",
            "\t\t\t\"originallink\":\"https:\\/\\/news.unn.net\\/news\\/articleView.html?idxno=535324\",\n",
            "\t\t\t\"link\":\"https:\\/\\/news.unn.net\\/news\\/articleView.html?idxno=535324\",\n",
            "\t\t\t\"description\":\"그는 &quot;해외에서 박사 과정을 밟으면서 우연히 배우게 된 <b>파이썬<\\/b>이 학위 과정에 많은 도움이 됐다&quot;며 &quot;학문으로서 <b>파이썬<\\/b>이 아닌 실용적인 도구로써 <b>파이썬<\\/b>을 배우게 된다면 학생들도 많은 도움이 될 것&quot;이라고 강조했다.... \",\n",
            "\t\t\t\"pubDate\":\"Fri, 14 Oct 2022 08:28:00 +0900\"\n",
            "\t\t},\n",
            "\t\t{\n",
            "\t\t\t\"title\":\"목포대, 전라남도 고교생 대상 2022년 AI․빅데이터 인재 양성 교육\",\n",
            "\t\t\t\"originallink\":\"http:\\/\\/www.newsworker.co.kr\\/news\\/articleView.html?idxno=176825\",\n",
            "\t\t\t\"link\":\"http:\\/\\/www.newsworker.co.kr\\/news\\/articleView.html?idxno=176825\",\n",
            "\t\t\t\"description\":\"목포대 AI.빅데이터 인재 양성 교육 수료 이번 과정은 4차 산업혁명 시대를 대비해 전라남도 지역의 학생들에게 최신 빅데이터 및 인공지능기술 이해를 위한 <b>파이썬<\\/b> 프로그래밍, 빅데이터 분석, 인공지능 이론 및 실습... \",\n",
            "\t\t\t\"pubDate\":\"Thu, 13 Oct 2022 18:40:00 +0900\"\n",
            "\t\t}\n",
            "\t]\n",
            "}\n"
          ]
        }
      ]
    },
    {
      "cell_type": "code",
      "source": [
        "jdata = json.loads(dec_data) #json 데이터로 로딩\n",
        "print(jdata)"
      ],
      "metadata": {
        "colab": {
          "base_uri": "https://localhost:8080/"
        },
        "id": "2QzzdznkjEas",
        "outputId": "a7aba59b-e5a7-42d0-9d86-1862d68e2fdb"
      },
      "execution_count": 23,
      "outputs": [
        {
          "output_type": "stream",
          "name": "stdout",
          "text": [
            "{'lastBuildDate': 'Mon, 17 Oct 2022 10:50:32 +0900', 'total': 14836, 'start': 1, 'display': 10, 'items': [{'title': '대법원 재판연구관 출신 30명 중 9명 김앤장으로', 'originallink': 'https://www.lawtimes.co.kr/Legal-News/Legal-News-View?serial=182365', 'link': 'https://www.lawtimes.co.kr/Legal-News/Legal-News-View?serial=182365', 'description': '법률신문, 2018년 3월부터 올 3월까지 근무 295명 전수조사 김명수 코트 출범 후 법원을 떠난 대법원 재판연구관 30명을 프로그래밍 언어인 &apos;<b>파이썬</b>(PYTHON)&apos;으로 사회연결망 분석(SNA, Social Network Analysis) 툴을 짜서... ', 'pubDate': 'Mon, 17 Oct 2022 07:48:00 +0900'}, {'title': '법원 떠난 재판연구관 총 30명 중 83%가 로펌 선택', 'originallink': 'https://www.lawtimes.co.kr/Legal-News/Legal-News-View?serial=182369', 'link': 'https://www.lawtimes.co.kr/Legal-News/Legal-News-View?serial=182369', 'description': '법률신문은 사회관계망분석(SNA) 프로그램인 &apos;<b>파이썬</b>(PYTHON)&apos;을 활용해 2018년 3월부터 2022년 3월까지 법원을 떠난 대법원 재판연구관들의 현재 직장과 로펌, 대법원과의 관계성을 국내 언론 최초로 분석했다. 그 결과 이... ', 'pubDate': 'Mon, 17 Oct 2022 07:46:00 +0900'}, {'title': '&quot;AI? 어렵지 않아요, 놀이하다보면 저절로 AI인재로&quot;...&apos;놀면서 배우는 인공지...', 'originallink': 'http://www.greened.kr/news/articleView.html?idxno=298209', 'link': 'http://www.greened.kr/news/articleView.html?idxno=298209', 'description': '국립어린이청소년도서관, 삼성 드림클래스, 삼성 주니어 소프트웨어, 두산 투모로우랩, 포스코 ICT 코딩 꿈나무 교실, 성동 4차산업혁명센터, 영재학급 등에서 AI 코딩, 피지컬컴퓨팅, <b>파이썬</b>, 3D 모델링 등을 강의했다.', 'pubDate': 'Sun, 16 Oct 2022 09:29:00 +0900'}, {'title': '과학관에서 생물과 환경 탐구하며 아름다운 지구의 가을 느껴봐요!', 'originallink': 'http://www.ikoreanspirit.com/news/articleView.html?idxno=68909', 'link': 'http://www.ikoreanspirit.com/news/articleView.html?idxno=68909', 'description': '언플러그드 활동에서부터 블록코딩, <b>파이썬</b> 프로그래밍으로 점차 심화하여 각 난이도별 프로그램이... 또한 중학생을 대상으로 하는 <b>파이썬</b> 수업은 10차시에 걸쳐 프로그래밍 언어를 배우면서 수학 및 과학 예제 작성을... ', 'pubDate': 'Fri, 14 Oct 2022 19:04:00 +0900'}, {'title': '코리아리크루트, 시니어 일자리창출을 위한 전문컨설턴트 양성과정 평생전문직...', 'originallink': 'http://www.incheonilbo.com/news/articleView.html?idxno=1165244', 'link': 'http://www.incheonilbo.com/news/articleView.html?idxno=1165244', 'description': '한편 코리아리크루트 김대표는 &quot;4차산업혁명 시대를 주도할 AI 인공지능(빅데이터 딥러닝 머신러닝 <b>파이썬</b>) 빅데이터 메타버스 스마트팩토리 등 외에도 6차산업인 스마트팜 탄소중립 그린에너지 바이오 해양바이오 반도체... ', 'pubDate': 'Fri, 14 Oct 2022 17:34:00 +0900'}, {'title': 'AMD, RosCon 2022 참가…로보틱스 혁신 위한 솔루션 선보여', 'originallink': 'http://www.ilovepc.co.kr/news/articleView.html?idxno=45057', 'link': 'http://www.ilovepc.co.kr/news/articleView.html?idxno=45057', 'description': '핑크(PYNQ)는 개발자가 <b>파이썬</b>(Python) 코드를 작성하여 AMD 자일링스(AMD Xilinx) 플랫폼과 상호 작용할 수 있도록 지원하는 AMD 자일링스의 오픈소스 하드웨어-소프트웨어 프레임워크입니다. 크리아... ', 'pubDate': 'Fri, 14 Oct 2022 13:30:00 +0900'}, {'title': '美 하버드대학교 인증 프로그래밍 과정 Top10', 'originallink': 'https://www.codingworldnews.com/news/articleView.html?idxno=12921', 'link': 'https://www.codingworldnews.com/news/articleView.html?idxno=12921', 'description': '언어에는 C, <b>파이썬</b>(Python), SQL, 자바스트립트(JavaScript), CSS, HTML이 포함된다. CS50 이해 매일 기술을... CS50 <b>파이썬</b> 프로그래밍 입문 <b>파이썬</b>을 사용해 프로그래밍하는 방법을 소개한다. 코드를 읽고 쓰는 방법과... ', 'pubDate': 'Fri, 14 Oct 2022 12:12:00 +0900'}, {'title': '20대는 김초엽『우리가 빛의 속도로 갈 수 없다면』 30대는 오은영· 차상미『...', 'originallink': 'http://www.lecturernews.com/news/articleView.html?idxno=109281', 'link': 'http://www.lecturernews.com/news/articleView.html?idxno=109281', 'description': '특히 경영관리와 프로그래밍 분야에서는 자기소개서 작성이나 <b>파이썬</b>(Python) 등 취업 관련 도서가 주로 차지하였다. 반면 30대의 대출 분야는 육아·유아 및 초등교육, 금융, 식품과 식료 순이며, 금융을 제외한... ', 'pubDate': 'Fri, 14 Oct 2022 10:30:00 +0900'}, {'title': '[온라인 교육 영토 확장하는 교수들-②윤태진 성신여대 교수] &quot;<b>파이썬</b>(Python...', 'originallink': 'https://news.unn.net/news/articleView.html?idxno=535324', 'link': 'https://news.unn.net/news/articleView.html?idxno=535324', 'description': '그는 &quot;해외에서 박사 과정을 밟으면서 우연히 배우게 된 <b>파이썬</b>이 학위 과정에 많은 도움이 됐다&quot;며 &quot;학문으로서 <b>파이썬</b>이 아닌 실용적인 도구로써 <b>파이썬</b>을 배우게 된다면 학생들도 많은 도움이 될 것&quot;이라고 강조했다.... ', 'pubDate': 'Fri, 14 Oct 2022 08:28:00 +0900'}, {'title': '목포대, 전라남도 고교생 대상 2022년 AI․빅데이터 인재 양성 교육', 'originallink': 'http://www.newsworker.co.kr/news/articleView.html?idxno=176825', 'link': 'http://www.newsworker.co.kr/news/articleView.html?idxno=176825', 'description': '목포대 AI.빅데이터 인재 양성 교육 수료 이번 과정은 4차 산업혁명 시대를 대비해 전라남도 지역의 학생들에게 최신 빅데이터 및 인공지능기술 이해를 위한 <b>파이썬</b> 프로그래밍, 빅데이터 분석, 인공지능 이론 및 실습... ', 'pubDate': 'Thu, 13 Oct 2022 18:40:00 +0900'}]}\n"
          ]
        }
      ]
    },
    {
      "cell_type": "code",
      "source": [
        "no=0\n",
        "for news in jdata['items']:\n",
        "  no+=1\n",
        "  print(\"==== <\",no,\"> ===\",news['title'])\n",
        "  print(news['description'])"
      ],
      "metadata": {
        "colab": {
          "base_uri": "https://localhost:8080/"
        },
        "id": "4U9pknuFjLwb",
        "outputId": "cc242249-aa61-4145-f89b-72133d79454f"
      },
      "execution_count": 24,
      "outputs": [
        {
          "output_type": "stream",
          "name": "stdout",
          "text": [
            "==== < 1 > === 대법원 재판연구관 출신 30명 중 9명 김앤장으로\n",
            "법률신문, 2018년 3월부터 올 3월까지 근무 295명 전수조사 김명수 코트 출범 후 법원을 떠난 대법원 재판연구관 30명을 프로그래밍 언어인 &apos;<b>파이썬</b>(PYTHON)&apos;으로 사회연결망 분석(SNA, Social Network Analysis) 툴을 짜서... \n",
            "==== < 2 > === 법원 떠난 재판연구관 총 30명 중 83%가 로펌 선택\n",
            "법률신문은 사회관계망분석(SNA) 프로그램인 &apos;<b>파이썬</b>(PYTHON)&apos;을 활용해 2018년 3월부터 2022년 3월까지 법원을 떠난 대법원 재판연구관들의 현재 직장과 로펌, 대법원과의 관계성을 국내 언론 최초로 분석했다. 그 결과 이... \n",
            "==== < 3 > === &quot;AI? 어렵지 않아요, 놀이하다보면 저절로 AI인재로&quot;...&apos;놀면서 배우는 인공지...\n",
            "국립어린이청소년도서관, 삼성 드림클래스, 삼성 주니어 소프트웨어, 두산 투모로우랩, 포스코 ICT 코딩 꿈나무 교실, 성동 4차산업혁명센터, 영재학급 등에서 AI 코딩, 피지컬컴퓨팅, <b>파이썬</b>, 3D 모델링 등을 강의했다.\n",
            "==== < 4 > === 과학관에서 생물과 환경 탐구하며 아름다운 지구의 가을 느껴봐요!\n",
            "언플러그드 활동에서부터 블록코딩, <b>파이썬</b> 프로그래밍으로 점차 심화하여 각 난이도별 프로그램이... 또한 중학생을 대상으로 하는 <b>파이썬</b> 수업은 10차시에 걸쳐 프로그래밍 언어를 배우면서 수학 및 과학 예제 작성을... \n",
            "==== < 5 > === 코리아리크루트, 시니어 일자리창출을 위한 전문컨설턴트 양성과정 평생전문직...\n",
            "한편 코리아리크루트 김대표는 &quot;4차산업혁명 시대를 주도할 AI 인공지능(빅데이터 딥러닝 머신러닝 <b>파이썬</b>) 빅데이터 메타버스 스마트팩토리 등 외에도 6차산업인 스마트팜 탄소중립 그린에너지 바이오 해양바이오 반도체... \n",
            "==== < 6 > === AMD, RosCon 2022 참가…로보틱스 혁신 위한 솔루션 선보여\n",
            "핑크(PYNQ)는 개발자가 <b>파이썬</b>(Python) 코드를 작성하여 AMD 자일링스(AMD Xilinx) 플랫폼과 상호 작용할 수 있도록 지원하는 AMD 자일링스의 오픈소스 하드웨어-소프트웨어 프레임워크입니다. 크리아... \n",
            "==== < 7 > === 美 하버드대학교 인증 프로그래밍 과정 Top10\n",
            "언어에는 C, <b>파이썬</b>(Python), SQL, 자바스트립트(JavaScript), CSS, HTML이 포함된다. CS50 이해 매일 기술을... CS50 <b>파이썬</b> 프로그래밍 입문 <b>파이썬</b>을 사용해 프로그래밍하는 방법을 소개한다. 코드를 읽고 쓰는 방법과... \n",
            "==== < 8 > === 20대는 김초엽『우리가 빛의 속도로 갈 수 없다면』 30대는 오은영· 차상미『...\n",
            "특히 경영관리와 프로그래밍 분야에서는 자기소개서 작성이나 <b>파이썬</b>(Python) 등 취업 관련 도서가 주로 차지하였다. 반면 30대의 대출 분야는 육아·유아 및 초등교육, 금융, 식품과 식료 순이며, 금융을 제외한... \n",
            "==== < 9 > === [온라인 교육 영토 확장하는 교수들-②윤태진 성신여대 교수] &quot;<b>파이썬</b>(Python...\n",
            "그는 &quot;해외에서 박사 과정을 밟으면서 우연히 배우게 된 <b>파이썬</b>이 학위 과정에 많은 도움이 됐다&quot;며 &quot;학문으로서 <b>파이썬</b>이 아닌 실용적인 도구로써 <b>파이썬</b>을 배우게 된다면 학생들도 많은 도움이 될 것&quot;이라고 강조했다.... \n",
            "==== < 10 > === 목포대, 전라남도 고교생 대상 2022년 AI․빅데이터 인재 양성 교육\n",
            "목포대 AI.빅데이터 인재 양성 교육 수료 이번 과정은 4차 산업혁명 시대를 대비해 전라남도 지역의 학생들에게 최신 빅데이터 및 인공지능기술 이해를 위한 <b>파이썬</b> 프로그래밍, 빅데이터 분석, 인공지능 이론 및 실습... \n"
          ]
        }
      ]
    },
    {
      "cell_type": "code",
      "source": [
        "sample_text='법률신문은 사회관계망분석(SNA) 프로그램인 &apos;<b>파이썬</b>(PYTHON)&apos;을 활용해 2018년 3월부터 2022년 3월까지 법원을 떠난 대법원 재판연구관들의 현재 직장과 로펌, 대법원과의 관계성을 국내 언론 최초로 분석했다. 그 결과 이...'"
      ],
      "metadata": {
        "id": "2l_sX8uuj-KF"
      },
      "execution_count": 25,
      "outputs": []
    },
    {
      "cell_type": "code",
      "source": [
        "def remove_wc(text):\n",
        "  while True:\n",
        "    b_t = text.find('&')\n",
        "    if b_t == -1:\n",
        "      break\n",
        "    e_t = text.find(':')\n",
        "    if b_t < e_t:\n",
        "      text = text[:b_t]+text[e_t+1:]\n",
        "    else:\n",
        "      break\n",
        "  return text"
      ],
      "metadata": {
        "id": "CTqE54mbmcTk"
      },
      "execution_count": 26,
      "outputs": []
    },
    {
      "cell_type": "code",
      "source": [
        "print(remove_wc(sample_text))"
      ],
      "metadata": {
        "colab": {
          "base_uri": "https://localhost:8080/"
        },
        "id": "PxnagN8qmhT0",
        "outputId": "aaa1c461-2945-43cf-8118-e076b2eb3583"
      },
      "execution_count": 27,
      "outputs": [
        {
          "output_type": "stream",
          "name": "stdout",
          "text": [
            "법률신문은 사회관계망분석(SNA) 프로그램인 &apos;<b>파이썬</b>(PYTHON)&apos;을 활용해 2018년 3월부터 2022년 3월까지 법원을 떠난 대법원 재판연구관들의 현재 직장과 로펌, 대법원과의 관계성을 국내 언론 최초로 분석했다. 그 결과 이...\n"
          ]
        }
      ]
    },
    {
      "cell_type": "code",
      "source": [
        "def remove_tag(text):\n",
        "  while True:\n",
        "    b_t = text.find('<')\n",
        "    if b_t == -1:\n",
        "      break\n",
        "    e_t = text.find('>')\n",
        "    if b_t < e_t:\n",
        "      text = text[:b_t]+text[e_t+1:]\n",
        "    else:\n",
        "      break\n",
        "  return text"
      ],
      "metadata": {
        "id": "Net_KDKhkHZ8"
      },
      "execution_count": 28,
      "outputs": []
    },
    {
      "cell_type": "code",
      "source": [
        "# 심볼을 공백으로 바꾸기\n",
        "import re\n",
        "def remove_symbol(text):\n",
        "  #return re.sub(r\"[^\\uAC00-\\uD7A30-9a-zA-Z\\s]\",\" \",text)\n",
        "  return re.sub(\"[^ㄱ-힣0-9a-zA-Z\\s]\",\" \",text)"
      ],
      "metadata": {
        "id": "xMSVbR13sZf0"
      },
      "execution_count": 42,
      "outputs": []
    },
    {
      "cell_type": "code",
      "source": [
        "temp = \"adfa.eaf#zicdk!'ciek(ed)ald음냐뤼가뭐죠강사님!\"\n",
        "print(remove_symbol(temp))"
      ],
      "metadata": {
        "colab": {
          "base_uri": "https://localhost:8080/"
        },
        "id": "bjeW7U9zssgY",
        "outputId": "26ae7bbc-dff5-40ea-c163-535280f31c2f"
      },
      "execution_count": 43,
      "outputs": [
        {
          "output_type": "stream",
          "name": "stdout",
          "text": [
            "adfa eaf zicdk  ciek ed ald음냐뤼가뭐죠강사님 \n"
          ]
        }
      ]
    },
    {
      "cell_type": "code",
      "source": [
        "print(remove_tag(\"<abc>안녕</abc><html>이기태</html>\"))"
      ],
      "metadata": {
        "colab": {
          "base_uri": "https://localhost:8080/"
        },
        "id": "tSjOT-VBlKrQ",
        "outputId": "043f5e52-243e-4e27-b2bc-e9a2a1f72e69"
      },
      "execution_count": 29,
      "outputs": [
        {
          "output_type": "stream",
          "name": "stdout",
          "text": [
            "안녕이기태\n"
          ]
        }
      ]
    },
    {
      "cell_type": "code",
      "source": [
        "def remove_html(text):\n",
        "  text = remove_tag(text) #태그 제거\n",
        "  text = remove_wc(text) #HTML 특수 문자 제거\n",
        "  return remove_symbol(text)"
      ],
      "metadata": {
        "id": "DzUQbVBKoXUt"
      },
      "execution_count": 57,
      "outputs": []
    },
    {
      "cell_type": "code",
      "source": [
        "ls1 = ['a','b','c']\n",
        "ls2 = ['a','d','b']\n",
        "ls1+ls2"
      ],
      "metadata": {
        "colab": {
          "base_uri": "https://localhost:8080/"
        },
        "id": "_vz9X7TPn8Bt",
        "outputId": "e1b518b1-e176-4581-98b3-c6fee0dddeda"
      },
      "execution_count": 58,
      "outputs": [
        {
          "output_type": "execute_result",
          "data": {
            "text/plain": [
              "['a', 'b', 'c', 'a', 'd', 'b']"
            ]
          },
          "metadata": {},
          "execution_count": 58
        }
      ]
    },
    {
      "cell_type": "code",
      "source": [
        "ls = []\n",
        "no=0\n",
        "for news in jdata['items']:\n",
        "  no+=1\n",
        "  t_ls = remove_html(news['title']).split(' ')\n",
        "  d_ls = remove_html(news['description']).split(' ')\n",
        "  ls += t_ls\n",
        "  ls += d_ls\n",
        "print(ls)"
      ],
      "metadata": {
        "colab": {
          "base_uri": "https://localhost:8080/"
        },
        "id": "enZeYOFJnKn_",
        "outputId": "fe0cb135-578c-40c5-e24f-887fc7b73421"
      },
      "execution_count": 59,
      "outputs": [
        {
          "output_type": "stream",
          "name": "stdout",
          "text": [
            "['대법원', '재판연구관', '출신', '30명', '중', '9명', '김앤장으로', '법률신문', '', '2018년', '3월부터', '올', '3월까지', '근무', '295명', '전수조사', '김명수', '코트', '출범', '후', '법원을', '떠난', '대법원', '재판연구관', '30명을', '프로그래밍', '언어인', '', 'apos', '파이썬', 'PYTHON', '', 'apos', '으로', '사회연결망', '분석', 'SNA', '', 'Social', 'Network', 'Analysis', '', '툴을', '짜서', '', '', '', '', '법원', '떠난', '재판연구관', '총', '30명', '중', '83', '가', '로펌', '선택', '법률신문은', '사회관계망분석', 'SNA', '', '프로그램인', '', 'apos', '파이썬', 'PYTHON', '', 'apos', '을', '활용해', '2018년', '3월부터', '2022년', '3월까지', '법원을', '떠난', '대법원', '재판연구관들의', '현재', '직장과', '로펌', '', '대법원과의', '관계성을', '국내', '언론', '최초로', '분석했다', '', '그', '결과', '이', '', '', '', '', '', 'quot', 'AI', '', '어렵지', '않아요', '', '놀이하다보면', '저절로', 'AI인재로', 'quot', '', '', '', '', 'apos', '놀면서', '배우는', '인공지', '', '', '', '국립어린이청소년도서관', '', '삼성', '드림클래스', '', '삼성', '주니어', '소프트웨어', '', '두산', '투모로우랩', '', '포스코', 'ICT', '코딩', '꿈나무', '교실', '', '성동', '4차산업혁명센터', '', '영재학급', '등에서', 'AI', '코딩', '', '피지컬컴퓨팅', '', '파이썬', '', '3D', '모델링', '등을', '강의했다', '', '과학관에서', '생물과', '환경', '탐구하며', '아름다운', '지구의', '가을', '느껴봐요', '', '언플러그드', '활동에서부터', '블록코딩', '', '파이썬', '프로그래밍으로', '점차', '심화하여', '각', '난이도별', '프로그램이', '', '', '', '또한', '중학생을', '대상으로', '하는', '파이썬', '수업은', '10차시에', '걸쳐', '프로그래밍', '언어를', '배우면서', '수학', '및', '과학', '예제', '작성을', '', '', '', '', '코리아리크루트', '', '시니어', '일자리창출을', '위한', '전문컨설턴트', '양성과정', '평생전문직', '', '', '', '한편', '코리아리크루트', '김대표는', '', 'quot', '4차산업혁명', '시대를', '주도할', 'AI', '인공지능', '빅데이터', '딥러닝', '머신러닝', '파이썬', '', '빅데이터', '메타버스', '스마트팩토리', '등', '외에도', '6차산업인', '스마트팜', '탄소중립', '그린에너지', '바이오', '해양바이오', '반도체', '', '', '', '', 'AMD', '', 'RosCon', '2022', '참가', '로보틱스', '혁신', '위한', '솔루션', '선보여', '핑크', 'PYNQ', '는', '개발자가', '파이썬', 'Python', '', '코드를', '작성하여', 'AMD', '자일링스', 'AMD', 'Xilinx', '', '플랫폼과', '상호', '작용할', '수', '있도록', '지원하는', 'AMD', '자일링스의', '오픈소스', '하드웨어', '소프트웨어', '프레임워크입니다', '', '크리아', '', '', '', '', '美', '하버드대학교', '인증', '프로그래밍', '과정', 'Top10', '언어에는', 'C', '', '파이썬', 'Python', '', '', 'SQL', '', '자바스트립트', 'JavaScript', '', '', 'CSS', '', 'HTML이', '포함된다', '', 'CS50', '이해', '매일', '기술을', '', '', '', 'CS50', '파이썬', '프로그래밍', '입문', '파이썬을', '사용해', '프로그래밍하는', '방법을', '소개한다', '', '코드를', '읽고', '쓰는', '방법과', '', '', '', '', '20대는', '김초엽', '우리가', '빛의', '속도로', '갈', '수', '없다면', '', '30대는', '오은영', '', '차상미', '', '', '', '', '특히', '경영관리와', '프로그래밍', '분야에서는', '자기소개서', '작성이나', '파이썬', 'Python', '', '등', '취업', '관련', '도서가', '주로', '차지하였다', '', '반면', '30대의', '대출', '분야는', '육아', '유아', '및', '초등교육', '', '금융', '', '식품과', '식료', '순이며', '', '금융을', '제외한', '', '', '', '', '', '온라인', '교육', '영토', '확장하는', '교수들', '', '윤태진', '성신여대', '교수', '', '', 'quot', '파이썬', 'Python', '', '', '', '그는', '', 'quot', '해외에서', '박사', '과정을', '밟으면서', '우연히', '배우게', '된', '파이썬이', '학위', '과정에', '많은', '도움이', '됐다', 'quot', '며', '', 'quot', '학문으로서', '파이썬이', '아닌', '실용적인', '도구로써', '파이썬을', '배우게', '된다면', '학생들도', '많은', '도움이', '될', '것', 'quot', '이라고', '강조했다', '', '', '', '', '', '목포대', '', '전라남도', '고교생', '대상', '2022년', 'AI', '빅데이터', '인재', '양성', '교육', '목포대', 'AI', '빅데이터', '인재', '양성', '교육', '수료', '이번', '과정은', '4차', '산업혁명', '시대를', '대비해', '전라남도', '지역의', '학생들에게', '최신', '빅데이터', '및', '인공지능기술', '이해를', '위한', '파이썬', '프로그래밍', '', '빅데이터', '분석', '', '인공지능', '이론', '및', '실습', '', '', '', '']\n"
          ]
        }
      ]
    },
    {
      "cell_type": "code",
      "source": [
        "import pandas as pd\n",
        "s = pd.Series(ls)\n",
        "vc =s .value_counts()\n",
        "for i,v in zip(vc.index,vc.values):\n",
        "  print(i,\":\",v)"
      ],
      "metadata": {
        "colab": {
          "base_uri": "https://localhost:8080/"
        },
        "id": "6MQgfEGsoLUU",
        "outputId": "c7c48a7a-3943-45b2-edcc-3488c5b39932"
      },
      "execution_count": 60,
      "outputs": [
        {
          "output_type": "stream",
          "name": "stdout",
          "text": [
            " : 117\n",
            "파이썬 : 12\n",
            "quot : 8\n",
            "빅데이터 : 6\n",
            "프로그래밍 : 6\n",
            "apos : 5\n",
            "AI : 5\n",
            "AMD : 4\n",
            "Python : 4\n",
            "및 : 4\n",
            "위한 : 3\n",
            "재판연구관 : 3\n",
            "떠난 : 3\n",
            "대법원 : 3\n",
            "교육 : 3\n",
            "코리아리크루트 : 2\n",
            "코딩 : 2\n",
            "등 : 2\n",
            "로펌 : 2\n",
            "소프트웨어 : 2\n",
            "파이썬을 : 2\n",
            "삼성 : 2\n",
            "인공지능 : 2\n",
            "전라남도 : 2\n",
            "CS50 : 2\n",
            "시대를 : 2\n",
            "2022년 : 2\n",
            "많은 : 2\n",
            "파이썬이 : 2\n",
            "배우게 : 2\n",
            "목포대 : 2\n",
            "도움이 : 2\n",
            "SNA : 2\n",
            "양성 : 2\n",
            "3월부터 : 2\n",
            "분석 : 2\n",
            "3월까지 : 2\n",
            "코드를 : 2\n",
            "중 : 2\n",
            "수 : 2\n",
            "30명 : 2\n",
            "법원을 : 2\n",
            "2018년 : 2\n",
            "인재 : 2\n",
            "PYTHON : 2\n",
            "갈 : 1\n",
            "차상미 : 1\n",
            "자일링스 : 1\n",
            "오은영 : 1\n",
            "기술을 : 1\n",
            "30대는 : 1\n",
            "입문 : 1\n",
            "작성하여 : 1\n",
            "없다면 : 1\n",
            "사용해 : 1\n",
            "프로그래밍하는 : 1\n",
            "우리가 : 1\n",
            "방법을 : 1\n",
            "소개한다 : 1\n",
            "속도로 : 1\n",
            "읽고 : 1\n",
            "빛의 : 1\n",
            "매일 : 1\n",
            "방법과 : 1\n",
            "20대는 : 1\n",
            "김초엽 : 1\n",
            "쓰는 : 1\n",
            "HTML이 : 1\n",
            "이해 : 1\n",
            "포함된다 : 1\n",
            "오픈소스 : 1\n",
            "하드웨어 : 1\n",
            "자일링스의 : 1\n",
            "프레임워크입니다 : 1\n",
            "크리아 : 1\n",
            "美 : 1\n",
            "하버드대학교 : 1\n",
            "인증 : 1\n",
            "과정 : 1\n",
            "경영관리와 : 1\n",
            "지원하는 : 1\n",
            "있도록 : 1\n",
            "Top10 : 1\n",
            "언어에는 : 1\n",
            "C : 1\n",
            "작용할 : 1\n",
            "SQL : 1\n",
            "자바스트립트 : 1\n",
            "상호 : 1\n",
            "JavaScript : 1\n",
            "CSS : 1\n",
            "플랫폼과 : 1\n",
            "Xilinx : 1\n",
            "특히 : 1\n",
            "초등교육 : 1\n",
            "분야에서는 : 1\n",
            "자기소개서 : 1\n",
            "된 : 1\n",
            "학위 : 1\n",
            "과정에 : 1\n",
            "됐다 : 1\n",
            "며 : 1\n",
            "학문으로서 : 1\n",
            "아닌 : 1\n",
            "실용적인 : 1\n",
            "도구로써 : 1\n",
            "된다면 : 1\n",
            "학생들도 : 1\n",
            "될 : 1\n",
            "것 : 1\n",
            "이라고 : 1\n",
            "강조했다 : 1\n",
            "고교생 : 1\n",
            "대상 : 1\n",
            "수료 : 1\n",
            "이번 : 1\n",
            "과정은 : 1\n",
            "4차 : 1\n",
            "산업혁명 : 1\n",
            "대비해 : 1\n",
            "지역의 : 1\n",
            "학생들에게 : 1\n",
            "최신 : 1\n",
            "인공지능기술 : 1\n",
            "이해를 : 1\n",
            "이론 : 1\n",
            "우연히 : 1\n",
            "밟으면서 : 1\n",
            "과정을 : 1\n",
            "금융 : 1\n",
            "작성이나 : 1\n",
            "취업 : 1\n",
            "관련 : 1\n",
            "도서가 : 1\n",
            "주로 : 1\n",
            "차지하였다 : 1\n",
            "반면 : 1\n",
            "30대의 : 1\n",
            "대출 : 1\n",
            "분야는 : 1\n",
            "육아 : 1\n",
            "유아 : 1\n",
            "는 : 1\n",
            "식품과 : 1\n",
            "박사 : 1\n",
            "식료 : 1\n",
            "순이며 : 1\n",
            "금융을 : 1\n",
            "제외한 : 1\n",
            "온라인 : 1\n",
            "영토 : 1\n",
            "확장하는 : 1\n",
            "교수들 : 1\n",
            "윤태진 : 1\n",
            "성신여대 : 1\n",
            "교수 : 1\n",
            "그는 : 1\n",
            "해외에서 : 1\n",
            "개발자가 : 1\n",
            "스마트팜 : 1\n",
            "PYNQ : 1\n",
            "영재학급 : 1\n",
            "현재 : 1\n",
            "직장과 : 1\n",
            "대법원과의 : 1\n",
            "관계성을 : 1\n",
            "국내 : 1\n",
            "언론 : 1\n",
            "최초로 : 1\n",
            "분석했다 : 1\n",
            "그 : 1\n",
            "결과 : 1\n",
            "이 : 1\n",
            "어렵지 : 1\n",
            "않아요 : 1\n",
            "놀이하다보면 : 1\n",
            "저절로 : 1\n",
            "AI인재로 : 1\n",
            "놀면서 : 1\n",
            "배우는 : 1\n",
            "인공지 : 1\n",
            "국립어린이청소년도서관 : 1\n",
            "드림클래스 : 1\n",
            "주니어 : 1\n",
            "두산 : 1\n",
            "투모로우랩 : 1\n",
            "포스코 : 1\n",
            "ICT : 1\n",
            "꿈나무 : 1\n",
            "교실 : 1\n",
            "성동 : 1\n",
            "재판연구관들의 : 1\n",
            "활용해 : 1\n",
            "을 : 1\n",
            "언어인 : 1\n",
            "출신 : 1\n",
            "9명 : 1\n",
            "김앤장으로 : 1\n",
            "법률신문 : 1\n",
            "올 : 1\n",
            "근무 : 1\n",
            "295명 : 1\n",
            "전수조사 : 1\n",
            "김명수 : 1\n",
            "코트 : 1\n",
            "출범 : 1\n",
            "후 : 1\n",
            "30명을 : 1\n",
            "으로 : 1\n",
            "프로그램인 : 1\n",
            "사회연결망 : 1\n",
            "Social : 1\n",
            "Network : 1\n",
            "Analysis : 1\n",
            "툴을 : 1\n",
            "짜서 : 1\n",
            "법원 : 1\n",
            "총 : 1\n",
            "83 : 1\n",
            "가 : 1\n",
            "선택 : 1\n",
            "법률신문은 : 1\n",
            "사회관계망분석 : 1\n",
            "4차산업혁명센터 : 1\n",
            "등에서 : 1\n",
            "핑크 : 1\n",
            "피지컬컴퓨팅 : 1\n",
            "예제 : 1\n",
            "작성을 : 1\n",
            "시니어 : 1\n",
            "일자리창출을 : 1\n",
            "전문컨설턴트 : 1\n",
            "양성과정 : 1\n",
            "평생전문직 : 1\n",
            "한편 : 1\n",
            "김대표는 : 1\n",
            "4차산업혁명 : 1\n",
            "주도할 : 1\n",
            "딥러닝 : 1\n",
            "머신러닝 : 1\n",
            "메타버스 : 1\n",
            "스마트팩토리 : 1\n",
            "외에도 : 1\n",
            "6차산업인 : 1\n",
            "탄소중립 : 1\n",
            "그린에너지 : 1\n",
            "바이오 : 1\n",
            "해양바이오 : 1\n",
            "반도체 : 1\n",
            "RosCon : 1\n",
            "2022 : 1\n",
            "참가 : 1\n",
            "로보틱스 : 1\n",
            "혁신 : 1\n",
            "솔루션 : 1\n",
            "선보여 : 1\n",
            "과학 : 1\n",
            "수학 : 1\n",
            "배우면서 : 1\n",
            "활동에서부터 : 1\n",
            "3D : 1\n",
            "모델링 : 1\n",
            "등을 : 1\n",
            "강의했다 : 1\n",
            "과학관에서 : 1\n",
            "생물과 : 1\n",
            "환경 : 1\n",
            "탐구하며 : 1\n",
            "아름다운 : 1\n",
            "지구의 : 1\n",
            "가을 : 1\n",
            "느껴봐요 : 1\n",
            "언플러그드 : 1\n",
            "블록코딩 : 1\n",
            "언어를 : 1\n",
            "프로그래밍으로 : 1\n",
            "점차 : 1\n",
            "심화하여 : 1\n",
            "각 : 1\n",
            "난이도별 : 1\n",
            "프로그램이 : 1\n",
            "또한 : 1\n",
            "중학생을 : 1\n",
            "대상으로 : 1\n",
            "하는 : 1\n",
            "수업은 : 1\n",
            "10차시에 : 1\n",
            "걸쳐 : 1\n",
            "실습 : 1\n"
          ]
        }
      ]
    },
    {
      "cell_type": "code",
      "source": [
        "text1 = '힣'\n",
        "query1 = urllib.parse.quote(text1)\n",
        "print(query1)\n",
        "text2 = '힣'\n",
        "query2 = urllib.parse.quote(text2)\n",
        "print(query2)"
      ],
      "metadata": {
        "colab": {
          "base_uri": "https://localhost:8080/"
        },
        "id": "o-97wp_ao0iH",
        "outputId": "988629d9-6799-4076-f2cf-5efec296c1c0"
      },
      "execution_count": 44,
      "outputs": [
        {
          "output_type": "stream",
          "name": "stdout",
          "text": [
            "%ED%9E%A3\n",
            "%ED%9E%A3\n"
          ]
        }
      ]
    },
    {
      "cell_type": "code",
      "source": [
        "query_str = site_url+\"?\"+\"query=\"+query\n",
        "print(query_str)"
      ],
      "metadata": {
        "colab": {
          "base_uri": "https://localhost:8080/"
        },
        "id": "20ku3t7fwh8C",
        "outputId": "f11a6e1d-b3ef-48f2-fc01-ca009da39717"
      },
      "execution_count": 83,
      "outputs": [
        {
          "output_type": "stream",
          "name": "stdout",
          "text": [
            "https://openapi.naver.com/v1/search/news.json?query=%ED%8C%8C%EC%9D%B4%EC%8D%AC\n"
          ]
        }
      ]
    },
    {
      "cell_type": "code",
      "source": [
        "def news_count(query): #질의에 해당하는 전체 뉴스 개수 구하는 함수\n",
        "  query = urllib.parse.quote(query) #utf-8로 쿼리를 인코딩\n",
        "  site_url = \"https://openapi.naver.com/v1/search/news.json\"\n",
        "  query_str = site_url+\"?query=\"+query #쿼리 문자열\n",
        "  request = urllib.request.Request(query_str) #웹 요청 개체 생성\n",
        "  request.add_header(\"X-Naver-Client-Id\",client_id)\n",
        "  request.add_header(\"X-Naver-Client-Secret\",client_secret)\n",
        "  response = urllib.request.urlopen(request) #웹 서버에 요청(웹 크롤링)\n",
        "  if response.getcode()!=200:\n",
        "    return 0\n",
        "  data = response.read() #응답 결과를 binary 데이터로 읽기\n",
        "  dec_data = data.decode(\"utf-8\")\n",
        "  j_data = json.loads(dec_data)\n",
        "  return int(j_data['total'])"
      ],
      "metadata": {
        "id": "ut23bBrJwnS_"
      },
      "execution_count": 84,
      "outputs": []
    },
    {
      "cell_type": "code",
      "source": [
        "text = input(\"질의\")\n",
        "print(news_count(text))"
      ],
      "metadata": {
        "colab": {
          "base_uri": "https://localhost:8080/"
        },
        "id": "f0VsrQ9nwwVb",
        "outputId": "7b269a68-3ac0-4d74-a0b6-a413348aba7c"
      },
      "execution_count": 68,
      "outputs": [
        {
          "output_type": "stream",
          "name": "stdout",
          "text": [
            "질의홍혁기\n",
            "562\n"
          ]
        }
      ]
    },
    {
      "cell_type": "code",
      "source": [
        "class MyNews:\n",
        "  def __init__(self,news):\n",
        "    self.title = news['title']\n",
        "    self.discription = news['discription']\n",
        "    self.link = news['link']"
      ],
      "metadata": {
        "id": "OWp16LRTzTuC"
      },
      "execution_count": 85,
      "outputs": []
    },
    {
      "cell_type": "code",
      "source": [
        "def get_news(query): #질의에 해당하는 뉴스를 얻어오는 함수\n",
        "  total = news_count(query) #전체 요소 개수를 얻어온다.\n",
        "  rcnt = 0\n",
        "  start = 0\n",
        "  display = 100\n",
        "  re = [] #반환할 뉴스 컬렉션\n",
        "  query = urllib.parse.quote(query) #urf-8로 쿼리를 인코딩\n",
        "  while (rcnt<total)and(start<100):\n",
        "    start += 1\n",
        "    site_url = 'https://openapi.naver.com/v1/search/news.json'\n",
        "    query_str = site_url+\"?query=\"+query+\"&start=\"+str(start)+\"&display=\"+str(display) #쿼리 문자열\n",
        "    print(query_str)\n",
        "    request = urllib.request.Request(query_str) #웹 요청 개체 생성\n",
        "    request.add_header(\"X-Naver-Client-Id\",client_id)\n",
        "    request.add_header(\"X-Naver-Client-Secret\",client_secret)\n",
        "    response = urllib.request.urlopen(request) #웹 서버에 요청(웹 크롤링)\n",
        "    if response.getcode()!=200:\n",
        "      return re\n",
        "    data = response.read() #응답 결과를 binary 데이터로 읽기\n",
        "    dec_data = data.decode('utf-8')\n",
        "    j_data = json.loads(dec_data) # 디코딩한 결과 json데이터로 바꾸기\n",
        "    for news in j_data['items']:\n",
        "      re.append(MyNews(news))\n",
        "    rcnt +=len(j_data['items'])\n",
        "  return re"
      ],
      "metadata": {
        "id": "m0qTrjS2yjZU"
      },
      "execution_count": 89,
      "outputs": []
    },
    {
      "cell_type": "code",
      "source": [
        "text = input(\"질의 : \")\n",
        "for news in get_news(text):\n",
        "  print(news.title)"
      ],
      "metadata": {
        "colab": {
          "base_uri": "https://localhost:8080/",
          "height": 418
        },
        "id": "zdbYdSQDz_83",
        "outputId": "6593c156-0df3-43b2-bece-77ea0d136c51"
      },
      "execution_count": 90,
      "outputs": [
        {
          "name": "stdout",
          "output_type": "stream",
          "text": [
            "질의 : 카카오\n"
          ]
        },
        {
          "output_type": "error",
          "ename": "RecursionError",
          "evalue": "ignored",
          "traceback": [
            "\u001b[0;31m---------------------------------------------------------------------------\u001b[0m",
            "\u001b[0;31mRecursionError\u001b[0m                            Traceback (most recent call last)",
            "\u001b[0;32m<ipython-input-90-06cb015e9761>\u001b[0m in \u001b[0;36m<module>\u001b[0;34m\u001b[0m\n\u001b[1;32m      1\u001b[0m \u001b[0mtext\u001b[0m \u001b[0;34m=\u001b[0m \u001b[0minput\u001b[0m\u001b[0;34m(\u001b[0m\u001b[0;34m\"질의 : \"\u001b[0m\u001b[0;34m)\u001b[0m\u001b[0;34m\u001b[0m\u001b[0;34m\u001b[0m\u001b[0m\n\u001b[0;32m----> 2\u001b[0;31m \u001b[0;32mfor\u001b[0m \u001b[0mnews\u001b[0m \u001b[0;32min\u001b[0m \u001b[0mget_news\u001b[0m\u001b[0;34m(\u001b[0m\u001b[0mtext\u001b[0m\u001b[0;34m)\u001b[0m\u001b[0;34m:\u001b[0m\u001b[0;34m\u001b[0m\u001b[0;34m\u001b[0m\u001b[0m\n\u001b[0m\u001b[1;32m      3\u001b[0m   \u001b[0mprint\u001b[0m\u001b[0;34m(\u001b[0m\u001b[0mnews\u001b[0m\u001b[0;34m.\u001b[0m\u001b[0mtitle\u001b[0m\u001b[0;34m)\u001b[0m\u001b[0;34m\u001b[0m\u001b[0;34m\u001b[0m\u001b[0m\n",
            "\u001b[0;32m<ipython-input-89-f2bb0a6ceb40>\u001b[0m in \u001b[0;36mget_news\u001b[0;34m(query)\u001b[0m\n\u001b[1;32m      1\u001b[0m \u001b[0;32mdef\u001b[0m \u001b[0mget_news\u001b[0m\u001b[0;34m(\u001b[0m\u001b[0mquery\u001b[0m\u001b[0;34m)\u001b[0m\u001b[0;34m:\u001b[0m \u001b[0;31m#질의에 해당하는 뉴스를 얻어오는 함수\u001b[0m\u001b[0;34m\u001b[0m\u001b[0;34m\u001b[0m\u001b[0m\n\u001b[0;32m----> 2\u001b[0;31m   \u001b[0mtotal\u001b[0m \u001b[0;34m=\u001b[0m \u001b[0mnews_count\u001b[0m\u001b[0;34m(\u001b[0m\u001b[0mquery\u001b[0m\u001b[0;34m)\u001b[0m \u001b[0;31m#전체 요소 개수를 얻어온다.\u001b[0m\u001b[0;34m\u001b[0m\u001b[0;34m\u001b[0m\u001b[0m\n\u001b[0m\u001b[1;32m      3\u001b[0m   \u001b[0mrcnt\u001b[0m \u001b[0;34m=\u001b[0m \u001b[0;36m0\u001b[0m\u001b[0;34m\u001b[0m\u001b[0;34m\u001b[0m\u001b[0m\n\u001b[1;32m      4\u001b[0m   \u001b[0mstart\u001b[0m \u001b[0;34m=\u001b[0m \u001b[0;36m0\u001b[0m\u001b[0;34m\u001b[0m\u001b[0;34m\u001b[0m\u001b[0m\n\u001b[1;32m      5\u001b[0m   \u001b[0mdisplay\u001b[0m \u001b[0;34m=\u001b[0m \u001b[0;36m100\u001b[0m\u001b[0;34m\u001b[0m\u001b[0;34m\u001b[0m\u001b[0m\n",
            "\u001b[0;32m<ipython-input-86-ad7dd9997299>\u001b[0m in \u001b[0;36mnews_count\u001b[0;34m(query, start, display)\u001b[0m\n\u001b[1;32m      1\u001b[0m \u001b[0;32mdef\u001b[0m \u001b[0mnews_count\u001b[0m\u001b[0;34m(\u001b[0m\u001b[0mquery\u001b[0m\u001b[0;34m,\u001b[0m \u001b[0mstart\u001b[0m\u001b[0;34m=\u001b[0m\u001b[0;36m1\u001b[0m\u001b[0;34m,\u001b[0m \u001b[0mdisplay\u001b[0m\u001b[0;34m=\u001b[0m\u001b[0;36m10\u001b[0m\u001b[0;34m)\u001b[0m\u001b[0;34m:\u001b[0m \u001b[0;31m#질의에 해당하는 뉴스를 얻어오는 함수\u001b[0m\u001b[0;34m\u001b[0m\u001b[0;34m\u001b[0m\u001b[0m\n\u001b[0;32m----> 2\u001b[0;31m   \u001b[0mtotal\u001b[0m \u001b[0;34m=\u001b[0m \u001b[0mnews_count\u001b[0m\u001b[0;34m(\u001b[0m\u001b[0mquery\u001b[0m\u001b[0;34m)\u001b[0m \u001b[0;31m# 전체 요소 개수를 얻어온다.\u001b[0m\u001b[0;34m\u001b[0m\u001b[0;34m\u001b[0m\u001b[0m\n\u001b[0m\u001b[1;32m      3\u001b[0m   \u001b[0mquery\u001b[0m \u001b[0;34m=\u001b[0m \u001b[0murllib\u001b[0m\u001b[0;34m.\u001b[0m\u001b[0mparse\u001b[0m\u001b[0;34m.\u001b[0m\u001b[0mquote\u001b[0m\u001b[0;34m(\u001b[0m\u001b[0mquery\u001b[0m\u001b[0;34m)\u001b[0m \u001b[0;31m# uft-8로 쿼리를 인코딩\u001b[0m\u001b[0;34m\u001b[0m\u001b[0;34m\u001b[0m\u001b[0m\n\u001b[1;32m      4\u001b[0m   \u001b[0mrcnt\u001b[0m\u001b[0;34m=\u001b[0m\u001b[0;36m0\u001b[0m\u001b[0;34m\u001b[0m\u001b[0;34m\u001b[0m\u001b[0m\n\u001b[1;32m      5\u001b[0m   \u001b[0mstart\u001b[0m \u001b[0;34m=\u001b[0m \u001b[0;36m0\u001b[0m\u001b[0;34m\u001b[0m\u001b[0;34m\u001b[0m\u001b[0m\n",
            "... last 1 frames repeated, from the frame below ...\n",
            "\u001b[0;32m<ipython-input-86-ad7dd9997299>\u001b[0m in \u001b[0;36mnews_count\u001b[0;34m(query, start, display)\u001b[0m\n\u001b[1;32m      1\u001b[0m \u001b[0;32mdef\u001b[0m \u001b[0mnews_count\u001b[0m\u001b[0;34m(\u001b[0m\u001b[0mquery\u001b[0m\u001b[0;34m,\u001b[0m \u001b[0mstart\u001b[0m\u001b[0;34m=\u001b[0m\u001b[0;36m1\u001b[0m\u001b[0;34m,\u001b[0m \u001b[0mdisplay\u001b[0m\u001b[0;34m=\u001b[0m\u001b[0;36m10\u001b[0m\u001b[0;34m)\u001b[0m\u001b[0;34m:\u001b[0m \u001b[0;31m#질의에 해당하는 뉴스를 얻어오는 함수\u001b[0m\u001b[0;34m\u001b[0m\u001b[0;34m\u001b[0m\u001b[0m\n\u001b[0;32m----> 2\u001b[0;31m   \u001b[0mtotal\u001b[0m \u001b[0;34m=\u001b[0m \u001b[0mnews_count\u001b[0m\u001b[0;34m(\u001b[0m\u001b[0mquery\u001b[0m\u001b[0;34m)\u001b[0m \u001b[0;31m# 전체 요소 개수를 얻어온다.\u001b[0m\u001b[0;34m\u001b[0m\u001b[0;34m\u001b[0m\u001b[0m\n\u001b[0m\u001b[1;32m      3\u001b[0m   \u001b[0mquery\u001b[0m \u001b[0;34m=\u001b[0m \u001b[0murllib\u001b[0m\u001b[0;34m.\u001b[0m\u001b[0mparse\u001b[0m\u001b[0;34m.\u001b[0m\u001b[0mquote\u001b[0m\u001b[0;34m(\u001b[0m\u001b[0mquery\u001b[0m\u001b[0;34m)\u001b[0m \u001b[0;31m# uft-8로 쿼리를 인코딩\u001b[0m\u001b[0;34m\u001b[0m\u001b[0;34m\u001b[0m\u001b[0m\n\u001b[1;32m      4\u001b[0m   \u001b[0mrcnt\u001b[0m\u001b[0;34m=\u001b[0m\u001b[0;36m0\u001b[0m\u001b[0;34m\u001b[0m\u001b[0;34m\u001b[0m\u001b[0m\n\u001b[1;32m      5\u001b[0m   \u001b[0mstart\u001b[0m \u001b[0;34m=\u001b[0m \u001b[0;36m0\u001b[0m\u001b[0;34m\u001b[0m\u001b[0;34m\u001b[0m\u001b[0m\n",
            "\u001b[0;31mRecursionError\u001b[0m: maximum recursion depth exceeded"
          ]
        }
      ]
    }
  ]
}