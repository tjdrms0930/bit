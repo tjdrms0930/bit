{
  "nbformat": 4,
  "nbformat_minor": 0,
  "metadata": {
    "colab": {
      "provenance": [],
      "authorship_tag": "ABX9TyPNLIhaYSQjS3OZrdeYslTv",
      "include_colab_link": true
    },
    "kernelspec": {
      "name": "python3",
      "display_name": "Python 3"
    },
    "language_info": {
      "name": "python"
    }
  },
  "cells": [
    {
      "cell_type": "markdown",
      "metadata": {
        "id": "view-in-github",
        "colab_type": "text"
      },
      "source": [
        "<a href=\"https://colab.research.google.com/github/tjdrms0930/bit/blob/main/Chapter11.ipynb\" target=\"_parent\"><img src=\"https://colab.research.google.com/assets/colab-badge.svg\" alt=\"Open In Colab\"/></a>"
      ]
    },
    {
      "cell_type": "code",
      "source": [
        "import pandas as pd\n",
        "import matplotlib.pyplot as plt\n",
        "import seaborn as sns"
      ],
      "metadata": {
        "id": "r8e4zgWNY8Oy"
      },
      "execution_count": null,
      "outputs": []
    },
    {
      "cell_type": "code",
      "source": [
        "df = pd.read_csv('data/pima-indians-diabetes3.csv')"
      ],
      "metadata": {
        "id": "7zcZj-VOY-ja"
      },
      "execution_count": null,
      "outputs": []
    },
    {
      "cell_type": "code",
      "source": [
        "df.head()"
      ],
      "metadata": {
        "id": "YlRW7RBnZAB_"
      },
      "execution_count": null,
      "outputs": []
    },
    {
      "cell_type": "code",
      "source": [
        "df.info()"
      ],
      "metadata": {
        "id": "8tA_TnDCZBIo"
      },
      "execution_count": null,
      "outputs": []
    },
    {
      "cell_type": "code",
      "source": [
        "df['diabetes'].value_counts()"
      ],
      "metadata": {
        "id": "Y4xafmYIZCdR"
      },
      "execution_count": null,
      "outputs": []
    },
    {
      "cell_type": "code",
      "source": [
        "df.corr()"
      ],
      "metadata": {
        "id": "WzHYjRJSZDiJ"
      },
      "execution_count": null,
      "outputs": []
    },
    {
      "cell_type": "code",
      "source": [
        "colormap = plt.cm.gist_heat\n",
        "plt.figure(figsize=(12, 12))\n",
        "sns.heatmap(df.corr(), linewidths=0.1, vmax=0.5, cmap=colormap,\n",
        "           linecolor='white', annot=True)\n",
        "plt.show()"
      ],
      "metadata": {
        "id": "n5NQLqixZEqY"
      },
      "execution_count": null,
      "outputs": []
    },
    {
      "cell_type": "code",
      "source": [
        "plt.hist(x=[df.plasma[df.diabetes==0], df.plasma[df.diabetes==1]],\n",
        "        bins=30, histtype='barstacked', label=['normal', 'diabetes'])\n",
        "plt.legend()\n",
        "plt.show()"
      ],
      "metadata": {
        "id": "ffIX19RYZF5C"
      },
      "execution_count": null,
      "outputs": []
    },
    {
      "cell_type": "code",
      "source": [
        "plt.hist(x=[df.bmi[df.diabetes==0], df.bmi[df.diabetes==1]],\n",
        "        bins=30, histtype='barstacked', label=['normal', 'diabetes'])\n",
        "plt.legend()\n",
        "plt.show()"
      ],
      "metadata": {
        "id": "91uNBN25ZHEv"
      },
      "execution_count": null,
      "outputs": []
    },
    {
      "cell_type": "code",
      "source": [
        "from tensorflow.keras import models, layers"
      ],
      "metadata": {
        "id": "tDosmrIDZIA5"
      },
      "execution_count": null,
      "outputs": []
    },
    {
      "cell_type": "code",
      "source": [
        "df.head()"
      ],
      "metadata": {
        "id": "CcZLvq_ZZJG1"
      },
      "execution_count": null,
      "outputs": []
    },
    {
      "cell_type": "code",
      "source": [
        "X = df.iloc[:, :8]\n",
        "y = df.iloc[:, 8]"
      ],
      "metadata": {
        "id": "kLiHbc6gZKBQ"
      },
      "execution_count": null,
      "outputs": []
    },
    {
      "cell_type": "code",
      "source": [
        "print(type(X), type(y))"
      ],
      "metadata": {
        "id": "7QB9_TrNZLPL"
      },
      "execution_count": null,
      "outputs": []
    },
    {
      "cell_type": "code",
      "source": [
        "model = models.Sequential()\n",
        "model.add(layers.Dense(12, input_dim=8, activation='relu', name='dense01'))\n",
        "model.add(layers.Dense(8, activation='relu', name='dense02'))\n",
        "model.add(layers.Dense(1, activation='sigmoid', name='dense03'))"
      ],
      "metadata": {
        "id": "bavWiM_eZMRm"
      },
      "execution_count": null,
      "outputs": []
    },
    {
      "cell_type": "code",
      "source": [
        "model.summary()"
      ],
      "metadata": {
        "id": "szWi4MxgZNUV"
      },
      "execution_count": null,
      "outputs": []
    },
    {
      "cell_type": "code",
      "source": [
        "model.compile(loss='binary_crossentropy', optimizer='adam', metrics=['accuracy'])\n",
        "history = model.fit(X, y, epochs=100, batch_size=5)"
      ],
      "metadata": {
        "id": "t1zo5GYXZORD"
      },
      "execution_count": null,
      "outputs": []
    },
    {
      "cell_type": "code",
      "source": [
        "model_name = 'indian_bob'\n",
        "batch_size = 5\n",
        "params = {'model_name' : model_name,\n",
        "         'input_dimension':8,\n",
        "         'hidden_dimension' : 12,\n",
        "         'output_dimension' : 1}"
      ],
      "metadata": {
        "id": "OIvW-k-_ZPOf"
      },
      "execution_count": null,
      "outputs": []
    },
    {
      "cell_type": "code",
      "source": [
        "import tensorflow as tf"
      ],
      "metadata": {
        "id": "Bq5OPPZYZQo6"
      },
      "execution_count": null,
      "outputs": []
    },
    {
      "cell_type": "code",
      "source": [
        "class IndianBob(tf.keras.Model):\n",
        "    def __init__(self, **kargs):\n",
        "        super(IndianBob, self).__init__(name=kargs['model_name'])\n",
        "        self.fc1 = layers.Dense(kargs['hidden_dimension'],\n",
        "                               input_dim=kargs['input_dimension'],\n",
        "                               activation='relu')\n",
        "        self.fc2 = layers.Dense(kargs['output_dimension'], activation='sigmoid')\n",
        "        \n",
        "    def call(self, x):\n",
        "        x = self.fc1(x)\n",
        "        x = self.fc2(x)\n",
        "        return x"
      ],
      "metadata": {
        "id": "Mx3bqfgkZRkb"
      },
      "execution_count": null,
      "outputs": []
    },
    {
      "cell_type": "code",
      "source": [
        "model = IndianBob(**params)"
      ],
      "metadata": {
        "id": "gtKQkHvlZTyi"
      },
      "execution_count": null,
      "outputs": []
    },
    {
      "cell_type": "code",
      "source": [
        "model.compile(loss='binary_crossentropy', optimizer='adam', metrics=['accuracy'])\n",
        "history = model.fit(X, y, epochs=100, batch_size=batch_size)"
      ],
      "metadata": {
        "id": "Xo9v39-pZUwJ"
      },
      "execution_count": null,
      "outputs": []
    },
    {
      "cell_type": "code",
      "source": [
        "result = model.evaluate(X, y)"
      ],
      "metadata": {
        "id": "qTYGvKiDZVmv"
      },
      "execution_count": null,
      "outputs": []
    },
    {
      "cell_type": "code",
      "source": [
        "print(result[0], result[1]) #0번 손실값 /1번 정확도"
      ],
      "metadata": {
        "id": "ljqBChgIZWi1"
      },
      "execution_count": null,
      "outputs": []
    }
  ]
}