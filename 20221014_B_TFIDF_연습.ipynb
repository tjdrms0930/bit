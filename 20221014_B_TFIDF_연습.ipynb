{
  "nbformat": 4,
  "nbformat_minor": 0,
  "metadata": {
    "colab": {
      "provenance": [],
      "authorship_tag": "ABX9TyMv6ZO204D/ACnbPXiVLan1",
      "include_colab_link": true
    },
    "kernelspec": {
      "name": "python3",
      "display_name": "Python 3"
    },
    "language_info": {
      "name": "python"
    }
  },
  "cells": [
    {
      "cell_type": "markdown",
      "metadata": {
        "id": "view-in-github",
        "colab_type": "text"
      },
      "source": [
        "<a href=\"https://colab.research.google.com/github/tjdrms0930/bit/blob/main/20221014_B_TFIDF_%EC%97%B0%EC%8A%B5.ipynb\" target=\"_parent\"><img src=\"https://colab.research.google.com/assets/colab-badge.svg\" alt=\"Open In Colab\"/></a>"
      ]
    },
    {
      "cell_type": "code",
      "execution_count": 11,
      "metadata": {
        "id": "UAE7PcJVa5QR"
      },
      "outputs": [],
      "source": [
        "#TF-IDF 값 목록을 반환하시오.\n",
        "# 책의 TF-IDF 값은 단어별로 TF-IDF값을 계산한 값의 합으로 한다.\n",
        "def racking(books,query):\n",
        "  query_words = query.split(' ')\n",
        "  scores = np.zeros(len(books))\n",
        "  for qw in query_words:\n",
        "    idf = cal_idf(books, qw)\n",
        "    for bi, book in enumerate(books):\n",
        "       tf = cal_tf(book,qw)\n",
        "       scores[bi]+=tf*idf\n",
        "  return scores"
      ]
    },
    {
      "cell_type": "code",
      "source": [
        "# books = ['i am a boy You are a girl',\n",
        "#          'll est la elle est la ces',\n",
        "#          'korea python fighting']\n",
        "# query = 'la korea'\n",
        "# ranking(books,query)"
      ],
      "metadata": {
        "colab": {
          "base_uri": "https://localhost:8080/",
          "height": 211
        },
        "id": "HgAwYHeqmf5l",
        "outputId": "ae22f333-8de4-4b52-9643-36d65a780580"
      },
      "execution_count": 12,
      "outputs": [
        {
          "output_type": "error",
          "ename": "NameError",
          "evalue": "ignored",
          "traceback": [
            "\u001b[0;31m---------------------------------------------------------------------------\u001b[0m",
            "\u001b[0;31mNameError\u001b[0m                                 Traceback (most recent call last)",
            "\u001b[0;32m<ipython-input-12-43689c553dd9>\u001b[0m in \u001b[0;36m<module>\u001b[0;34m\u001b[0m\n\u001b[1;32m      3\u001b[0m          'korea python fighting']\n\u001b[1;32m      4\u001b[0m \u001b[0mquery\u001b[0m \u001b[0;34m=\u001b[0m \u001b[0;34m'la korea'\u001b[0m\u001b[0;34m\u001b[0m\u001b[0;34m\u001b[0m\u001b[0m\n\u001b[0;32m----> 5\u001b[0;31m \u001b[0mranking\u001b[0m\u001b[0;34m(\u001b[0m\u001b[0mbooks\u001b[0m\u001b[0;34m,\u001b[0m\u001b[0mquery\u001b[0m\u001b[0;34m)\u001b[0m\u001b[0;34m\u001b[0m\u001b[0;34m\u001b[0m\u001b[0m\n\u001b[0m",
            "\u001b[0;31mNameError\u001b[0m: name 'ranking' is not defined"
          ]
        }
      ]
    },
    {
      "cell_type": "markdown",
      "source": [
        "tf = fre_a/total words, fre_a는 문서에 단어가 나오는 빈도수\n"
      ],
      "metadata": {
        "id": "fM1LQamxkf5Y"
      }
    },
    {
      "cell_type": "markdown",
      "source": [
        "idf = log((total doc+1)/(1+fre_b))"
      ],
      "metadata": {
        "id": "jMtFWDYQk3bZ"
      }
    },
    {
      "cell_type": "code",
      "source": [
        "import math\n",
        "import numpy as np"
      ],
      "metadata": {
        "id": "5zNRxWNpjpa6"
      },
      "execution_count": 2,
      "outputs": []
    },
    {
      "cell_type": "code",
      "source": [
        "def cal_idf(books, word):\n",
        "  cnt = 0\n",
        "  for book in books:\n",
        "    words = book.split(' ')\n",
        "\n",
        "    for ew in words:\n",
        "      if ew == word:\n",
        "        cnt+=1\n",
        "        break\n",
        "  print(cnt)\n",
        "  return math.log((len(books)+1)/(1+cnt))"
      ],
      "metadata": {
        "id": "eCGajWwZjsCV"
      },
      "execution_count": 9,
      "outputs": []
    },
    {
      "cell_type": "code",
      "source": [
        "cal_idf(['i am a boy you ara a girl', 'hello world', 'we are girls'],'girl')"
      ],
      "metadata": {
        "colab": {
          "base_uri": "https://localhost:8080/"
        },
        "id": "tMctOCdhkqfy",
        "outputId": "e3b16e4c-c86a-44c5-d07b-a98b1499bc5b"
      },
      "execution_count": 10,
      "outputs": [
        {
          "output_type": "stream",
          "name": "stdout",
          "text": [
            "1\n"
          ]
        },
        {
          "output_type": "execute_result",
          "data": {
            "text/plain": [
              "0.6931471805599453"
            ]
          },
          "metadata": {},
          "execution_count": 10
        }
      ]
    },
    {
      "cell_type": "code",
      "source": [
        "def cal_tf(book,word):\n",
        "  words = book.split(' ')\n",
        "  fre = 0\n",
        "  for ew in words:\n",
        "    if ew == word:\n",
        "      fre+=1\n",
        "  return (fre)/len(words)"
      ],
      "metadata": {
        "id": "y2yB3jx6j8Po"
      },
      "execution_count": 4,
      "outputs": []
    },
    {
      "cell_type": "code",
      "source": [
        "cal_tf('i am a boy you ara a girl', 'girl')"
      ],
      "metadata": {
        "colab": {
          "base_uri": "https://localhost:8080/"
        },
        "id": "JudIKF-rkJJd",
        "outputId": "b03f4b2f-a02a-40ac-db3b-b2a1a6fc612f"
      },
      "execution_count": 7,
      "outputs": [
        {
          "output_type": "execute_result",
          "data": {
            "text/plain": [
              "0.125"
            ]
          },
          "metadata": {},
          "execution_count": 7
        }
      ]
    }
  ]
}